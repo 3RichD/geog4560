{
 "cells": [
  {
   "cell_type": "markdown",
   "id": "9fb08c74",
   "metadata": {
    "slideshow": {
     "slide_type": "slide"
    }
   },
   "source": [
    "# Introduction to Python for Open Source Geocomputation\n",
    "\n",
    "![python](pics/python-logo-master-v3-TM.png)\n",
    "\n",
    "* Instructor: Dr. Wei Kang\n",
    "* Class Location and Time: ENV 336, Mon & Wed 12:30 pm - 1:50 pm\n",
    "\n",
    "Content:\n",
    "\n",
    "* Arguments in Functions\n",
    "    * positional\n",
    "    * keyword\n",
    "    * variable length arguments"
   ]
  },
  {
   "cell_type": "markdown",
   "id": "9f7b8cfc",
   "metadata": {
    "slideshow": {
     "slide_type": "slide"
    }
   },
   "source": [
    "# Functions \n",
    "\n",
    "Functions are ways we can extend Python by writing code to add functionality\n",
    "that we would like to **reuse**. \n",
    "\n",
    "<img src=\"pics/Function_anatomy-400.png\" width=\"300\">\n",
    "\n",
    "* Required:\n",
    "    * function keyword `def`\n",
    "    * function name \n",
    "    * solution: statements/expressions\n",
    "* Optional\n",
    "    * Argument(s) (input)/parameters\n",
    "        * Arguments: values passed to the function\n",
    "        * Parameters: variables in the function that were assigned to by arguments\n",
    "    * Return values (output)"
   ]
  },
  {
   "cell_type": "markdown",
   "id": "cd1465de",
   "metadata": {
    "slideshow": {
     "slide_type": "subslide"
    }
   },
   "source": [
    "## Function Argument Types\n",
    "\n",
    "* positional (what we have defined so far)\n",
    "* keyword\n",
    "* variable length positional\n",
    "* variable length keyword"
   ]
  },
  {
   "cell_type": "markdown",
   "id": "b3ffc9ef",
   "metadata": {
    "slideshow": {
     "slide_type": "subslide"
    }
   },
   "source": [
    "### Positional Arguments\n",
    "\n",
    "```python\n",
    "def power_positional(x, exponent):\n",
    "     return x**exponent\n",
    "```\n",
    "\n",
    "\n",
    "* The position of each positional argument is critical\n",
    "    * `power_positional(2,3)` is different from `power_positional(3,2)`\n",
    "    * the first argument passed in the funciton is assigned to the local variable `x`\n",
    "    * the second argument passed in the funciton is assigned to the local variable `exponent`\n",
    "* Positional arguments are **required** \n",
    "    * `power_positional(3)` will throw an error"
   ]
  },
  {
   "cell_type": "code",
   "execution_count": 7,
   "id": "85d741f1",
   "metadata": {},
   "outputs": [],
   "source": [
    "def power_positional(x, exponent):\n",
    "     return x**exponent"
   ]
  },
  {
   "cell_type": "code",
   "execution_count": 8,
   "id": "d465e8d7",
   "metadata": {},
   "outputs": [
    {
     "data": {
      "text/plain": [
       "8"
      ]
     },
     "execution_count": 8,
     "metadata": {},
     "output_type": "execute_result"
    }
   ],
   "source": [
    "power_positional(x=2, exponent=3)"
   ]
  },
  {
   "cell_type": "code",
   "execution_count": 2,
   "id": "8a021310",
   "metadata": {},
   "outputs": [
    {
     "data": {
      "text/plain": [
       "8"
      ]
     },
     "execution_count": 2,
     "metadata": {},
     "output_type": "execute_result"
    }
   ],
   "source": [
    "power_positional(2, 3)"
   ]
  },
  {
   "cell_type": "code",
   "execution_count": 3,
   "id": "9dfd5413",
   "metadata": {},
   "outputs": [
    {
     "data": {
      "text/plain": [
       "9"
      ]
     },
     "execution_count": 3,
     "metadata": {},
     "output_type": "execute_result"
    }
   ],
   "source": [
    "power_positional(3, 2)"
   ]
  },
  {
   "cell_type": "code",
   "execution_count": 4,
   "id": "d0f10cb9",
   "metadata": {},
   "outputs": [
    {
     "ename": "TypeError",
     "evalue": "power_positional() missing 1 required positional argument: 'exponent'",
     "output_type": "error",
     "traceback": [
      "\u001b[0;31m---------------------------------------------------------------------------\u001b[0m",
      "\u001b[0;31mTypeError\u001b[0m                                 Traceback (most recent call last)",
      "Cell \u001b[0;32mIn[4], line 1\u001b[0m\n\u001b[0;32m----> 1\u001b[0m \u001b[43mpower_positional\u001b[49m\u001b[43m(\u001b[49m\u001b[38;5;241;43m3\u001b[39;49m\u001b[43m)\u001b[49m\n",
      "\u001b[0;31mTypeError\u001b[0m: power_positional() missing 1 required positional argument: 'exponent'"
     ]
    }
   ],
   "source": [
    "power_positional(3)"
   ]
  },
  {
   "cell_type": "markdown",
   "id": "e3cd480f",
   "metadata": {
    "slideshow": {
     "slide_type": "subslide"
    }
   },
   "source": [
    "### Keyword Arguments\n",
    "\n",
    "\n",
    "```python\n",
    "def power_keyword(x=2, exponent=3):\n",
    "     return x**exponent\n",
    "```\n",
    "\n",
    "Keyword parameters can serve two uses:\n",
    "\n",
    "* Define default values for parameters\n",
    "* When we call functions in this way, the order (position) of the arguments can be changed"
   ]
  },
  {
   "cell_type": "code",
   "execution_count": 5,
   "id": "2869f730",
   "metadata": {},
   "outputs": [],
   "source": [
    "def power_keyword(x=2, exponent=3):\n",
    "     return x**exponent"
   ]
  },
  {
   "cell_type": "code",
   "execution_count": 6,
   "id": "2cadc412",
   "metadata": {},
   "outputs": [
    {
     "data": {
      "text/plain": [
       "8"
      ]
     },
     "execution_count": 6,
     "metadata": {},
     "output_type": "execute_result"
    }
   ],
   "source": [
    "power_keyword() #default values 2,3 are used"
   ]
  },
  {
   "cell_type": "code",
   "execution_count": 9,
   "id": "346f658d",
   "metadata": {},
   "outputs": [
    {
     "data": {
      "text/plain": [
       "8"
      ]
     },
     "execution_count": 9,
     "metadata": {},
     "output_type": "execute_result"
    }
   ],
   "source": [
    "power_keyword(x=2, exponent=3)"
   ]
  },
  {
   "cell_type": "code",
   "execution_count": 10,
   "id": "cb78203b",
   "metadata": {},
   "outputs": [
    {
     "data": {
      "text/plain": [
       "8"
      ]
     },
     "execution_count": 10,
     "metadata": {},
     "output_type": "execute_result"
    }
   ],
   "source": [
    "power_keyword(x=2)"
   ]
  },
  {
   "cell_type": "markdown",
   "id": "e9add83b",
   "metadata": {},
   "source": [
    "We may pass the value to a keyword argument and leave the other one with default value"
   ]
  },
  {
   "cell_type": "code",
   "execution_count": 11,
   "id": "48a58a74",
   "metadata": {},
   "outputs": [
    {
     "data": {
      "text/plain": [
       "8"
      ]
     },
     "execution_count": 11,
     "metadata": {},
     "output_type": "execute_result"
    }
   ],
   "source": [
    "power_keyword(exponent=3)"
   ]
  },
  {
   "cell_type": "code",
   "execution_count": null,
   "id": "32f8357a",
   "metadata": {},
   "outputs": [],
   "source": [
    "def power_keyword(x=2, exponent=3):\n",
    "     return x**exponent"
   ]
  },
  {
   "cell_type": "code",
   "execution_count": 12,
   "id": "a85ce148",
   "metadata": {},
   "outputs": [
    {
     "data": {
      "text/plain": [
       "8"
      ]
     },
     "execution_count": 12,
     "metadata": {},
     "output_type": "execute_result"
    }
   ],
   "source": [
    "power_keyword(exponent=3, x=2)"
   ]
  },
  {
   "cell_type": "markdown",
   "id": "61576281",
   "metadata": {},
   "source": [
    "We can change the order of the keyword arguments"
   ]
  },
  {
   "cell_type": "code",
   "execution_count": 13,
   "id": "951b729b",
   "metadata": {},
   "outputs": [
    {
     "data": {
      "text/plain": [
       "8"
      ]
     },
     "execution_count": 13,
     "metadata": {},
     "output_type": "execute_result"
    }
   ],
   "source": [
    "power_keyword(2, 3)  "
   ]
  },
  {
   "cell_type": "markdown",
   "id": "82a88e47",
   "metadata": {},
   "source": [
    "We can also use the keywords implicitly and their positions explicitly"
   ]
  },
  {
   "cell_type": "code",
   "execution_count": null,
   "id": "c398144e",
   "metadata": {},
   "outputs": [],
   "source": [
    "def power_keyword(x=2, exponent=3):\n",
    "     return x**exponent"
   ]
  },
  {
   "cell_type": "code",
   "execution_count": 14,
   "id": "eeef2fd3",
   "metadata": {},
   "outputs": [
    {
     "data": {
      "text/plain": [
       "8"
      ]
     },
     "execution_count": 14,
     "metadata": {},
     "output_type": "execute_result"
    }
   ],
   "source": [
    "power_keyword(2, exponent=3)  "
   ]
  },
  {
   "cell_type": "code",
   "execution_count": 15,
   "id": "a442e341",
   "metadata": {},
   "outputs": [
    {
     "ename": "SyntaxError",
     "evalue": "positional argument follows keyword argument (3865692825.py, line 1)",
     "output_type": "error",
     "traceback": [
      "\u001b[0;36m  Cell \u001b[0;32mIn[15], line 1\u001b[0;36m\u001b[0m\n\u001b[0;31m    power_keyword(x=2, 3)\u001b[0m\n\u001b[0m                        ^\u001b[0m\n\u001b[0;31mSyntaxError\u001b[0m\u001b[0;31m:\u001b[0m positional argument follows keyword argument\n"
     ]
    }
   ],
   "source": [
    "power_keyword(x=2, 3)  "
   ]
  },
  {
   "cell_type": "markdown",
   "id": "b02b7c92",
   "metadata": {},
   "source": [
    "positional arguments have to come before the keyword arguments"
   ]
  },
  {
   "cell_type": "code",
   "execution_count": 16,
   "id": "7ee4a383",
   "metadata": {},
   "outputs": [],
   "source": [
    "def power_keyword(x=2, exponent=3):\n",
    "     return x**exponent"
   ]
  },
  {
   "cell_type": "code",
   "execution_count": 17,
   "id": "43a1e85d",
   "metadata": {},
   "outputs": [
    {
     "ename": "TypeError",
     "evalue": "power_keyword() got multiple values for argument 'x'",
     "output_type": "error",
     "traceback": [
      "\u001b[0;31m---------------------------------------------------------------------------\u001b[0m",
      "\u001b[0;31mTypeError\u001b[0m                                 Traceback (most recent call last)",
      "Cell \u001b[0;32mIn[17], line 1\u001b[0m\n\u001b[0;32m----> 1\u001b[0m \u001b[43mpower_keyword\u001b[49m\u001b[43m(\u001b[49m\u001b[38;5;241;43m2\u001b[39;49m\u001b[43m,\u001b[49m\u001b[43m \u001b[49m\u001b[43mx\u001b[49m\u001b[38;5;241;43m=\u001b[39;49m\u001b[38;5;241;43m3\u001b[39;49m\u001b[43m)\u001b[49m\n",
      "\u001b[0;31mTypeError\u001b[0m: power_keyword() got multiple values for argument 'x'"
     ]
    }
   ],
   "source": [
    "power_keyword(2, x=3) "
   ]
  },
  {
   "cell_type": "code",
   "execution_count": 18,
   "id": "cf4fc847",
   "metadata": {},
   "outputs": [
    {
     "data": {
      "text/plain": [
       "8"
      ]
     },
     "execution_count": 18,
     "metadata": {},
     "output_type": "execute_result"
    }
   ],
   "source": [
    "power_keyword(2, exponent=3) "
   ]
  },
  {
   "cell_type": "markdown",
   "id": "680b1299",
   "metadata": {
    "slideshow": {
     "slide_type": "subslide"
    }
   },
   "source": [
    "### Combining Positional and Keyword Arguments in Defining a function\n",
    "\n",
    "We can combine these two types of arguments in a defining a function\n",
    "\n",
    "* using positional arguments to specify **required** parameters\n",
    "* using keyword arguments to define **optional** parameters\n",
    "* positional arguments have to **precede** the keyword arguments.\n",
    "\n",
    "```python\n",
    "def power_combined(x, exponent=3):\n",
    "     return x**exponent\n",
    "```"
   ]
  },
  {
   "cell_type": "code",
   "execution_count": 19,
   "id": "05d38c80",
   "metadata": {},
   "outputs": [],
   "source": [
    "def power_combined(x, exponent=3):\n",
    "     return x**exponent"
   ]
  },
  {
   "cell_type": "code",
   "execution_count": 20,
   "id": "171742ce",
   "metadata": {},
   "outputs": [
    {
     "data": {
      "text/plain": [
       "8"
      ]
     },
     "execution_count": 20,
     "metadata": {},
     "output_type": "execute_result"
    }
   ],
   "source": [
    "power_combined(2)"
   ]
  },
  {
   "cell_type": "code",
   "execution_count": 21,
   "id": "99200cb0",
   "metadata": {},
   "outputs": [
    {
     "data": {
      "text/plain": [
       "8"
      ]
     },
     "execution_count": 21,
     "metadata": {},
     "output_type": "execute_result"
    }
   ],
   "source": [
    "power_combined(2, 3)"
   ]
  },
  {
   "cell_type": "code",
   "execution_count": null,
   "id": "a7d52c83",
   "metadata": {},
   "outputs": [],
   "source": [
    "def power_combined(x, exponent=3):\n",
    "     return x**exponent"
   ]
  },
  {
   "cell_type": "code",
   "execution_count": 22,
   "id": "8cb093e4",
   "metadata": {},
   "outputs": [
    {
     "data": {
      "text/plain": [
       "16807"
      ]
     },
     "execution_count": 22,
     "metadata": {},
     "output_type": "execute_result"
    }
   ],
   "source": [
    "power_combined(7, 5)"
   ]
  },
  {
   "cell_type": "code",
   "execution_count": 23,
   "id": "cab664d4",
   "metadata": {},
   "outputs": [
    {
     "data": {
      "text/plain": [
       "16807"
      ]
     },
     "execution_count": 23,
     "metadata": {},
     "output_type": "execute_result"
    }
   ],
   "source": [
    "power_combined(7, exponent=5)"
   ]
  },
  {
   "cell_type": "markdown",
   "id": "1d3a2906",
   "metadata": {
    "slideshow": {
     "slide_type": "subslide"
    }
   },
   "source": [
    "### Group Exercise:\n",
    "\n",
    "Suppose the cover price of a book is $24.95, but bookstores get a 40\\% discount. Shipping costs \\\\$3 for the first copy and 75 cents for each additional copy. What is the total wholesale cost for 60 copies? Write a function `total_cost` with five arguments/parameters: \n",
    "\n",
    "* `price`: cover price of a book\n",
    "* `discount`: discount for each book\n",
    "* `shipping_first`: shipping cost for the first copy\n",
    "* `shipping_additional`: shipping cost for each additional copy\n",
    "* `copies`: number of copies to purchase\n",
    "\n",
    "`copies` and `price` are keyword arguments while the other three are positional arguments.\n",
    "\n",
    "> Once you complete the function, caculate the total cost for cover price (\\\\$24.95), discount(10\\%), shipping for first copy (\\\\$5) and each additional copy (\\\\$0.5), and copies (60)\n",
    "\n",
    "> raise your hand when you are done!\n"
   ]
  },
  {
   "cell_type": "code",
   "execution_count": null,
   "id": "89da9200",
   "metadata": {},
   "outputs": [],
   "source": [
    "def calc_total_cost(discount, shipping_first, shipping_additional, copies=60, price = 24.95):\n",
    "    total = price * (1-discount) * copies + (shipping_first+ (copies-1) * shipping_additional)\n",
    "    return total"
   ]
  },
  {
   "cell_type": "code",
   "execution_count": null,
   "id": "3ef4f27a",
   "metadata": {},
   "outputs": [],
   "source": [
    "calc_total_cost(0.1, 5, 0.5)"
   ]
  },
  {
   "cell_type": "code",
   "execution_count": null,
   "id": "8846608c",
   "metadata": {},
   "outputs": [],
   "source": [
    "calc_total_cost(0.1, 5, 0.5, 60, 24.95) "
   ]
  },
  {
   "cell_type": "markdown",
   "id": "10488d49",
   "metadata": {
    "slideshow": {
     "slide_type": "subslide"
    }
   },
   "source": [
    "### Variable Length Positional Arguments\n",
    "\n",
    "```python\n",
    "def power_vapa(x,*names,exponent=2):\n",
    "    print('x: ',x)\n",
    "    print('exponent: ',exponent)\n",
    "    for name in names:\n",
    "        print(name)\n",
    "```\n",
    "\n",
    "* used to accept an undetermined (at definition time) number of positional arguments\n",
    "* they are tucked into a **tuple**\n",
    "* they have to come after positional arguments\n",
    "* they can come after keyword arguments"
   ]
  },
  {
   "cell_type": "code",
   "execution_count": null,
   "id": "d9501662",
   "metadata": {},
   "outputs": [],
   "source": [
    "def power_vapa(x,*names,exponent=2):\n",
    "    print('x: ',x)\n",
    "    print('exponent: ',exponent)\n",
    "    for name in names:\n",
    "        print(name)"
   ]
  },
  {
   "cell_type": "code",
   "execution_count": null,
   "id": "2308ec53",
   "metadata": {},
   "outputs": [],
   "source": [
    "power_vapa(2,3,6,7,7)"
   ]
  },
  {
   "cell_type": "code",
   "execution_count": null,
   "id": "239387fb",
   "metadata": {},
   "outputs": [],
   "source": [
    "power_vapa(2,3,6,7,7,10,2,3,1,243,254)"
   ]
  },
  {
   "cell_type": "markdown",
   "id": "d31e249e",
   "metadata": {},
   "source": [
    "keywords arguments can be omitted when calling the function"
   ]
  },
  {
   "cell_type": "code",
   "execution_count": null,
   "id": "48e5a7a5",
   "metadata": {},
   "outputs": [],
   "source": [
    "power_vapa(2,3,6,7,7,exponent=100)"
   ]
  },
  {
   "cell_type": "markdown",
   "id": "9c60fa40",
   "metadata": {},
   "source": [
    "keywords arguments before Variable Length Positional Arguments?"
   ]
  },
  {
   "cell_type": "code",
   "execution_count": null,
   "id": "1cee740c",
   "metadata": {},
   "outputs": [],
   "source": [
    "def power_vapa_r(x,exponent=2,*names):\n",
    "    print('x: ',x)\n",
    "    print('exponent: ',exponent)\n",
    "    for name in names:\n",
    "        print(name)"
   ]
  },
  {
   "cell_type": "code",
   "execution_count": null,
   "id": "299192c1",
   "metadata": {},
   "outputs": [],
   "source": [
    "power_vapa_r(2,3,6,7,7)"
   ]
  },
  {
   "cell_type": "markdown",
   "id": "a5b01ccc",
   "metadata": {},
   "source": [
    "if keywords arguments comes before Variable Length Positional Arguments, they are treated as positional arguments and are required when calling the function"
   ]
  },
  {
   "cell_type": "code",
   "execution_count": null,
   "id": "5344f0c6",
   "metadata": {},
   "outputs": [],
   "source": [
    "power_vapa_r(2,3,\"python\", 6,7,7)"
   ]
  },
  {
   "cell_type": "markdown",
   "id": "44a2e41c",
   "metadata": {},
   "source": [
    "`print()` is a function that accepts Variable Length Positional Arguments"
   ]
  },
  {
   "cell_type": "code",
   "execution_count": null,
   "id": "6eaa9913",
   "metadata": {},
   "outputs": [],
   "source": [
    "print(1,2,3,4,\"happy\")"
   ]
  },
  {
   "cell_type": "code",
   "execution_count": null,
   "id": "e114e1f6",
   "metadata": {},
   "outputs": [],
   "source": [
    "print(1,23,4,5,2,3,52,3,\"astring\", [12])"
   ]
  },
  {
   "cell_type": "markdown",
   "id": "4d2778a3",
   "metadata": {
    "slideshow": {
     "slide_type": "subslide"
    }
   },
   "source": [
    "### Variable Length Keyword Arguments\n",
    "\n",
    "```python\n",
    "def power_vaka(x,exponent=2,**theRest):\n",
    "    print('x: ',x)\n",
    "    print('exponent: ',exponent)\n",
    "    for key,value in theRest.items():\n",
    "        print(key,value)\n",
    "```\n",
    "\n",
    "* used to accept an undetermined (at definition time) number of keyword arguments\n",
    "* they are tucked into a **dictionary**\n",
    "* they have to come after positional, Variable Length Positional Arguments, and keywords arguments"
   ]
  },
  {
   "cell_type": "code",
   "execution_count": null,
   "id": "d45966c7",
   "metadata": {},
   "outputs": [],
   "source": [
    "def power_vaka(x,exponent=2,**theRest):\n",
    "    print('x: ',x)\n",
    "    print('exponent: ',exponent)\n",
    "    for key,value in theRest.items():\n",
    "        print(key,value)"
   ]
  },
  {
   "cell_type": "code",
   "execution_count": null,
   "id": "c6afaee1",
   "metadata": {},
   "outputs": [],
   "source": [
    "theRest = dict([(\"university\", \"UNT\"),(\"state\",\"TX\")])\n",
    "theRest"
   ]
  },
  {
   "cell_type": "code",
   "execution_count": null,
   "id": "5246f528",
   "metadata": {},
   "outputs": [],
   "source": [
    "power_vaka(3,22, university=\"UNT\", state=\"TX\")"
   ]
  },
  {
   "cell_type": "code",
   "execution_count": null,
   "id": "57336f50",
   "metadata": {},
   "outputs": [],
   "source": [
    "power_vaka(3,exponent=22, university=\"UNT\", state=\"TX\")"
   ]
  },
  {
   "cell_type": "markdown",
   "id": "6d974a43",
   "metadata": {},
   "source": [
    "Mixing Variable Length Keyword and positional Arguments in one function"
   ]
  },
  {
   "cell_type": "code",
   "execution_count": null,
   "id": "00fcdc77",
   "metadata": {},
   "outputs": [],
   "source": [
    "def power_vapka(x,exponent=2, *names, **theRest):\n",
    "    print('x: ',x)\n",
    "    print('exponent: ',exponent)\n",
    "    for a in names:\n",
    "        print(a)\n",
    "    for key,value in theRest.items():\n",
    "        print(key,value)"
   ]
  },
  {
   "cell_type": "code",
   "execution_count": null,
   "id": "aa4ecb5a",
   "metadata": {},
   "outputs": [],
   "source": [
    "power_vapka(3,2, \"python\", 1,23, university=\"UNT\", state=\"TX\")"
   ]
  },
  {
   "cell_type": "markdown",
   "id": "06803861",
   "metadata": {
    "slideshow": {
     "slide_type": "subslide"
    }
   },
   "source": [
    "## global and local variables\n",
    "\n",
    "* Inside a function, variables and parameters are local\n",
    "    * it only exists inside the function.\n",
    "    * When the function terminates, the variables/paramters inside the function is destroyed. If we try to print it, we get an error."
   ]
  },
  {
   "cell_type": "code",
   "execution_count": null,
   "id": "21bd6f5c",
   "metadata": {},
   "outputs": [],
   "source": [
    "def times2(number):\n",
    "    new_number = number * 2\n",
    "    return new_number"
   ]
  },
  {
   "cell_type": "code",
   "execution_count": null,
   "id": "45721928",
   "metadata": {},
   "outputs": [],
   "source": [
    "print(number)"
   ]
  },
  {
   "cell_type": "code",
   "execution_count": null,
   "id": "9e8cef62",
   "metadata": {},
   "outputs": [],
   "source": [
    "print(new_number)"
   ]
  },
  {
   "cell_type": "markdown",
   "id": "ccf4b095",
   "metadata": {
    "slideshow": {
     "slide_type": "fragment"
    }
   },
   "source": [
    "The variables defined in the function exist only in its *namespace*.\n",
    "\n",
    "Here, in the *global namespace* we get a `NameError` when trying to access the variables `number` or `new_number` because they have only been defined within the `times2()` function.\n",
    "\n",
    "How about calling the function first?"
   ]
  },
  {
   "cell_type": "code",
   "execution_count": null,
   "id": "80434284",
   "metadata": {},
   "outputs": [],
   "source": [
    "times2(number=5)"
   ]
  },
  {
   "cell_type": "code",
   "execution_count": null,
   "id": "3ee405da",
   "metadata": {},
   "outputs": [],
   "source": [
    "print(number)"
   ]
  },
  {
   "cell_type": "code",
   "execution_count": null,
   "id": "2fccca9a",
   "metadata": {},
   "outputs": [],
   "source": [
    "print(new_number)"
   ]
  },
  {
   "cell_type": "markdown",
   "id": "bcf6d64b",
   "metadata": {
    "slideshow": {
     "slide_type": "subslide"
    }
   },
   "source": [
    "As you can see `number` is still not defined in the global namespace.\n",
    "\n",
    "Why does Python work this way?\n",
    "\n",
    "Well, as it turns out, the benefit of having a separate namespace for functions is that we can define a variable in the global namespace, such as `number` and not need to worry about its name within a function, or the use of a function changing its value.\n",
    "\n",
    "Inside the function, the value that is passed will be known as `number`, but modifying that value will not alter a variable of the same name in the global namespace.\n",
    "\n",
    "Let's have a look at another example using a modified `times2()` function we can call `times2v2()`."
   ]
  },
  {
   "cell_type": "code",
   "execution_count": null,
   "id": "b9a209c0",
   "metadata": {},
   "outputs": [],
   "source": [
    "def times2v2(number):\n",
    "    number = number * 2\n",
    "    return number"
   ]
  },
  {
   "cell_type": "markdown",
   "id": "fefbeb40",
   "metadata": {},
   "source": [
    "Let's now define a variable `number` in the global namespace and use our function to multiply it by 2."
   ]
  },
  {
   "cell_type": "code",
   "execution_count": null,
   "id": "edc77594",
   "metadata": {},
   "outputs": [],
   "source": [
    "number = 15"
   ]
  },
  {
   "cell_type": "code",
   "execution_count": null,
   "id": "a4331827",
   "metadata": {},
   "outputs": [],
   "source": [
    "times2v2(number)"
   ]
  },
  {
   "cell_type": "code",
   "execution_count": null,
   "id": "d57df054",
   "metadata": {},
   "outputs": [],
   "source": [
    "number"
   ]
  },
  {
   "cell_type": "markdown",
   "id": "a78dedf6",
   "metadata": {
    "slideshow": {
     "slide_type": "subslide"
    }
   },
   "source": [
    "As you can see, the value of the variable `number` in the global namespace was set to 15 and remains 15 after using the `times2v2()` function.\n",
    "\n",
    "Although there is a variable inside that function with the same name as the value in the global namespace, using the function assigns the value of `number` inside the function and manipulates that value only inside the function.\n",
    "\n",
    "```{caution}\n",
    "Be aware that it is possible to access variable values in functions that have been defined in the global namespace, even if the value is not passed to the function.\n",
    "This is because Python will search for variables defined with a given name first inside the function, and then outside the function (the search domain is known as the variable's *scope*).\n",
    "If such a value is found, it can be used by the function, which could be dangerous.\n",
    "```\n",
    "\n",
    "Let's look at an example of behavior in a function that may be unexpected."
   ]
  },
  {
   "cell_type": "code",
   "execution_count": null,
   "id": "bc475ab8",
   "metadata": {},
   "outputs": [],
   "source": [
    "def times2v2plus(number):\n",
    "    number = number * 2 + value\n",
    "    return number"
   ]
  },
  {
   "cell_type": "code",
   "execution_count": null,
   "id": "b5940d73",
   "metadata": {},
   "outputs": [],
   "source": [
    "times2v2plus(1)"
   ]
  },
  {
   "cell_type": "code",
   "execution_count": null,
   "id": "ff9c6355",
   "metadata": {},
   "outputs": [],
   "source": [
    "value = 10"
   ]
  },
  {
   "cell_type": "code",
   "execution_count": null,
   "id": "ca562543",
   "metadata": {},
   "outputs": [],
   "source": [
    "times2v2plus(1)"
   ]
  },
  {
   "cell_type": "markdown",
   "id": "5a6b00aa",
   "metadata": {},
   "source": [
    "Although `value` was not passed to `times2v2plus()` it is defined in the global namespace and thus can be used by our example function.\n",
    "\n",
    "Be careful!"
   ]
  },
  {
   "cell_type": "code",
   "execution_count": null,
   "id": "6beff080",
   "metadata": {},
   "outputs": [],
   "source": [
    "def times2v2plus(number):\n",
    "    value = value *2\n",
    "    number = number * 2 + value\n",
    "    return number"
   ]
  },
  {
   "cell_type": "code",
   "execution_count": null,
   "id": "149bb04b",
   "metadata": {},
   "outputs": [],
   "source": [
    "times2v2plus(1)"
   ]
  },
  {
   "cell_type": "code",
   "execution_count": null,
   "id": "5a6e85bb",
   "metadata": {},
   "outputs": [],
   "source": [
    "value"
   ]
  },
  {
   "cell_type": "markdown",
   "id": "1dbb2c1f",
   "metadata": {},
   "source": [
    "We run into a UnboundLocalError because when we make an assignment to a variable in a scope (`value = value *2`), that variable becomes local to that scope and shadows any similarly named variable in the outer scope. Since(`value = value *2`) assigns a new value to `value`, the compiler recognizes it as a local variable. \n",
    "https://docs.python.org/3/faq/programming.html#why-am-i-getting-an-unboundlocalerror-when-the-variable-has-a-value"
   ]
  },
  {
   "cell_type": "markdown",
   "id": "88538737",
   "metadata": {
    "slideshow": {
     "slide_type": "subslide"
    }
   },
   "source": [
    "### Further reading on namespaces and variables scopes \n",
    "\n",
    "For those who are interested, more information about namespaces and variables scopes can be found on the [Real Python website](https://realpython.com/python-namespaces-scope/)."
   ]
  },
  {
   "cell_type": "markdown",
   "id": "0cbd0076",
   "metadata": {
    "slideshow": {
     "slide_type": "slide"
    }
   },
   "source": [
    "## Functions within a function\n",
    "\n",
    "An example: Calculate $a^2+b^2$"
   ]
  },
  {
   "cell_type": "code",
   "execution_count": null,
   "id": "855bf1b7",
   "metadata": {},
   "outputs": [],
   "source": [
    "def square(a):\n",
    "    return a**2"
   ]
  },
  {
   "cell_type": "code",
   "execution_count": null,
   "id": "56d90e13",
   "metadata": {},
   "outputs": [],
   "source": [
    "def calc(a, b):\n",
    "    return square(a) + square(b)"
   ]
  },
  {
   "cell_type": "code",
   "execution_count": null,
   "id": "51fcb5bc",
   "metadata": {},
   "outputs": [],
   "source": [
    "calc(10, 200)"
   ]
  },
  {
   "cell_type": "markdown",
   "id": "dda572e4",
   "metadata": {
    "slideshow": {
     "slide_type": "slide"
    }
   },
   "source": [
    "## Function docstrings\n",
    "\n",
    "\n",
    "A docstring is a string that starts on the first new line immediately after the declaration of a function or a class. Like the body of the function or class, the docstring must be indented 4 spaces. Typically, a docstring is contained within a block string, set off by tripe quotes \"\"\""
   ]
  },
  {
   "cell_type": "code",
   "execution_count": null,
   "id": "8d4c780f",
   "metadata": {},
   "outputs": [],
   "source": [
    "def function(x, y):\n",
    "    \"\"\"\n",
    "    A one-line summary that does not use variable names or the function name.\n",
    "    \n",
    "    Parameters\n",
    "    ----------\n",
    "    x : type\n",
    "        Description of parameter `x`.\n",
    "    y\n",
    "        Description of parameter `y` (with type not specified).\n",
    "        \n",
    "        \n",
    "    Returns\n",
    "    -------\n",
    "    err_code : int\n",
    "        Non-zero value indicates error code, or zero on success.\n",
    "    err_msg : str or None\n",
    "        Human readable error message, or None on success.\n",
    "    \"\"\"\n",
    "    pass"
   ]
  },
  {
   "cell_type": "code",
   "execution_count": null,
   "id": "ff3321ac",
   "metadata": {},
   "outputs": [],
   "source": [
    "function(1,2)"
   ]
  },
  {
   "cell_type": "code",
   "execution_count": null,
   "id": "8d0e2629",
   "metadata": {},
   "outputs": [],
   "source": [
    "def determine_multiple(a):\n",
    "    \"\"\"Determine whether a given integer is a multiple of 2 or/and 3.\n",
    "    \n",
    "    Parameters\n",
    "    ----------\n",
    "    a : int\n",
    "        An integer.\n",
    "        \n",
    "    Return\n",
    "    ------\n",
    "      : str\n",
    "        Descriptions.\n",
    "    \n",
    "    \"\"\"\n",
    "    ### BEGIN SOLUTION\n",
    "    if a % 6 == 0:\n",
    "        return \"The number is a multiple of 6\"\n",
    "    elif a % 2 == 0:\n",
    "        return \"The number is a multiple of 2\"\n",
    "    elif a % 3 == 0:\n",
    "        return \"The number is a multiple of 3\"\n",
    "    else: \n",
    "        return \"The number is not a multiple of 2 or 3\"\n",
    "    ### END SOLUTION"
   ]
  },
  {
   "cell_type": "code",
   "execution_count": null,
   "id": "3d7a3dcf",
   "metadata": {},
   "outputs": [],
   "source": []
  }
 ],
 "metadata": {
  "celltoolbar": "Slideshow",
  "kernelspec": {
   "display_name": "Python 3 (ipykernel)",
   "language": "python",
   "name": "python3"
  },
  "language_info": {
   "codemirror_mode": {
    "name": "ipython",
    "version": 3
   },
   "file_extension": ".py",
   "mimetype": "text/x-python",
   "name": "python",
   "nbconvert_exporter": "python",
   "pygments_lexer": "ipython3",
   "version": "3.9.13"
  }
 },
 "nbformat": 4,
 "nbformat_minor": 5
}
