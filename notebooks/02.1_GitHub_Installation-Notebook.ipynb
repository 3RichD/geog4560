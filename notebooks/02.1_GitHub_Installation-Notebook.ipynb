{
 "cells": [
  {
   "cell_type": "markdown",
   "id": "635bd0ce",
   "metadata": {
    "slideshow": {
     "slide_type": "slide"
    }
   },
   "source": [
    "# Introduction to Python for Open Source Geocomputation\n",
    "\n",
    "![python](pics/python-logo-master-v3-TM.png)\n",
    "\n",
    "* Instructor: Dr. Wei Kang\n",
    "* Class Location and Time: ENV 340, Mon & Wed 11:00 am - 12:20 pm \n",
    "\n",
    "Content:\n",
    "\n",
    "* [Installation](#Installation)\n",
    "* [Teaching and Learning with Jupyter](#Teaching-and-Learning-with-Jupyter)\n",
    "* [GitHub](#GitHub)"
   ]
  },
  {
   "cell_type": "markdown",
   "id": "4da395b9",
   "metadata": {
    "slideshow": {
     "slide_type": "slide"
    }
   },
   "source": [
    "# Installation\n",
    "\n",
    "## What is Anaconda?\n",
    "\n",
    "Anaconda: Anaconda Distribution equips individuals to easily search and install thousands of Python packages and access a vast library of community content and support.\n",
    " \n",
    "* Anaconda Repository: features over 8,000 open-source data science and machine learning packages, Anaconda-built and compiled for all major operating systems and architectures.\n",
    "* Conda: is an open-source package and environment management system that runs on Windows, macOS, and Linux.\n",
    "* Anaconda Navigator (Graphical User Interface (GUI)): lets you easily manage integrated applications, packages, and environments without using the command line.\n"
   ]
  },
  {
   "cell_type": "markdown",
   "id": "03e69266",
   "metadata": {
    "slideshow": {
     "slide_type": "subslide"
    }
   },
   "source": [
    "## Installing Anaconda on your own computer\n",
    "\n",
    "### Step 1\n",
    "\n",
    "Download [Anaconda Installer](https://www.anaconda.com/products/distribution)\n",
    "\n",
    "![anaconda.png](pics/anaconda.png)"
   ]
  },
  {
   "cell_type": "markdown",
   "id": "9ee360f0",
   "metadata": {
    "slideshow": {
     "slide_type": "subslide"
    }
   },
   "source": [
    "### Step 2\n",
    "\n",
    "Install Anaconda\n",
    "\n",
    "- [Windows Anaconda installation instructions](https://docs.anaconda.com/anaconda/install/windows/#)\n",
    "- [macOS Annaconda installation instructions](https://docs.anaconda.com/anaconda/install/mac-os/#)\n",
    "- [Linux Anaconda installation instructions](https://docs.anaconda.com/anaconda/install/linux/#)\n",
    "\n",
    "Once you have installed Anaconda, you can explore the options for interacting with Python through Anaconda: [Getting started with Anaconda](https://docs.anaconda.com/anaconda/user-guide/getting-started)."
   ]
  },
  {
   "cell_type": "markdown",
   "id": "87a2e288",
   "metadata": {
    "slideshow": {
     "slide_type": "subslide"
    }
   },
   "source": [
    "\n",
    "### Step 3\n",
    "\n",
    "Two ways of using Anaconda\n",
    "\n",
    "#### 1. *conda*: command line\n",
    "\n",
    "* [conda tutorial](https://conda.io/projects/conda/en/latest/user-guide/getting-started.html)\n",
    "* [Anaconda prompt/terminal](https://docs.anaconda.com/anaconda/user-guide/getting-started/#write-a-python-program-using-anaconda-prompt-or-terminal)\n",
    "* powershell\n",
    "\n",
    "\n",
    "#### 2. *Anaconda Navigator*: Graphical User Interface\n",
    "\n",
    "* [Anaconda Navigator tutorial](https://docs.anaconda.com/anaconda/navigator/getting-started/)\n",
    "    \n",
    "[ANACONDA DISTRIBUTION\n",
    "STARTER GUIDE](https://docs.anaconda.com/_downloads/3613d324acc0a4b3c203fd79c71a2b45/Anaconda-Starter-Guide.pdf)"
   ]
  },
  {
   "cell_type": "markdown",
   "id": "894145c0",
   "metadata": {
    "slideshow": {
     "slide_type": "subslide"
    }
   },
   "source": [
    "### Step 4\n",
    "\n",
    "Launching your first Jupyter Notebook\n",
    "\n",
    "* From an Anaconda Prompt or terminal: type ``jupyter notebook`` and press Enter.\n",
    "    * Windows: \n",
    "        * From the Start menu, search for and open “Anaconda Prompt”\n",
    "        * From the Start menu, search for and open “powershell\"\n",
    "    * Mac/Linux: Open a terminal window.\n",
    "* From *Anaconda Navigator*: \n",
    "![anaconda_jupyter.png](pics/anaconda_jupyter.png)"
   ]
  },
  {
   "cell_type": "code",
   "execution_count": null,
   "id": "9c9f275b",
   "metadata": {},
   "outputs": [],
   "source": []
  },
  {
   "cell_type": "markdown",
   "id": "0836d2df",
   "metadata": {
    "slideshow": {
     "slide_type": "slide"
    }
   },
   "source": [
    "# Teaching and Learning with Jupyter \n",
    "\n",
    "## What is Jupyter Notebook?\n",
    "\n",
    "Notebooks are documents containing **text narratives** with images and math, combined with **executable code** (many languages are supported) and the **output** of that code. \n",
    "\n",
    "- interactive computing environment for working with Python (and other languages)\n",
    "- Similar in spirit to a scientific notebook (but much more)\n",
    "    - Live code \n",
    "    - Interactive widgets \n",
    "    - Plots \n",
    "    - Narrative text \n",
    "    - Equations \n",
    "    - Images \n",
    "    - Video\n",
    "- multiple sharing mechanisms\n",
    "    - GitHub\n",
    "    - binder\n",
    "    - nbviewer\n",
    "    - Jupyter Book\n",
    "    - other traditional format (.pdf)\n",
    "- literate programming\n",
    "- simple JSON format\n",
    "    - web citizen\n",
    "    - git friendly"
   ]
  },
  {
   "cell_type": "markdown",
   "id": "df124bfb",
   "metadata": {
    "slideshow": {
     "slide_type": "subslide"
    }
   },
   "source": [
    "## Starting the Jupyter Notebook\n",
    "\n",
    "From a shell (Anaconda Prompt) or terminal we can start the notebook with:\n",
    "```\n",
    "jupyter notebook\n",
    "```\n",
    "\n",
    "This brings up the **dashboard** which will list any notebooks encountered in the current working directory.\n",
    "\n",
    "You can either open an existing notebook or create a new one from the dashboard."
   ]
  },
  {
   "cell_type": "markdown",
   "id": "3479f8b4",
   "metadata": {
    "slideshow": {
     "slide_type": "subslide"
    }
   },
   "source": [
    "## Jupyter Notebook Inteface\n",
    "\n",
    "* Menu\n",
    "    * Keyboard Shortcuts: A list of keyboard shortcuts can be revealed by entering `h`.\n",
    "* Toolbar\n",
    "* Notebook area and cells"
   ]
  },
  {
   "cell_type": "markdown",
   "id": "6823d83c",
   "metadata": {
    "slideshow": {
     "slide_type": "subslide"
    }
   },
   "source": [
    "### Classroom activities (do it together)\n",
    "\n",
    "Click on “Help:User Interface Tour” menu item to start an interactive tour of the Notebook elements\n",
    "\n",
    "let's do this!"
   ]
  },
  {
   "cell_type": "markdown",
   "id": "11339e6a",
   "metadata": {
    "slideshow": {
     "slide_type": "subslide"
    }
   },
   "source": [
    "### Two keyboard input modes with Notebook\n",
    "\n",
    "* *Edit Mode*: used to *edit* the content of a cell\n",
    "    * indicated by a green cell border and a prompt showing in the editor area\n",
    "    * When a cell is in edit mode, the Cell Mode Indicator will change to reflect the cell’s state. This state is indicated by a small pencil icon on the top right of the interface. When the cell is in command mode, there is no icon in that location.\n",
    "* *Command mode*: used to *manipulate* notebook cells\n",
    "    * indicated by a grey cell border with a blue left margin\n",
    "\n",
    "Switching between two modes:\n",
    "* swiching from *Edit Mode* to *Command mode*: pressing `esc`\n",
    "* swiching from *Command mode* to *Edit Mode*: pressing `enter` \n"
   ]
  },
  {
   "cell_type": "markdown",
   "id": "ff47049d",
   "metadata": {
    "slideshow": {
     "slide_type": "subslide"
    }
   },
   "source": [
    "### Two Main Cell types\n",
    "\n",
    "* Code Cell\n",
    "* Markdown Cell"
   ]
  },
  {
   "cell_type": "markdown",
   "id": "55acd57c",
   "metadata": {
    "slideshow": {
     "slide_type": "subslide"
    }
   },
   "source": [
    "#### Code cells\n",
    "\n",
    "In command mode, `y` will set the cell to code. After that, pressing `Enter` will let you edit the code."
   ]
  },
  {
   "cell_type": "code",
   "execution_count": null,
   "id": "2330db23",
   "metadata": {
    "slideshow": {
     "slide_type": "subslide"
    }
   },
   "outputs": [],
   "source": [
    "x = list(range(10)) # Shift-Enter to execute and move to the cell below\n",
    "x"
   ]
  },
  {
   "cell_type": "code",
   "execution_count": null,
   "id": "54366990",
   "metadata": {
    "slideshow": {
     "slide_type": "subslide"
    }
   },
   "outputs": [],
   "source": [
    "x = list(range(10)) # Alt-Enter (option-Enter) to execute and inserts a new cell below.\n",
    "x"
   ]
  },
  {
   "cell_type": "code",
   "execution_count": null,
   "id": "2eaeef52",
   "metadata": {
    "slideshow": {
     "slide_type": "fragment"
    }
   },
   "outputs": [],
   "source": [
    "x.append(2)\n",
    "x"
   ]
  },
  {
   "cell_type": "code",
   "execution_count": null,
   "id": "babf1a83",
   "metadata": {
    "slideshow": {
     "slide_type": "fragment"
    }
   },
   "outputs": [],
   "source": [
    "x = range(10)\n",
    "y = [ xi*3 for xi in x] # Ctrl-Return to execute but stay in the current cell\n",
    "y"
   ]
  },
  {
   "cell_type": "markdown",
   "id": "3f73f002",
   "metadata": {
    "slideshow": {
     "slide_type": "slide"
    }
   },
   "source": [
    "### Comments on python code:\n",
    "\n",
    "* start with `#`\n",
    "* used to explain Python code\n",
    "* used to make the code more readable.\n",
    "* used to prevent execution when testing code."
   ]
  },
  {
   "cell_type": "code",
   "execution_count": null,
   "id": "81d892ff",
   "metadata": {
    "slideshow": {
     "slide_type": "subslide"
    }
   },
   "outputs": [],
   "source": [
    "#x = list(range(10)) # Shift-Enter to execute and move to the cell below\n",
    "#x"
   ]
  },
  {
   "cell_type": "code",
   "execution_count": null,
   "id": "a650dc19",
   "metadata": {
    "slideshow": {
     "slide_type": "subslide"
    }
   },
   "outputs": [],
   "source": [
    "# You will need to install geopandas first\n",
    "import geopandas\n",
    "world = geopandas.read_file(geopandas.datasets.get_path('naturalearth_lowres'))\n",
    "world.plot();"
   ]
  },
  {
   "cell_type": "markdown",
   "id": "ba6011b7",
   "metadata": {
    "slideshow": {
     "slide_type": "subslide"
    }
   },
   "source": [
    "#### Order of the Code cells\n",
    "\n",
    "* To signal that the Code cell was run, the Notebook will add a number [1]: to the left of the cell. \n",
    "* This number increases with each run and shows if and in which order cells were run. \n",
    "* Global State: Each Notebook has a single state that is shared between all cells, called the kernel. \n",
    "    * Whenever you execute a cell, it modifies that state by running functions and setting variable values. "
   ]
  },
  {
   "cell_type": "code",
   "execution_count": 1,
   "id": "836290d8",
   "metadata": {},
   "outputs": [],
   "source": [
    "a = 1"
   ]
  },
  {
   "cell_type": "code",
   "execution_count": 5,
   "id": "f1dec3b1",
   "metadata": {},
   "outputs": [
    {
     "data": {
      "text/plain": [
       "2"
      ]
     },
     "execution_count": 5,
     "metadata": {},
     "output_type": "execute_result"
    }
   ],
   "source": [
    "a"
   ]
  },
  {
   "cell_type": "code",
   "execution_count": 11,
   "id": "7fb24048",
   "metadata": {},
   "outputs": [],
   "source": [
    "a = a + 1"
   ]
  },
  {
   "cell_type": "code",
   "execution_count": 12,
   "id": "53023516",
   "metadata": {},
   "outputs": [
    {
     "data": {
      "text/plain": [
       "7"
      ]
     },
     "execution_count": 12,
     "metadata": {},
     "output_type": "execute_result"
    }
   ],
   "source": [
    "a"
   ]
  },
  {
   "cell_type": "markdown",
   "id": "09f06491",
   "metadata": {
    "slideshow": {
     "slide_type": "subslide"
    }
   },
   "source": [
    "### Markdown Cells and Markdown syntax\n",
    "\n",
    "Markdown is a text-to-HTML conversion tool for web writers. Markdown allows you to write using an easy-to-read, easy-to-write plain text format, then convert it to structurally valid XHTML (or HTML).\n",
    "\n",
    "\n",
    "In command mode, ```m``` gives us a [Markdown](http://daringfireball.net/projects/markdown/) cell. After writing the text in Markdown syntax, press `shift+enter` to render the cell."
   ]
  },
  {
   "cell_type": "markdown",
   "id": "d0d20df3",
   "metadata": {
    "slideshow": {
     "slide_type": "subslide"
    }
   },
   "source": [
    "#### list \n",
    "\n",
    "an unordered list:\n",
    "\n",
    "- first\n",
    "- second\n",
    "- third\n",
    "  - nested one\n",
    "  - nested two\n",
    "- fourth\n",
    "\n",
    "an ordered list:\n",
    "\n",
    "1. first\n",
    "3. third\n",
    "  1. nested one\n",
    "  2. nested two\n",
    "4. fourth\n",
    "5. fifth"
   ]
  },
  {
   "cell_type": "markdown",
   "id": "6538b160",
   "metadata": {
    "slideshow": {
     "slide_type": "subslide"
    }
   },
   "source": [
    "#### Headings\n",
    "\n",
    "# Heading 1\n",
    "## Heading 2\n",
    "### Heading 3"
   ]
  },
  {
   "cell_type": "markdown",
   "id": "3940c319",
   "metadata": {
    "slideshow": {
     "slide_type": "subslide"
    }
   },
   "source": [
    "#### Embedded code\n",
    "\n",
    "You can embed code meant for illustration instead of execution in Python:\n",
    "\n",
    "(Reversed triple prime)\n",
    "\n",
    "```python\n",
    "def f(x):\n",
    "    \"\"\"a docstring\"\"\"\n",
    "    return x**2\n",
    "```\n",
    "\n",
    "```\n",
    "pip install matplotlib\n",
    "```"
   ]
  },
  {
   "cell_type": "markdown",
   "id": "d63cea9c",
   "metadata": {
    "slideshow": {
     "slide_type": "subslide"
    }
   },
   "source": [
    "#### Table\n",
    "\n",
    "|      | Name   |\n",
    "|------|------|\n",
    "|   1  | Tom|\n",
    "|   2  | Jim|"
   ]
  },
  {
   "cell_type": "markdown",
   "id": "cbcb00f9",
   "metadata": {
    "slideshow": {
     "slide_type": "subslide"
    }
   },
   "source": [
    "#### Latex Equations\n",
    "with **LaTeX**\n",
    "\n",
    "This is an in-line equation $\\hat{\\beta} = (X'X)^{-1}X'y$ for the ordinary least squares estimator.\n",
    "\n",
    "A display equation is done with\n",
    "\n",
    "$$ y = \\rho W y + X\\beta + \\epsilon$$\n",
    "\n",
    "**NOTE**: LaTeX will only render if [mathjax](https://www.mathjax.org/) is available via a network connection or if it has been installed locally."
   ]
  },
  {
   "cell_type": "markdown",
   "id": "45b34f5c",
   "metadata": {
    "slideshow": {
     "slide_type": "subslide"
    }
   },
   "source": [
    "### Command mode shortcuts :\n",
    "\n",
    "* Basic navigation: `enter`, `shift-enter`, `up/k`, `down/j`\n",
    "* Change Cell types: `y`, `m`, `1-6`, \n",
    "* Cell creation: `a`, `b`\n",
    "* Cell editing: `x`, `c`, `v`, `d`, `z`"
   ]
  },
  {
   "cell_type": "markdown",
   "id": "4ba7412f",
   "metadata": {},
   "source": [
    "### Kernel\n",
    "\n",
    "Jupyter Notebook allows code to be run in a range of different programming languages. For each notebook document that a user opens, the web application starts a kernel that runs the code for that notebook. Each kernel is capable of running code in a single programming language and there are kernels available in the following languages:\n",
    "\n",
    "* Python(https://github.com/ipython/ipython)\n",
    "\n",
    "* Julia (https://github.com/JuliaLang/IJulia.jl)\n",
    "\n",
    "* R (https://github.com/IRkernel/IRkernel)\n",
    "\n",
    "* Ruby (https://github.com/minrk/iruby)\n",
    "\n",
    "* Haskell (https://github.com/gibiansky/IHaskell)\n",
    "\n",
    "* Scala (https://github.com/Bridgewater/scala-notebook)\n",
    "\n",
    "* node.js (https://gist.github.com/Carreau/4279371)\n",
    "\n",
    "* Go (https://github.com/takluyver/igo)\n",
    "\n"
   ]
  },
  {
   "cell_type": "code",
   "execution_count": null,
   "id": "245fae5d",
   "metadata": {},
   "outputs": [],
   "source": []
  },
  {
   "cell_type": "markdown",
   "id": "108ff49f",
   "metadata": {
    "slideshow": {
     "slide_type": "slide"
    }
   },
   "source": [
    "# GitHub\n",
    "\n",
    "GitHub is a version-control platform for hosting development projects.\n",
    "\n",
    "GitHub Repository (repo) for our course https://github.com/weikang9009/geog4560\n",
    "\n",
    "![github.png](pics/course_github_repo.jpg)\n",
    "\n",
    "We will use GitHub and Git to access our course materials, which will be updated every few days.\n"
   ]
  },
  {
   "cell_type": "markdown",
   "id": "f03ff740",
   "metadata": {
    "slideshow": {
     "slide_type": "slide"
    }
   },
   "source": [
    "## Additional readings\n",
    "\n",
    "* [Anaconda User Guide](https://docs.anaconda.com/anaconda/user-guide/)\n",
    "* [Jupyter Notebook Users Manual](https://jupyter.brynmawr.edu/services/public/dblank/Jupyter%20Notebook%20Users%20Manual.ipynb#Jupyter-Notebook-Users-Manual)\n",
    "* [Markdown](http://daringfireball.net/projects/markdown/)"
   ]
  },
  {
   "cell_type": "markdown",
   "id": "5d7a4d71",
   "metadata": {
    "slideshow": {
     "slide_type": "slide"
    }
   },
   "source": [
    "# Next class (02/25)\n",
    "\n",
    "* Topics: Program, Variables, Operators \n",
    "* before the class, read Chapters 1, 2 of \"Downey, A.B. (2015) Think Python: How to Think Like a Computer Scientist. 2nd Edition. Green Tea Press, Needham, Massachusetts. \""
   ]
  }
 ],
 "metadata": {
  "celltoolbar": "Slideshow",
  "kernelspec": {
   "display_name": "Python 3 (ipykernel)",
   "language": "python",
   "name": "python3"
  },
  "language_info": {
   "codemirror_mode": {
    "name": "ipython",
    "version": 3
   },
   "file_extension": ".py",
   "mimetype": "text/x-python",
   "name": "python",
   "nbconvert_exporter": "python",
   "pygments_lexer": "ipython3",
   "version": "3.9.13"
  }
 },
 "nbformat": 4,
 "nbformat_minor": 5
}
