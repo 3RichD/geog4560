{
 "cells": [
  {
   "cell_type": "markdown",
   "id": "f6f7754f",
   "metadata": {
    "slideshow": {
     "slide_type": "slide"
    }
   },
   "source": [
    "# Introduction to Python for Open Source Geocomputation\n",
    "\n",
    "![python](pics/python-logo-master-v3-TM.png)\n",
    "\n",
    "* Instructor: Dr. Wei Kang\n",
    "* Class Location and Time: ENV 336, Mon & Wed 12:30 pm - 1:50 pm \n",
    "\n",
    "Content:\n",
    "\n",
    "* Quiz 1\n",
    "* Strings\n",
    "* Iteration with `for` loops"
   ]
  },
  {
   "cell_type": "markdown",
   "id": "3aea84b0",
   "metadata": {
    "slideshow": {
     "slide_type": "slide"
    }
   },
   "source": [
    "# Standard Data Types in Python - strings\n",
    "\n",
    "| Category of Data type | Data type            | Example    |\n",
    "| -------------- | -------------------- | ---------- |\n",
    "| Numeric, scalar         | Integer| 1       |\n",
    "|        | Floats   | 1.2   |\n",
    "|          | Complex    | 1.5+0.5j  |\n",
    "|         | Booleans   | True    |\n",
    "| Container    | strings   | \"Hello World\"   |\n",
    "|     | List   | [1, \"Hello World\"]  |\n",
    "|     | Tuple   | (1, \"Hello World\")  |\n",
    "|     | Set   | {1, \"Hello World\"}   |\n",
    "|     | Dictionary   | {1: \"Hello World\", 2: 100} |"
   ]
  },
  {
   "cell_type": "code",
   "execution_count": 1,
   "id": "de8967bb",
   "metadata": {},
   "outputs": [],
   "source": [
    "my_string = \"Hello World\""
   ]
  },
  {
   "cell_type": "markdown",
   "id": "02a9a2ac",
   "metadata": {
    "slideshow": {
     "slide_type": "subslide"
    }
   },
   "source": [
    "## Indexing String\n",
    "\n",
    "To access each separate character in a string\n",
    "\n",
    "Structure: ``string[index]``\n",
    "* string variable name\n",
    "* square brackets\n",
    "* index: integer (starts from 0 in python)"
   ]
  },
  {
   "cell_type": "code",
   "execution_count": 2,
   "id": "fa657a29",
   "metadata": {},
   "outputs": [
    {
     "data": {
      "text/plain": [
       "'H'"
      ]
     },
     "execution_count": 2,
     "metadata": {},
     "output_type": "execute_result"
    }
   ],
   "source": [
    "my_string[0]"
   ]
  },
  {
   "cell_type": "code",
   "execution_count": 3,
   "id": "e6bc8370",
   "metadata": {},
   "outputs": [
    {
     "data": {
      "text/plain": [
       "'e'"
      ]
     },
     "execution_count": 3,
     "metadata": {},
     "output_type": "execute_result"
    }
   ],
   "source": [
    "my_string[1]"
   ]
  },
  {
   "cell_type": "markdown",
   "id": "5c94cd3a",
   "metadata": {
    "slideshow": {
     "slide_type": "fragment"
    }
   },
   "source": [
    "#### Group Exploration Task: How do we get the last character in this string? \n",
    "\n",
    "```python\n",
    "my_string = \"Hello World\"\n",
    "```\n",
    "\n",
    "> When you are done, raise your hand\n"
   ]
  },
  {
   "cell_type": "code",
   "execution_count": 4,
   "id": "472e321d",
   "metadata": {},
   "outputs": [
    {
     "data": {
      "text/plain": [
       "'d'"
      ]
     },
     "execution_count": 4,
     "metadata": {},
     "output_type": "execute_result"
    }
   ],
   "source": [
    "my_string[10]"
   ]
  },
  {
   "cell_type": "code",
   "execution_count": 5,
   "id": "16b22496",
   "metadata": {},
   "outputs": [
    {
     "data": {
      "text/plain": [
       "11"
      ]
     },
     "execution_count": 5,
     "metadata": {},
     "output_type": "execute_result"
    }
   ],
   "source": [
    "len(my_string)"
   ]
  },
  {
   "cell_type": "code",
   "execution_count": 6,
   "id": "a9c1edba",
   "metadata": {},
   "outputs": [
    {
     "data": {
      "text/plain": [
       "11"
      ]
     },
     "execution_count": 6,
     "metadata": {},
     "output_type": "execute_result"
    }
   ],
   "source": [
    "length = len(my_string)\n",
    "length"
   ]
  },
  {
   "cell_type": "code",
   "execution_count": 7,
   "id": "2a34440c",
   "metadata": {},
   "outputs": [
    {
     "data": {
      "text/plain": [
       "'Hello World'"
      ]
     },
     "execution_count": 7,
     "metadata": {},
     "output_type": "execute_result"
    }
   ],
   "source": [
    "my_string"
   ]
  },
  {
   "cell_type": "code",
   "execution_count": 8,
   "id": "3efde5d9",
   "metadata": {},
   "outputs": [
    {
     "data": {
      "text/plain": [
       "'d'"
      ]
     },
     "execution_count": 8,
     "metadata": {},
     "output_type": "execute_result"
    }
   ],
   "source": [
    "my_string[length - 1]"
   ]
  },
  {
   "cell_type": "markdown",
   "id": "461030f8",
   "metadata": {},
   "source": [
    "`len` is a built-in function that returns the number of characters in a string"
   ]
  },
  {
   "cell_type": "code",
   "execution_count": 9,
   "id": "ba7e75d8",
   "metadata": {},
   "outputs": [
    {
     "data": {
      "text/plain": [
       "'d'"
      ]
     },
     "execution_count": 9,
     "metadata": {},
     "output_type": "execute_result"
    }
   ],
   "source": [
    "my_string[len(my_string) -1 ]"
   ]
  },
  {
   "cell_type": "code",
   "execution_count": 10,
   "id": "ba79c737",
   "metadata": {},
   "outputs": [
    {
     "data": {
      "text/plain": [
       "'d'"
      ]
     },
     "execution_count": 10,
     "metadata": {},
     "output_type": "execute_result"
    }
   ],
   "source": [
    "my_string[11 -1]"
   ]
  },
  {
   "cell_type": "code",
   "execution_count": 11,
   "id": "16ae84bf",
   "metadata": {},
   "outputs": [
    {
     "ename": "IndexError",
     "evalue": "string index out of range",
     "output_type": "error",
     "traceback": [
      "\u001b[0;31m---------------------------------------------------------------------------\u001b[0m",
      "\u001b[0;31mIndexError\u001b[0m                                Traceback (most recent call last)",
      "\u001b[0;32m/var/folders/6m/8n2ktxl566j8yp0n_qx7x5bw0000gt/T/ipykernel_30690/4123106262.py\u001b[0m in \u001b[0;36m<module>\u001b[0;34m\u001b[0m\n\u001b[0;32m----> 1\u001b[0;31m \u001b[0mmy_string\u001b[0m\u001b[0;34m[\u001b[0m\u001b[0;36m11\u001b[0m\u001b[0;34m]\u001b[0m\u001b[0;34m\u001b[0m\u001b[0;34m\u001b[0m\u001b[0m\n\u001b[0m",
      "\u001b[0;31mIndexError\u001b[0m: string index out of range"
     ]
    }
   ],
   "source": [
    "my_string[11]"
   ]
  },
  {
   "cell_type": "markdown",
   "id": "c564c1a3",
   "metadata": {
    "slideshow": {
     "slide_type": "subslide"
    }
   },
   "source": [
    "### Access the last charater in a string\n",
    "\n",
    "* Find the index of the last charater \n",
    "    * A built-in function called len() that gives the information about length of an object\n",
    "* Use that index to access the character\n"
   ]
  },
  {
   "cell_type": "markdown",
   "id": "b1c526c9",
   "metadata": {
    "slideshow": {
     "slide_type": "fragment"
    }
   },
   "source": [
    "**Python starts counting at zero!**\n",
    "\n",
    "**The index of the last element will always be: len(string) - 1**"
   ]
  },
  {
   "cell_type": "code",
   "execution_count": 12,
   "id": "4c33ea34",
   "metadata": {},
   "outputs": [
    {
     "data": {
      "text/plain": [
       "'d'"
      ]
     },
     "execution_count": 12,
     "metadata": {},
     "output_type": "execute_result"
    }
   ],
   "source": [
    "my_string[11-1]"
   ]
  },
  {
   "cell_type": "code",
   "execution_count": 13,
   "id": "d42de85e",
   "metadata": {},
   "outputs": [
    {
     "data": {
      "text/plain": [
       "'d'"
      ]
     },
     "execution_count": 13,
     "metadata": {},
     "output_type": "execute_result"
    }
   ],
   "source": [
    "my_string[len(my_string)-1]"
   ]
  },
  {
   "cell_type": "markdown",
   "id": "7f3b1553",
   "metadata": {
    "slideshow": {
     "slide_type": "subslide"
    }
   },
   "source": [
    "### Negative index\n",
    "Another way to grab the last element so we don't need to calculate the length and substract one.\n",
    "\n",
    "Count backwards!"
   ]
  },
  {
   "cell_type": "code",
   "execution_count": 14,
   "id": "dc36a744",
   "metadata": {},
   "outputs": [
    {
     "data": {
      "text/plain": [
       "'Hello World'"
      ]
     },
     "execution_count": 14,
     "metadata": {},
     "output_type": "execute_result"
    }
   ],
   "source": [
    "my_string"
   ]
  },
  {
   "cell_type": "code",
   "execution_count": 15,
   "id": "18399ac7",
   "metadata": {},
   "outputs": [
    {
     "data": {
      "text/plain": [
       "'d'"
      ]
     },
     "execution_count": 15,
     "metadata": {},
     "output_type": "execute_result"
    }
   ],
   "source": [
    "my_string[-1]"
   ]
  },
  {
   "cell_type": "code",
   "execution_count": 16,
   "id": "2868b210",
   "metadata": {},
   "outputs": [
    {
     "data": {
      "text/plain": [
       "'l'"
      ]
     },
     "execution_count": 16,
     "metadata": {},
     "output_type": "execute_result"
    }
   ],
   "source": [
    "my_string[-2]"
   ]
  },
  {
   "cell_type": "markdown",
   "id": "9fba3b4c",
   "metadata": {
    "slideshow": {
     "slide_type": "subslide"
    }
   },
   "source": [
    "### Index has to be an integer!\n",
    "\n",
    "Data type matters"
   ]
  },
  {
   "cell_type": "code",
   "execution_count": 17,
   "id": "6b78f545",
   "metadata": {},
   "outputs": [
    {
     "ename": "TypeError",
     "evalue": "string indices must be integers",
     "output_type": "error",
     "traceback": [
      "\u001b[0;31m---------------------------------------------------------------------------\u001b[0m",
      "\u001b[0;31mTypeError\u001b[0m                                 Traceback (most recent call last)",
      "\u001b[0;32m/var/folders/6m/8n2ktxl566j8yp0n_qx7x5bw0000gt/T/ipykernel_30690/904988526.py\u001b[0m in \u001b[0;36m<module>\u001b[0;34m\u001b[0m\n\u001b[0;32m----> 1\u001b[0;31m \u001b[0mmy_string\u001b[0m\u001b[0;34m[\u001b[0m\u001b[0;36m1.0\u001b[0m\u001b[0;34m]\u001b[0m\u001b[0;34m\u001b[0m\u001b[0;34m\u001b[0m\u001b[0m\n\u001b[0m",
      "\u001b[0;31mTypeError\u001b[0m: string indices must be integers"
     ]
    }
   ],
   "source": [
    "my_string[1.0]"
   ]
  },
  {
   "cell_type": "code",
   "execution_count": 18,
   "id": "11b51105",
   "metadata": {},
   "outputs": [
    {
     "data": {
      "text/plain": [
       "'e'"
      ]
     },
     "execution_count": 18,
     "metadata": {},
     "output_type": "execute_result"
    }
   ],
   "source": [
    "my_string[int(1.0)]"
   ]
  },
  {
   "cell_type": "code",
   "execution_count": 19,
   "id": "51d26a7f",
   "metadata": {},
   "outputs": [
    {
     "data": {
      "text/plain": [
       "'Hello World'"
      ]
     },
     "execution_count": 19,
     "metadata": {},
     "output_type": "execute_result"
    }
   ],
   "source": [
    "my_string"
   ]
  },
  {
   "cell_type": "code",
   "execution_count": 20,
   "id": "eb78a5d6",
   "metadata": {},
   "outputs": [
    {
     "ename": "TypeError",
     "evalue": "string indices must be integers",
     "output_type": "error",
     "traceback": [
      "\u001b[0;31m---------------------------------------------------------------------------\u001b[0m",
      "\u001b[0;31mTypeError\u001b[0m                                 Traceback (most recent call last)",
      "\u001b[0;32m/var/folders/6m/8n2ktxl566j8yp0n_qx7x5bw0000gt/T/ipykernel_30690/895010612.py\u001b[0m in \u001b[0;36m<module>\u001b[0;34m\u001b[0m\n\u001b[0;32m----> 1\u001b[0;31m \u001b[0mmy_string\u001b[0m\u001b[0;34m[\u001b[0m\u001b[0mlen\u001b[0m\u001b[0;34m(\u001b[0m\u001b[0mmy_string\u001b[0m\u001b[0;34m)\u001b[0m \u001b[0;34m-\u001b[0m \u001b[0;36m1.0\u001b[0m\u001b[0;34m]\u001b[0m\u001b[0;34m\u001b[0m\u001b[0;34m\u001b[0m\u001b[0m\n\u001b[0m",
      "\u001b[0;31mTypeError\u001b[0m: string indices must be integers"
     ]
    }
   ],
   "source": [
    "my_string[len(my_string) - 1.0]"
   ]
  },
  {
   "cell_type": "code",
   "execution_count": 21,
   "id": "68a5f96a",
   "metadata": {},
   "outputs": [
    {
     "data": {
      "text/plain": [
       "float"
      ]
     },
     "execution_count": 21,
     "metadata": {},
     "output_type": "execute_result"
    }
   ],
   "source": [
    "type(len(my_string)- 1.0 )"
   ]
  },
  {
   "cell_type": "markdown",
   "id": "f87fe090",
   "metadata": {},
   "source": [
    "### strings are immutable\n",
    "\n",
    "a string value cannot be updated"
   ]
  },
  {
   "cell_type": "code",
   "execution_count": 22,
   "id": "f6677db9",
   "metadata": {},
   "outputs": [
    {
     "data": {
      "text/plain": [
       "'Hello World'"
      ]
     },
     "execution_count": 22,
     "metadata": {},
     "output_type": "execute_result"
    }
   ],
   "source": [
    "my_string"
   ]
  },
  {
   "cell_type": "code",
   "execution_count": 23,
   "id": "2f6296e0",
   "metadata": {},
   "outputs": [
    {
     "data": {
      "text/plain": [
       "' '"
      ]
     },
     "execution_count": 23,
     "metadata": {},
     "output_type": "execute_result"
    }
   ],
   "source": [
    "my_string[5]"
   ]
  },
  {
   "cell_type": "code",
   "execution_count": 24,
   "id": "7f9059b3",
   "metadata": {},
   "outputs": [
    {
     "ename": "TypeError",
     "evalue": "'str' object does not support item assignment",
     "output_type": "error",
     "traceback": [
      "\u001b[0;31m---------------------------------------------------------------------------\u001b[0m",
      "\u001b[0;31mTypeError\u001b[0m                                 Traceback (most recent call last)",
      "\u001b[0;32m/var/folders/6m/8n2ktxl566j8yp0n_qx7x5bw0000gt/T/ipykernel_30690/18060670.py\u001b[0m in \u001b[0;36m<module>\u001b[0;34m\u001b[0m\n\u001b[0;32m----> 1\u001b[0;31m \u001b[0mmy_string\u001b[0m\u001b[0;34m[\u001b[0m\u001b[0;36m5\u001b[0m\u001b[0;34m]\u001b[0m \u001b[0;34m=\u001b[0m \u001b[0;34m\"_\"\u001b[0m\u001b[0;34m\u001b[0m\u001b[0;34m\u001b[0m\u001b[0m\n\u001b[0m",
      "\u001b[0;31mTypeError\u001b[0m: 'str' object does not support item assignment"
     ]
    }
   ],
   "source": [
    "my_string[5] = \"_\""
   ]
  },
  {
   "cell_type": "code",
   "execution_count": 25,
   "id": "809ffd70",
   "metadata": {},
   "outputs": [
    {
     "data": {
      "text/plain": [
       "'Hello_World'"
      ]
     },
     "execution_count": 25,
     "metadata": {},
     "output_type": "execute_result"
    }
   ],
   "source": [
    "'Hello'+'_'+'World'"
   ]
  },
  {
   "cell_type": "code",
   "execution_count": 26,
   "id": "3b1099b3",
   "metadata": {},
   "outputs": [
    {
     "data": {
      "text/plain": [
       "'Hello_World'"
      ]
     },
     "execution_count": 26,
     "metadata": {},
     "output_type": "execute_result"
    }
   ],
   "source": [
    "'Hello_World'"
   ]
  },
  {
   "cell_type": "markdown",
   "id": "a6becb44",
   "metadata": {
    "slideshow": {
     "slide_type": "subslide"
    }
   },
   "source": [
    "### `in` operator\n",
    "\n",
    "* Check whether a substring occurs in the string\n",
    "* Returns a boolean value"
   ]
  },
  {
   "cell_type": "code",
   "execution_count": 27,
   "id": "637f8bdd",
   "metadata": {},
   "outputs": [
    {
     "data": {
      "text/plain": [
       "'Hello World'"
      ]
     },
     "execution_count": 27,
     "metadata": {},
     "output_type": "execute_result"
    }
   ],
   "source": [
    "my_string"
   ]
  },
  {
   "cell_type": "code",
   "execution_count": 28,
   "id": "962438f9",
   "metadata": {},
   "outputs": [
    {
     "data": {
      "text/plain": [
       "True"
      ]
     },
     "execution_count": 28,
     "metadata": {},
     "output_type": "execute_result"
    }
   ],
   "source": [
    "\"d\" in my_string"
   ]
  },
  {
   "cell_type": "code",
   "execution_count": 29,
   "id": "33938038",
   "metadata": {},
   "outputs": [
    {
     "data": {
      "text/plain": [
       "False"
      ]
     },
     "execution_count": 29,
     "metadata": {},
     "output_type": "execute_result"
    }
   ],
   "source": [
    "\"hello\" in my_string"
   ]
  },
  {
   "cell_type": "code",
   "execution_count": 30,
   "id": "5917ba3e",
   "metadata": {},
   "outputs": [
    {
     "data": {
      "text/plain": [
       "True"
      ]
     },
     "execution_count": 30,
     "metadata": {},
     "output_type": "execute_result"
    }
   ],
   "source": [
    "\"Hello\" in my_string"
   ]
  },
  {
   "cell_type": "markdown",
   "id": "4f67c2bb",
   "metadata": {
    "slideshow": {
     "slide_type": "slide"
    }
   },
   "source": [
    "# Iterating over a string  with `for` statements (for Loops) (traversal)\n",
    "\n",
    "Traversal: start at the beginning, select each character in turn, do something to it, and continue until the end.\n",
    "\n",
    "* `for` statments are used to iterate over sequences \n",
    "* `for/range` statments are used to iterate over sequences using an index\n",
    "\n",
    "The idea of _iteration_ (in plain English) is to repeat a process several times. If you have any programming experience with another language (like C or Java, say), you may have an idea of how to create iteration with `for` statements. But these are a little different in Python, as you can read in the [documentation](https://docs.python.org/3/tutorial/controlflow.html#for-statements).\n",
    "\n",
    "A Python `for` statement iterates over the items of a sequence, naturally. "
   ]
  },
  {
   "cell_type": "code",
   "execution_count": 31,
   "id": "7f6f7e6d",
   "metadata": {},
   "outputs": [
    {
     "data": {
      "text/plain": [
       "'Hello World'"
      ]
     },
     "execution_count": 31,
     "metadata": {},
     "output_type": "execute_result"
    }
   ],
   "source": [
    "my_string"
   ]
  },
  {
   "cell_type": "code",
   "execution_count": 32,
   "id": "bc68e039",
   "metadata": {},
   "outputs": [
    {
     "name": "stdout",
     "output_type": "stream",
     "text": [
      "H\n",
      "e\n",
      "l\n",
      "l\n",
      "o\n",
      " \n",
      "W\n",
      "o\n",
      "r\n",
      "l\n",
      "d\n"
     ]
    }
   ],
   "source": [
    "for s in my_string:\n",
    "    print(s)"
   ]
  },
  {
   "cell_type": "code",
   "execution_count": 33,
   "id": "afe3b68f",
   "metadata": {},
   "outputs": [
    {
     "name": "stdout",
     "output_type": "stream",
     "text": [
      "d\n"
     ]
    }
   ],
   "source": [
    "print(s)"
   ]
  },
  {
   "cell_type": "markdown",
   "id": "ad2e1efd",
   "metadata": {
    "slideshow": {
     "slide_type": "subslide"
    }
   },
   "source": [
    "### Syntax of a  `for` statement\n",
    "\n",
    "```python\n",
    "for s in my_string:\n",
    "    print(s)\n",
    "```\n",
    "\n",
    "* `for`: keyword for for Loops (repetitions)\n",
    "* `in`: operator\n",
    "    * check whether a specified value is a constituent element of a sequence like string, array, list, or tuple etc.\n",
    "    * `s in my_string`: check whether `s` is a constituent element of `my_string`\n",
    "* logic: \n",
    "    * assign the first element of `my_string` to `s`, execute the block that follows.\n",
    "    * assign the second element of `my_string` to `s`, execute the block that follows.\n",
    "    * ...\n",
    "    * assign the last element of `my_string` to `s`, execute the block that follows."
   ]
  },
  {
   "cell_type": "markdown",
   "id": "6acec040",
   "metadata": {
    "slideshow": {
     "slide_type": "subslide"
    }
   },
   "source": [
    "### Group Exercise (work in a two (or three) people group randomly assigned by the instructor)\n",
    "\n",
    "Write a `for` statement to find each element in the string `\"python is fun!\"` and add a suffix `\"_suffix\"` to each element and print it out. For instance, the first printed out string is `\"p_suffix\"`\n",
    "\n",
    "> When you are done, raise your hand!"
   ]
  },
  {
   "cell_type": "code",
   "execution_count": null,
   "id": "5428626f",
   "metadata": {},
   "outputs": [],
   "source": [
    "s = \"python is fun!\"\n",
    "for substring in s:\n",
    "    print(substring + \"_suffix\")"
   ]
  },
  {
   "cell_type": "code",
   "execution_count": 36,
   "id": "753d9154",
   "metadata": {},
   "outputs": [
    {
     "name": "stdout",
     "output_type": "stream",
     "text": [
      "p_suffix\n",
      "y_suffix\n",
      "t_suffix\n",
      "h_suffix\n",
      "o_suffix\n",
      "n_suffix\n",
      "i_suffix\n",
      "s_suffix\n",
      "f_suffix\n",
      "u_suffix\n",
      "n_suffix\n",
      "!_suffix\n"
     ]
    }
   ],
   "source": [
    "s = \"python is fun!\"\n",
    "for substring in s:\n",
    "    if substring == \" \":\n",
    "#         print(substring)\n",
    "#         break\n",
    "        \n",
    "        continue\n",
    "        print(substring)\n",
    "    else:\n",
    "        print(substring + \"_suffix\")\n",
    "        \n",
    "# print(substring + \"_suffix\")\n"
   ]
  },
  {
   "cell_type": "markdown",
   "id": "b57829aa",
   "metadata": {
    "slideshow": {
     "slide_type": "subslide"
    }
   },
   "source": [
    "### `for/range` statments \n",
    "\n",
    "Can be used to iterate over sequences (e.g, a string) using an index\n",
    "\n",
    "* range(): a built-in function that provides a sequence of integers\n",
    "\n",
    "```python\n",
    "for i in range(3):\n",
    "    print(i)\n",
    "\n",
    "```"
   ]
  },
  {
   "cell_type": "code",
   "execution_count": 37,
   "id": "c05d1393",
   "metadata": {},
   "outputs": [
    {
     "name": "stdout",
     "output_type": "stream",
     "text": [
      "0\n",
      "1\n",
      "2\n"
     ]
    }
   ],
   "source": [
    "for i in range(3):\n",
    "    print(i)"
   ]
  },
  {
   "cell_type": "code",
   "execution_count": 38,
   "id": "def2e7fd",
   "metadata": {},
   "outputs": [],
   "source": [
    "a = \"UNT\""
   ]
  },
  {
   "cell_type": "code",
   "execution_count": 39,
   "id": "a12a8063",
   "metadata": {},
   "outputs": [
    {
     "data": {
      "text/plain": [
       "'UNT'"
      ]
     },
     "execution_count": 39,
     "metadata": {},
     "output_type": "execute_result"
    }
   ],
   "source": [
    "a"
   ]
  },
  {
   "cell_type": "code",
   "execution_count": 40,
   "id": "d63fa4c4",
   "metadata": {},
   "outputs": [
    {
     "data": {
      "text/plain": [
       "'U'"
      ]
     },
     "execution_count": 40,
     "metadata": {},
     "output_type": "execute_result"
    }
   ],
   "source": [
    "a[0]"
   ]
  },
  {
   "cell_type": "code",
   "execution_count": 41,
   "id": "f6ea5856",
   "metadata": {},
   "outputs": [
    {
     "data": {
      "text/plain": [
       "'N'"
      ]
     },
     "execution_count": 41,
     "metadata": {},
     "output_type": "execute_result"
    }
   ],
   "source": [
    "a[1]"
   ]
  },
  {
   "cell_type": "code",
   "execution_count": 42,
   "id": "f8b02548",
   "metadata": {},
   "outputs": [
    {
     "data": {
      "text/plain": [
       "'T'"
      ]
     },
     "execution_count": 42,
     "metadata": {},
     "output_type": "execute_result"
    }
   ],
   "source": [
    "a[2]"
   ]
  },
  {
   "cell_type": "code",
   "execution_count": 43,
   "id": "7fd5ddaa",
   "metadata": {},
   "outputs": [
    {
     "data": {
      "text/plain": [
       "'UNT'"
      ]
     },
     "execution_count": 43,
     "metadata": {},
     "output_type": "execute_result"
    }
   ],
   "source": [
    "a"
   ]
  },
  {
   "cell_type": "code",
   "execution_count": 44,
   "id": "258d6a78",
   "metadata": {},
   "outputs": [
    {
     "name": "stdout",
     "output_type": "stream",
     "text": [
      "U\n",
      "N\n",
      "T\n"
     ]
    }
   ],
   "source": [
    "for i in range(3):\n",
    "    print(a[i])"
   ]
  },
  {
   "cell_type": "code",
   "execution_count": 45,
   "id": "6785e0f9",
   "metadata": {},
   "outputs": [
    {
     "name": "stdout",
     "output_type": "stream",
     "text": [
      "U\n",
      "N\n",
      "T\n"
     ]
    }
   ],
   "source": [
    "for i in range(len(a)):\n",
    "    print(a[i])"
   ]
  },
  {
   "cell_type": "code",
   "execution_count": 46,
   "id": "a9889950",
   "metadata": {},
   "outputs": [
    {
     "name": "stdout",
     "output_type": "stream",
     "text": [
      "s\n",
      "d\n",
      "f\n",
      "s\n",
      "d\n",
      "g\n",
      "s\n",
      "d\n",
      "g\n",
      "s\n",
      "a\n",
      "h\n",
      "g\n",
      "a\n",
      "e\n",
      "g\n",
      "m\n",
      "o\n",
      "a\n",
      "e\n",
      "j\n",
      "g\n",
      "p\n",
      "i\n",
      "e\n",
      "a\n",
      "n\n",
      "b\n",
      "p\n",
      "i\n",
      "a\n",
      "e\n"
     ]
    }
   ],
   "source": [
    "a = \"sdfsdgsdgsahgaegmoaejgpieanbpiae\"\n",
    "for i in range(len(a)):\n",
    "    print(a[i])"
   ]
  },
  {
   "cell_type": "markdown",
   "id": "81a5ab56",
   "metadata": {},
   "source": [
    "### `for/range` statments \n",
    "\n",
    "Can be used to iterate over sequences (e.g, a string) using an index\n",
    "\n",
    "* find the length of the string\n",
    "* generate a sequence of integers (representing indexes)\n",
    "* get the character using indexing"
   ]
  },
  {
   "cell_type": "code",
   "execution_count": 47,
   "id": "2b163f1a",
   "metadata": {},
   "outputs": [],
   "source": [
    "a = \"python is fun!\""
   ]
  },
  {
   "cell_type": "code",
   "execution_count": 48,
   "id": "e87a5e83",
   "metadata": {},
   "outputs": [
    {
     "data": {
      "text/plain": [
       "14"
      ]
     },
     "execution_count": 48,
     "metadata": {},
     "output_type": "execute_result"
    }
   ],
   "source": [
    "length_a = len(a)\n",
    "length_a"
   ]
  },
  {
   "cell_type": "code",
   "execution_count": 49,
   "id": "fdac2ac1",
   "metadata": {},
   "outputs": [
    {
     "data": {
      "text/plain": [
       "range(0, 14)"
      ]
     },
     "execution_count": 49,
     "metadata": {},
     "output_type": "execute_result"
    }
   ],
   "source": [
    "range(len(a))"
   ]
  },
  {
   "cell_type": "code",
   "execution_count": 50,
   "id": "b548b5d5",
   "metadata": {},
   "outputs": [
    {
     "name": "stdout",
     "output_type": "stream",
     "text": [
      "p\n",
      "y\n",
      "t\n",
      "h\n",
      "o\n",
      "n\n",
      " \n",
      "i\n",
      "s\n",
      " \n",
      "f\n",
      "u\n",
      "n\n",
      "!\n"
     ]
    }
   ],
   "source": [
    "for i in range(14):\n",
    "    print(a[i])"
   ]
  },
  {
   "cell_type": "markdown",
   "id": "0c545a97",
   "metadata": {
    "slideshow": {
     "slide_type": "subslide"
    }
   },
   "source": [
    "### Group Exercise \n",
    "\n",
    "Write a `for/range` statement to print each element in the string `\"It is a great day!\"`:\n",
    "\n",
    "> When you are done, raise your hand!"
   ]
  },
  {
   "cell_type": "code",
   "execution_count": 52,
   "id": "a8a62c55",
   "metadata": {},
   "outputs": [
    {
     "name": "stdout",
     "output_type": "stream",
     "text": [
      "I\n",
      "t\n",
      " \n",
      "i\n",
      "s\n",
      " \n",
      "a\n",
      " \n",
      "g\n",
      "r\n",
      "e\n",
      "a\n",
      "t\n",
      " \n",
      "d\n",
      "a\n",
      "y\n",
      "!\n"
     ]
    }
   ],
   "source": [
    "a_string = \"It is a great day!\"\n",
    "for i in range(len(a_string)):\n",
    "    print(a_string[i])"
   ]
  },
  {
   "cell_type": "code",
   "execution_count": 51,
   "id": "968d9247",
   "metadata": {},
   "outputs": [
    {
     "name": "stdout",
     "output_type": "stream",
     "text": [
      "I\n",
      "t\n",
      " \n",
      "i\n",
      "s\n",
      " \n",
      "a\n",
      " \n",
      "g\n",
      "r\n",
      "e\n",
      "a\n",
      "t\n",
      " \n",
      "d\n",
      "a\n",
      "y\n",
      "!\n"
     ]
    }
   ],
   "source": [
    "a_string = \"It is a great day!\"\n",
    "for i in a_string:\n",
    "    print(i)"
   ]
  },
  {
   "attachments": {},
   "cell_type": "markdown",
   "id": "d3a78926",
   "metadata": {
    "slideshow": {
     "slide_type": "slide"
    }
   },
   "source": [
    "# Next Class\n",
    "\n",
    "\n",
    "* String methods\n",
    "\n",
    "Readings: Chapter 9"
   ]
  },
  {
   "cell_type": "code",
   "execution_count": null,
   "id": "6f9047f4",
   "metadata": {},
   "outputs": [],
   "source": []
  }
 ],
 "metadata": {
  "celltoolbar": "Slideshow",
  "kernelspec": {
   "display_name": "Python 3 (ipykernel)",
   "language": "python",
   "name": "python3"
  },
  "language_info": {
   "codemirror_mode": {
    "name": "ipython",
    "version": 3
   },
   "file_extension": ".py",
   "mimetype": "text/x-python",
   "name": "python",
   "nbconvert_exporter": "python",
   "pygments_lexer": "ipython3",
   "version": "3.9.13"
  }
 },
 "nbformat": 4,
 "nbformat_minor": 5
}
