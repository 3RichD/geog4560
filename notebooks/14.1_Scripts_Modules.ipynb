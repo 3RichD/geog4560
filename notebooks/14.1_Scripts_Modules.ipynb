{
 "cells": [
  {
   "cell_type": "markdown",
   "id": "381c2cef",
   "metadata": {
    "slideshow": {
     "slide_type": "slide"
    }
   },
   "source": [
    "# Introduction to Python for Open Source Geocomputation\n",
    "\n",
    "![python](pics/python-logo-master-v3-TM.png)\n",
    "\n",
    "* Instructor: Dr. Wei Kang\n",
    "* Class Location and Time: ENV 336, Mon & Wed 12:30 pm - 1:50 pm\n",
    "\n",
    "Content:\n",
    "\n",
    "* Scripts\n",
    "* Modules\n",
    "* Packages"
   ]
  },
  {
   "cell_type": "markdown",
   "id": "a82c118d",
   "metadata": {
    "slideshow": {
     "slide_type": "slide"
    }
   },
   "source": [
    "### Two working modes modes: interactively and running scripts\n",
    "\n",
    "* Interactive working mode (interpreter (code cell in a Jupyter Notebook))\n",
    "    * You can use the interpreter to build up and test pieces of code until you get them working to your liking, at which point you can save them to the text file/script.\n",
    "* Running scripts:\n",
    "    * Scripts are useful when you want to permanently save some code with an eye for reuse later. \n",
    "\n",
    "Complementary: using both an interpreter and scripts together is a common use pattern for scientific programming in Python."
   ]
  },
  {
   "cell_type": "markdown",
   "id": "71c2821f",
   "metadata": {
    "slideshow": {
     "slide_type": "slide"
    }
   },
   "source": [
    "# What is a script?\n",
    "\n",
    "\n",
    "* write the code in text files \n",
    "    * using a text editor\n",
    "    * Integrated Development Environment (IDE)\n",
    "        * more features such as build automation, code highlighting, testing and debugging.\n",
    "        * examples: PyCharm, Spyder, visual studio\n",
    "* The file has the **.py** extension  "
   ]
  },
  {
   "cell_type": "markdown",
   "id": "716d68a2",
   "metadata": {
    "slideshow": {
     "slide_type": "subslide"
    }
   },
   "source": [
    "### Writing and Running Python Scripts\n",
    "\n",
    "* Create a new file from the Jupyter directory called `hello.py` and enter the following into this file \n",
    "\n",
    "```python \n",
    "print('Hello World!')\n",
    "```\n",
    "* Running the script `hello.py`\n",
    "\n",
    "    * Shell (Windows: Git BASH, Mac: terminal): \n",
    "    ```\n",
    "    python hello.py \n",
    "    ```\n",
    "\n",
    "    * Python interpreter:\n",
    "    ```python\n",
    "    >>> exec(open(\"hello.py\").read())\n",
    "    ```\n"
   ]
  },
  {
   "cell_type": "code",
   "execution_count": 1,
   "id": "7338de02",
   "metadata": {
    "slideshow": {
     "slide_type": "fragment"
    }
   },
   "outputs": [
    {
     "name": "stdout",
     "output_type": "stream",
     "text": [
      "Hello World\n"
     ]
    }
   ],
   "source": [
    "exec(open(\"hello.py\").read())"
   ]
  },
  {
   "cell_type": "markdown",
   "id": "d3f2266c",
   "metadata": {
    "slideshow": {
     "slide_type": "slide"
    }
   },
   "source": [
    "# What is a Module?\n",
    "\n",
    "* More organized \"script\" \n",
    "    * A module is a set of **functions and data structures**.\n",
    "* A module is a file containing Python code that can be **reused** in other Python code files.\n",
    "* The file of a Python module has the **.py** extension.\n",
    "* A module is often reused by `import` statements."
   ]
  },
  {
   "cell_type": "markdown",
   "id": "91bcb856",
   "metadata": {
    "slideshow": {
     "slide_type": "subslide"
    }
   },
   "source": [
    "## Standard Python Modules\n",
    "\n",
    "Python comes with a rich set of standard modules ([learn more](https://docs.python.org/3/tutorial/stdlib.html)):\n",
    "\n",
    "* Numeric and Mathematical Modules\n",
    "    * numbers — Numeric abstract base classes\n",
    "    * math — Mathematical functions\n",
    "    * cmath — Mathematical functions for complex numbers\n",
    "    * decimal — Decimal fixed point and floating point arithmetic\n",
    "    * fractions — Rational numbers\n",
    "    * random — Generate pseudo-random numbers\n",
    "    * statistics — Mathematical statistics functions\n",
    "* Functional Programming Modules\n",
    "    * itertools — Functions creating iterators for efficient looping\n",
    "    * functools — Higher-order functions and operations on callable objects\n",
    "    * operator — Standard operators as functions\n",
    "\n"
   ]
  },
  {
   "cell_type": "markdown",
   "id": "5c1cb9e9",
   "metadata": {
    "slideshow": {
     "slide_type": "subslide"
    }
   },
   "source": [
    "## Using Modules\n",
    "\n",
    "* getting the whole module: `import module_name`\n",
    "* only getting a specific function/class/attribute: `from module_name import something`"
   ]
  },
  {
   "cell_type": "code",
   "execution_count": 2,
   "id": "3f191584",
   "metadata": {
    "slideshow": {
     "slide_type": "fragment"
    }
   },
   "outputs": [],
   "source": [
    "import math"
   ]
  },
  {
   "cell_type": "markdown",
   "id": "a72f965d",
   "metadata": {
    "slideshow": {
     "slide_type": "fragment"
    }
   },
   "source": [
    "Use `math.` tab to inspect all the objects (functions, variables, etc) in the current namespace "
   ]
  },
  {
   "cell_type": "code",
   "execution_count": 3,
   "id": "26cd7fc1",
   "metadata": {},
   "outputs": [
    {
     "ename": "SyntaxError",
     "evalue": "invalid syntax (3171735483.py, line 1)",
     "output_type": "error",
     "traceback": [
      "\u001b[0;36m  Cell \u001b[0;32mIn[3], line 1\u001b[0;36m\u001b[0m\n\u001b[0;31m    math.\u001b[0m\n\u001b[0m         ^\u001b[0m\n\u001b[0;31mSyntaxError\u001b[0m\u001b[0;31m:\u001b[0m invalid syntax\n"
     ]
    }
   ],
   "source": [
    "math."
   ]
  },
  {
   "cell_type": "code",
   "execution_count": 4,
   "id": "bac23973",
   "metadata": {
    "slideshow": {
     "slide_type": "fragment"
    }
   },
   "outputs": [],
   "source": [
    "math.isinf?"
   ]
  },
  {
   "cell_type": "code",
   "execution_count": 5,
   "id": "b7d5217b",
   "metadata": {},
   "outputs": [
    {
     "name": "stdout",
     "output_type": "stream",
     "text": [
      "Help on built-in function isinf in module math:\n",
      "\n",
      "isinf(x, /)\n",
      "    Return True if x is a positive or negative infinity, and False otherwise.\n",
      "\n"
     ]
    }
   ],
   "source": [
    "help(math.isinf)"
   ]
  },
  {
   "cell_type": "code",
   "execution_count": 6,
   "id": "7b302f41",
   "metadata": {
    "slideshow": {
     "slide_type": "fragment"
    }
   },
   "outputs": [
    {
     "data": {
      "text/plain": [
       "['__doc__',\n",
       " '__file__',\n",
       " '__loader__',\n",
       " '__name__',\n",
       " '__package__',\n",
       " '__spec__',\n",
       " 'acos',\n",
       " 'acosh',\n",
       " 'asin',\n",
       " 'asinh',\n",
       " 'atan',\n",
       " 'atan2',\n",
       " 'atanh',\n",
       " 'ceil',\n",
       " 'comb',\n",
       " 'copysign',\n",
       " 'cos',\n",
       " 'cosh',\n",
       " 'degrees',\n",
       " 'dist',\n",
       " 'e',\n",
       " 'erf',\n",
       " 'erfc',\n",
       " 'exp',\n",
       " 'expm1',\n",
       " 'fabs',\n",
       " 'factorial',\n",
       " 'floor',\n",
       " 'fmod',\n",
       " 'frexp',\n",
       " 'fsum',\n",
       " 'gamma',\n",
       " 'gcd',\n",
       " 'hypot',\n",
       " 'inf',\n",
       " 'isclose',\n",
       " 'isfinite',\n",
       " 'isinf',\n",
       " 'isnan',\n",
       " 'isqrt',\n",
       " 'lcm',\n",
       " 'ldexp',\n",
       " 'lgamma',\n",
       " 'log',\n",
       " 'log10',\n",
       " 'log1p',\n",
       " 'log2',\n",
       " 'modf',\n",
       " 'nan',\n",
       " 'nextafter',\n",
       " 'perm',\n",
       " 'pi',\n",
       " 'pow',\n",
       " 'prod',\n",
       " 'radians',\n",
       " 'remainder',\n",
       " 'sin',\n",
       " 'sinh',\n",
       " 'sqrt',\n",
       " 'tan',\n",
       " 'tanh',\n",
       " 'tau',\n",
       " 'trunc',\n",
       " 'ulp']"
      ]
     },
     "execution_count": 6,
     "metadata": {},
     "output_type": "execute_result"
    }
   ],
   "source": [
    "dir(math) # used to find out which names a module defines"
   ]
  },
  {
   "cell_type": "markdown",
   "id": "96e263de",
   "metadata": {
    "slideshow": {
     "slide_type": "subslide"
    }
   },
   "source": [
    "Use the form ``module.function_name`` to call a function that lives inside the module."
   ]
  },
  {
   "cell_type": "code",
   "execution_count": 7,
   "id": "06d75cec",
   "metadata": {
    "slideshow": {
     "slide_type": "fragment"
    }
   },
   "outputs": [
    {
     "data": {
      "text/plain": [
       "2.0"
      ]
     },
     "execution_count": 7,
     "metadata": {},
     "output_type": "execute_result"
    }
   ],
   "source": [
    "math.sqrt(4)"
   ]
  },
  {
   "cell_type": "markdown",
   "id": "44b4c311",
   "metadata": {
    "slideshow": {
     "slide_type": "fragment"
    }
   },
   "source": [
    "Use the form ``module.attribute`` to call an attribute that lives inside the module."
   ]
  },
  {
   "cell_type": "code",
   "execution_count": 8,
   "id": "f02d553d",
   "metadata": {
    "slideshow": {
     "slide_type": "fragment"
    }
   },
   "outputs": [
    {
     "data": {
      "text/plain": [
       "3.141592653589793"
      ]
     },
     "execution_count": 8,
     "metadata": {},
     "output_type": "execute_result"
    }
   ],
   "source": [
    "math.pi"
   ]
  },
  {
   "cell_type": "markdown",
   "id": "70f7b8fb",
   "metadata": {
    "slideshow": {
     "slide_type": "subslide"
    }
   },
   "source": [
    "Use an alias to rename the module upon import, which is handy when you have a long\n",
    "module name and want to save some typing."
   ]
  },
  {
   "cell_type": "code",
   "execution_count": 9,
   "id": "eead1cbe",
   "metadata": {
    "slideshow": {
     "slide_type": "fragment"
    }
   },
   "outputs": [],
   "source": [
    "import math as m"
   ]
  },
  {
   "cell_type": "code",
   "execution_count": 10,
   "id": "c3d0ca9a",
   "metadata": {
    "slideshow": {
     "slide_type": "fragment"
    }
   },
   "outputs": [
    {
     "data": {
      "text/plain": [
       "3.141592653589793"
      ]
     },
     "execution_count": 10,
     "metadata": {},
     "output_type": "execute_result"
    }
   ],
   "source": [
    "m.pi"
   ]
  },
  {
   "cell_type": "code",
   "execution_count": 11,
   "id": "cd611f79",
   "metadata": {},
   "outputs": [],
   "source": [
    "pi = 10"
   ]
  },
  {
   "cell_type": "code",
   "execution_count": 12,
   "id": "6a3b86cf",
   "metadata": {},
   "outputs": [
    {
     "data": {
      "text/plain": [
       "3.141592653589793"
      ]
     },
     "execution_count": 12,
     "metadata": {},
     "output_type": "execute_result"
    }
   ],
   "source": [
    "m.pi"
   ]
  },
  {
   "cell_type": "markdown",
   "id": "2c2d5a57",
   "metadata": {
    "slideshow": {
     "slide_type": "subslide"
    }
   },
   "source": [
    "`from module_name import something`"
   ]
  },
  {
   "cell_type": "code",
   "execution_count": 13,
   "id": "10e03557",
   "metadata": {},
   "outputs": [
    {
     "data": {
      "text/plain": [
       "['In',\n",
       " 'Out',\n",
       " '_',\n",
       " '_10',\n",
       " '_12',\n",
       " '_6',\n",
       " '_7',\n",
       " '_8',\n",
       " '__',\n",
       " '___',\n",
       " '__builtin__',\n",
       " '__builtins__',\n",
       " '__doc__',\n",
       " '__loader__',\n",
       " '__name__',\n",
       " '__package__',\n",
       " '__spec__',\n",
       " '_dh',\n",
       " '_i',\n",
       " '_i1',\n",
       " '_i10',\n",
       " '_i11',\n",
       " '_i12',\n",
       " '_i13',\n",
       " '_i2',\n",
       " '_i3',\n",
       " '_i4',\n",
       " '_i5',\n",
       " '_i6',\n",
       " '_i7',\n",
       " '_i8',\n",
       " '_i9',\n",
       " '_ih',\n",
       " '_ii',\n",
       " '_iii',\n",
       " '_oh',\n",
       " 'exit',\n",
       " 'get_ipython',\n",
       " 'm',\n",
       " 'math',\n",
       " 'open',\n",
       " 'pi',\n",
       " 'quit']"
      ]
     },
     "execution_count": 13,
     "metadata": {},
     "output_type": "execute_result"
    }
   ],
   "source": [
    "dir() # get a list of names comprising the attributes of the current namespac"
   ]
  },
  {
   "cell_type": "code",
   "execution_count": 14,
   "id": "3df6ef19",
   "metadata": {},
   "outputs": [],
   "source": [
    "from math import floor"
   ]
  },
  {
   "cell_type": "code",
   "execution_count": 15,
   "id": "e83f41d9",
   "metadata": {},
   "outputs": [
    {
     "name": "stdout",
     "output_type": "stream",
     "text": [
      "Help on built-in function floor in module math:\n",
      "\n",
      "floor(x, /)\n",
      "    Return the floor of x as an Integral.\n",
      "    \n",
      "    This is the largest integer <= x.\n",
      "\n"
     ]
    }
   ],
   "source": [
    "help(floor)"
   ]
  },
  {
   "cell_type": "code",
   "execution_count": 16,
   "id": "4927da92",
   "metadata": {},
   "outputs": [
    {
     "data": {
      "text/plain": [
       "4"
      ]
     },
     "execution_count": 16,
     "metadata": {},
     "output_type": "execute_result"
    }
   ],
   "source": [
    "math.floor(4.1)"
   ]
  },
  {
   "cell_type": "code",
   "execution_count": 17,
   "id": "44b1f68b",
   "metadata": {},
   "outputs": [
    {
     "data": {
      "text/plain": [
       "4"
      ]
     },
     "execution_count": 17,
     "metadata": {},
     "output_type": "execute_result"
    }
   ],
   "source": [
    "floor(4.1)"
   ]
  },
  {
   "cell_type": "code",
   "execution_count": 18,
   "id": "eb2d5cb0",
   "metadata": {},
   "outputs": [
    {
     "data": {
      "text/plain": [
       "['In',\n",
       " 'Out',\n",
       " '_',\n",
       " '_10',\n",
       " '_12',\n",
       " '_13',\n",
       " '_16',\n",
       " '_17',\n",
       " '_6',\n",
       " '_7',\n",
       " '_8',\n",
       " '__',\n",
       " '___',\n",
       " '__builtin__',\n",
       " '__builtins__',\n",
       " '__doc__',\n",
       " '__loader__',\n",
       " '__name__',\n",
       " '__package__',\n",
       " '__spec__',\n",
       " '_dh',\n",
       " '_i',\n",
       " '_i1',\n",
       " '_i10',\n",
       " '_i11',\n",
       " '_i12',\n",
       " '_i13',\n",
       " '_i14',\n",
       " '_i15',\n",
       " '_i16',\n",
       " '_i17',\n",
       " '_i18',\n",
       " '_i2',\n",
       " '_i3',\n",
       " '_i4',\n",
       " '_i5',\n",
       " '_i6',\n",
       " '_i7',\n",
       " '_i8',\n",
       " '_i9',\n",
       " '_ih',\n",
       " '_ii',\n",
       " '_iii',\n",
       " '_oh',\n",
       " 'exit',\n",
       " 'floor',\n",
       " 'get_ipython',\n",
       " 'm',\n",
       " 'math',\n",
       " 'open',\n",
       " 'pi',\n",
       " 'quit']"
      ]
     },
     "execution_count": 18,
     "metadata": {},
     "output_type": "execute_result"
    }
   ],
   "source": [
    "dir()"
   ]
  },
  {
   "cell_type": "code",
   "execution_count": 19,
   "id": "7e5b0148",
   "metadata": {},
   "outputs": [],
   "source": [
    "from math import * # import everything in the math module, not recommended"
   ]
  },
  {
   "cell_type": "code",
   "execution_count": 20,
   "id": "db55baa6",
   "metadata": {},
   "outputs": [
    {
     "data": {
      "text/plain": [
       "['In',\n",
       " 'Out',\n",
       " '_',\n",
       " '_10',\n",
       " '_12',\n",
       " '_13',\n",
       " '_16',\n",
       " '_17',\n",
       " '_18',\n",
       " '_6',\n",
       " '_7',\n",
       " '_8',\n",
       " '__',\n",
       " '___',\n",
       " '__builtin__',\n",
       " '__builtins__',\n",
       " '__doc__',\n",
       " '__loader__',\n",
       " '__name__',\n",
       " '__package__',\n",
       " '__spec__',\n",
       " '_dh',\n",
       " '_i',\n",
       " '_i1',\n",
       " '_i10',\n",
       " '_i11',\n",
       " '_i12',\n",
       " '_i13',\n",
       " '_i14',\n",
       " '_i15',\n",
       " '_i16',\n",
       " '_i17',\n",
       " '_i18',\n",
       " '_i19',\n",
       " '_i2',\n",
       " '_i20',\n",
       " '_i3',\n",
       " '_i4',\n",
       " '_i5',\n",
       " '_i6',\n",
       " '_i7',\n",
       " '_i8',\n",
       " '_i9',\n",
       " '_ih',\n",
       " '_ii',\n",
       " '_iii',\n",
       " '_oh',\n",
       " 'acos',\n",
       " 'acosh',\n",
       " 'asin',\n",
       " 'asinh',\n",
       " 'atan',\n",
       " 'atan2',\n",
       " 'atanh',\n",
       " 'ceil',\n",
       " 'comb',\n",
       " 'copysign',\n",
       " 'cos',\n",
       " 'cosh',\n",
       " 'degrees',\n",
       " 'dist',\n",
       " 'e',\n",
       " 'erf',\n",
       " 'erfc',\n",
       " 'exit',\n",
       " 'exp',\n",
       " 'expm1',\n",
       " 'fabs',\n",
       " 'factorial',\n",
       " 'floor',\n",
       " 'fmod',\n",
       " 'frexp',\n",
       " 'fsum',\n",
       " 'gamma',\n",
       " 'gcd',\n",
       " 'get_ipython',\n",
       " 'hypot',\n",
       " 'inf',\n",
       " 'isclose',\n",
       " 'isfinite',\n",
       " 'isinf',\n",
       " 'isnan',\n",
       " 'isqrt',\n",
       " 'lcm',\n",
       " 'ldexp',\n",
       " 'lgamma',\n",
       " 'log',\n",
       " 'log10',\n",
       " 'log1p',\n",
       " 'log2',\n",
       " 'm',\n",
       " 'math',\n",
       " 'modf',\n",
       " 'nan',\n",
       " 'nextafter',\n",
       " 'open',\n",
       " 'perm',\n",
       " 'pi',\n",
       " 'pow',\n",
       " 'prod',\n",
       " 'quit',\n",
       " 'radians',\n",
       " 'remainder',\n",
       " 'sin',\n",
       " 'sinh',\n",
       " 'sqrt',\n",
       " 'tan',\n",
       " 'tanh',\n",
       " 'tau',\n",
       " 'trunc',\n",
       " 'ulp']"
      ]
     },
     "execution_count": 20,
     "metadata": {},
     "output_type": "execute_result"
    }
   ],
   "source": [
    "dir()"
   ]
  },
  {
   "cell_type": "code",
   "execution_count": 21,
   "id": "dadbb1d0",
   "metadata": {},
   "outputs": [],
   "source": [
    "import math"
   ]
  },
  {
   "cell_type": "code",
   "execution_count": 22,
   "id": "ad9029c5",
   "metadata": {},
   "outputs": [
    {
     "data": {
      "text/plain": [
       "3.141592653589793"
      ]
     },
     "execution_count": 22,
     "metadata": {},
     "output_type": "execute_result"
    }
   ],
   "source": [
    "math.pi"
   ]
  },
  {
   "cell_type": "code",
   "execution_count": 23,
   "id": "7e348cd5",
   "metadata": {},
   "outputs": [
    {
     "data": {
      "text/plain": [
       "['In',\n",
       " 'Out',\n",
       " '_',\n",
       " '_10',\n",
       " '_12',\n",
       " '_13',\n",
       " '_16',\n",
       " '_17',\n",
       " '_18',\n",
       " '_20',\n",
       " '_22',\n",
       " '_6',\n",
       " '_7',\n",
       " '_8',\n",
       " '__',\n",
       " '___',\n",
       " '__builtin__',\n",
       " '__builtins__',\n",
       " '__doc__',\n",
       " '__loader__',\n",
       " '__name__',\n",
       " '__package__',\n",
       " '__spec__',\n",
       " '_dh',\n",
       " '_i',\n",
       " '_i1',\n",
       " '_i10',\n",
       " '_i11',\n",
       " '_i12',\n",
       " '_i13',\n",
       " '_i14',\n",
       " '_i15',\n",
       " '_i16',\n",
       " '_i17',\n",
       " '_i18',\n",
       " '_i19',\n",
       " '_i2',\n",
       " '_i20',\n",
       " '_i21',\n",
       " '_i22',\n",
       " '_i23',\n",
       " '_i3',\n",
       " '_i4',\n",
       " '_i5',\n",
       " '_i6',\n",
       " '_i7',\n",
       " '_i8',\n",
       " '_i9',\n",
       " '_ih',\n",
       " '_ii',\n",
       " '_iii',\n",
       " '_oh',\n",
       " 'acos',\n",
       " 'acosh',\n",
       " 'asin',\n",
       " 'asinh',\n",
       " 'atan',\n",
       " 'atan2',\n",
       " 'atanh',\n",
       " 'ceil',\n",
       " 'comb',\n",
       " 'copysign',\n",
       " 'cos',\n",
       " 'cosh',\n",
       " 'degrees',\n",
       " 'dist',\n",
       " 'e',\n",
       " 'erf',\n",
       " 'erfc',\n",
       " 'exit',\n",
       " 'exp',\n",
       " 'expm1',\n",
       " 'fabs',\n",
       " 'factorial',\n",
       " 'floor',\n",
       " 'fmod',\n",
       " 'frexp',\n",
       " 'fsum',\n",
       " 'gamma',\n",
       " 'gcd',\n",
       " 'get_ipython',\n",
       " 'hypot',\n",
       " 'inf',\n",
       " 'isclose',\n",
       " 'isfinite',\n",
       " 'isinf',\n",
       " 'isnan',\n",
       " 'isqrt',\n",
       " 'lcm',\n",
       " 'ldexp',\n",
       " 'lgamma',\n",
       " 'log',\n",
       " 'log10',\n",
       " 'log1p',\n",
       " 'log2',\n",
       " 'm',\n",
       " 'math',\n",
       " 'modf',\n",
       " 'nan',\n",
       " 'nextafter',\n",
       " 'open',\n",
       " 'perm',\n",
       " 'pi',\n",
       " 'pow',\n",
       " 'prod',\n",
       " 'quit',\n",
       " 'radians',\n",
       " 'remainder',\n",
       " 'sin',\n",
       " 'sinh',\n",
       " 'sqrt',\n",
       " 'tan',\n",
       " 'tanh',\n",
       " 'tau',\n",
       " 'trunc',\n",
       " 'ulp']"
      ]
     },
     "execution_count": 23,
     "metadata": {},
     "output_type": "execute_result"
    }
   ],
   "source": [
    "dir()"
   ]
  },
  {
   "cell_type": "markdown",
   "id": "d2c04c22",
   "metadata": {
    "slideshow": {
     "slide_type": "subslide"
    }
   },
   "source": [
    "### Issues with `from math import * `\n",
    "\n",
    "While this approach might seem like a good idea, it can create namespace\n",
    "clashes which arise if the module has objects with names that are identitical\n",
    "to those in the current namespace. In other words if we already had a\n",
    "``floor`` object in our namespace, it is now overwritten and points to the\n",
    "object in the math module and not the original ``floor`` object.\n",
    "\n",
    "So using the explicit module name or alias\n",
    "to protect the namespace is generally **good practice**. It also lets us reuse the\n",
    "same name across different modules."
   ]
  },
  {
   "cell_type": "markdown",
   "id": "eff2b092",
   "metadata": {
    "slideshow": {
     "slide_type": "subslide"
    }
   },
   "source": [
    "### Further learning about python standard modules\n",
    "\n",
    "* There are many more python standard modules that are very useful.\n",
    "    * Follow the following tutorials/documentations to learn more about them:\n",
    "        * [Brief Tour of the Standard Library](https://docs.python.org/3/tutorial/stdlib.html)\n",
    "        * [Python 3 Module of the Week](https://pymotw.com/3/)\n",
    "        * [Python - Built-in Modules from tutorialsteacher](https://www.tutorialsteacher.com/python/python-builtin-modules)\n",
    "* These standard python modules are building blocks of many external modules and projects"
   ]
  },
  {
   "cell_type": "code",
   "execution_count": 24,
   "id": "6b13c2df",
   "metadata": {},
   "outputs": [],
   "source": [
    "import os #python standard module for operating system interface"
   ]
  },
  {
   "cell_type": "code",
   "execution_count": 25,
   "id": "02417f8e",
   "metadata": {},
   "outputs": [
    {
     "data": {
      "text/plain": [
       "'/Users/wk0110/My Drive (weikang9009@gmail.com)/teaching/Intro to Python/2023_Spring/geog4560/notebooks'"
      ]
     },
     "execution_count": 25,
     "metadata": {},
     "output_type": "execute_result"
    }
   ],
   "source": [
    "os.getcwd() # Current Directory"
   ]
  },
  {
   "cell_type": "code",
   "execution_count": 26,
   "id": "958a442a",
   "metadata": {},
   "outputs": [
    {
     "data": {
      "text/plain": [
       "['07.1_Strings_Iteration.ipynb',\n",
       " 'hello.py',\n",
       " '11.1_Final_Project.ipynb',\n",
       " '12_OOP(1).ipynb',\n",
       " '13.1_geopandas.ipynb',\n",
       " '01.2_Introduction.ipynb',\n",
       " '11.2_Iteration(2).ipynb',\n",
       " '.DS_Store',\n",
       " '08.1_Strings_Lists.ipynb',\n",
       " '15.2_pandas.ipynb',\n",
       " '08.2_Lists.ipynb',\n",
       " 'Untitled.ipynb',\n",
       " '10.2_Sets_Dictionaries.ipynb',\n",
       " '02.2_Program-Variables-Operators.ipynb',\n",
       " '14.1_Mapping.ipynb',\n",
       " '02.1_Installation-Notebook-GitHub.ipynb',\n",
       " '04.2_ScalarDataTypes.ipynb',\n",
       " 'pics',\n",
       " '14.2_Numpy.ipynb',\n",
       " '13.1_OOP(2).ipynb',\n",
       " 'untitled.txt',\n",
       " '04_Git.ipynb',\n",
       " '10.1_Lists_Tuples.ipynb',\n",
       " '11.1_Functions(2).ipynb',\n",
       " '.ipynb_checkpoints',\n",
       " '04.1_Functions.ipynb',\n",
       " 'data',\n",
       " '15.1_Matplotlib.ipynb',\n",
       " '07.2_Strings.ipynb',\n",
       " '14.1_Scripts_Modules.ipynb',\n",
       " '06.2_Conditionals_Strings.ipynb',\n",
       " '14.1_OOP(3).ipynb']"
      ]
     },
     "execution_count": 26,
     "metadata": {},
     "output_type": "execute_result"
    }
   ],
   "source": [
    "os.listdir()  #Return a list containing the names of the files in the directory."
   ]
  },
  {
   "cell_type": "code",
   "execution_count": 27,
   "id": "e58f92f5",
   "metadata": {},
   "outputs": [
    {
     "data": {
      "text/plain": [
       "['Advanced GIS',\n",
       " 'grading',\n",
       " '.DS_Store',\n",
       " 'Geospatial Technology and Urban Environments',\n",
       " 'resources',\n",
       " 'Canvas.docx',\n",
       " 'Course design.docx',\n",
       " 'Urban and geography materials.docx',\n",
       " 'Geographic_data_analysis',\n",
       " 'Intro to Python',\n",
       " 'rubrics',\n",
       " 'Teaching and Learning with Jupyter.docx',\n",
       " 'course development',\n",
       " 'Data science',\n",
       " 'Email to students',\n",
       " 'UNT',\n",
       " 'Scaffolding group project.docx',\n",
       " 'Spatial data science',\n",
       " 'Intro to GIS']"
      ]
     },
     "execution_count": 27,
     "metadata": {},
     "output_type": "execute_result"
    }
   ],
   "source": [
    "os.listdir('/Users/wk0110/My Drive (weikang9009@gmail.com)/teaching') "
   ]
  },
  {
   "cell_type": "markdown",
   "id": "5ee894c3",
   "metadata": {
    "slideshow": {
     "slide_type": "slide"
    }
   },
   "source": [
    "## Writing our own module\n",
    "\n",
    "We will create a module and include the function that was used to `Check whether two words (strings) are the reverse of each other` (Part B of HW4) in the module. Our module will be named `hw4.py` and the function will be called `is_reverse` and take two arguments:\n",
    "\n",
    "* string1\n",
    "* string2\n",
    "\n",
    "It will return `True` or `False`.\n",
    "\n",
    "From the Jupyter Notebook Dashboard, click \"New\"-\"Text File\" to create the file ``hw4.py`` so that its contents are as follows (You may copy your solution to Part B of HW4 to this file instead)::"
   ]
  },
  {
   "cell_type": "code",
   "execution_count": 28,
   "id": "d3f62918",
   "metadata": {},
   "outputs": [],
   "source": [
    "def is_reverse(string1, string2):\n",
    "    \"\"\"compare two words (strings) and return True if one of the words is the reverse of the other\n",
    "    \n",
    "    Parameters\n",
    "    ----------\n",
    "    string1 : str\n",
    "              A string containing one word\n",
    "    string2 : str\n",
    "              A string containing one word          \n",
    "        \n",
    "    Return\n",
    "    ------\n",
    "            : bool\n",
    "              True if string1 is the reverse of string2; Otherwise, False\n",
    "    \n",
    "    \"\"\"\n",
    "    length1 = len(string1)\n",
    "    length2 = len(string2)\n",
    "    if length1 != length2:\n",
    "        return False\n",
    "    \n",
    "    for i in range(length1):\n",
    "        if string1[i] != string2[-1-i]:\n",
    "            return False\n",
    "    return True"
   ]
  },
  {
   "cell_type": "markdown",
   "id": "7ddd3b03",
   "metadata": {
    "slideshow": {
     "slide_type": "subslide"
    }
   },
   "source": [
    "Importing the module gives access to its objects, using the `module.object` syntax\n",
    "\n",
    "Now we can use our module by importing the function from the module:"
   ]
  },
  {
   "cell_type": "code",
   "execution_count": 29,
   "id": "718543b6",
   "metadata": {},
   "outputs": [
    {
     "ename": "ModuleNotFoundError",
     "evalue": "No module named 'hw4'",
     "output_type": "error",
     "traceback": [
      "\u001b[0;31m---------------------------------------------------------------------------\u001b[0m",
      "\u001b[0;31mModuleNotFoundError\u001b[0m                       Traceback (most recent call last)",
      "Cell \u001b[0;32mIn[29], line 1\u001b[0m\n\u001b[0;32m----> 1\u001b[0m \u001b[38;5;28;01mfrom\u001b[39;00m \u001b[38;5;21;01mhw4\u001b[39;00m \u001b[38;5;28;01mimport\u001b[39;00m is_reverse\n",
      "\u001b[0;31mModuleNotFoundError\u001b[0m: No module named 'hw4'"
     ]
    }
   ],
   "source": [
    "from hw4 import is_reverse"
   ]
  },
  {
   "cell_type": "code",
   "execution_count": null,
   "id": "589e6d19",
   "metadata": {},
   "outputs": [],
   "source": [
    "dir()"
   ]
  },
  {
   "cell_type": "code",
   "execution_count": 30,
   "id": "de4c568c",
   "metadata": {},
   "outputs": [
    {
     "data": {
      "text/plain": [
       "False"
      ]
     },
     "execution_count": 30,
     "metadata": {},
     "output_type": "execute_result"
    }
   ],
   "source": [
    "is_reverse(\"Happy\", \"Happy\")"
   ]
  },
  {
   "cell_type": "code",
   "execution_count": 31,
   "id": "5d5cb46d",
   "metadata": {},
   "outputs": [
    {
     "data": {
      "text/plain": [
       "True"
      ]
     },
     "execution_count": 31,
     "metadata": {},
     "output_type": "execute_result"
    }
   ],
   "source": [
    "is_reverse(\"Happy\", \"yppaH\")"
   ]
  },
  {
   "cell_type": "markdown",
   "id": "7193d75d",
   "metadata": {},
   "source": [
    "Or we import the module:"
   ]
  },
  {
   "cell_type": "code",
   "execution_count": 36,
   "id": "0e925195",
   "metadata": {},
   "outputs": [],
   "source": [
    "import hw4"
   ]
  },
  {
   "cell_type": "code",
   "execution_count": 37,
   "id": "22fe26ef",
   "metadata": {},
   "outputs": [
    {
     "data": {
      "text/plain": [
       "False"
      ]
     },
     "execution_count": 37,
     "metadata": {},
     "output_type": "execute_result"
    }
   ],
   "source": [
    "hw4.is_reverse(\"ha\",\"ds\")"
   ]
  },
  {
   "cell_type": "code",
   "execution_count": 38,
   "id": "521d44e7",
   "metadata": {},
   "outputs": [],
   "source": [
    "hw4?"
   ]
  },
  {
   "cell_type": "code",
   "execution_count": 39,
   "id": "8b09a828",
   "metadata": {},
   "outputs": [
    {
     "data": {
      "text/plain": [
       "['__builtins__',\n",
       " '__cached__',\n",
       " '__doc__',\n",
       " '__file__',\n",
       " '__loader__',\n",
       " '__name__',\n",
       " '__package__',\n",
       " '__spec__',\n",
       " 'is_reverse']"
      ]
     },
     "execution_count": 39,
     "metadata": {},
     "output_type": "execute_result"
    }
   ],
   "source": [
    "dir(hw4)"
   ]
  },
  {
   "cell_type": "code",
   "execution_count": 40,
   "id": "45b6f845",
   "metadata": {},
   "outputs": [
    {
     "data": {
      "text/plain": [
       "False"
      ]
     },
     "execution_count": 40,
     "metadata": {},
     "output_type": "execute_result"
    }
   ],
   "source": [
    "hw4.is_reverse(\"Happy\", \"Happy\")"
   ]
  },
  {
   "cell_type": "code",
   "execution_count": 41,
   "id": "65a6aedd",
   "metadata": {},
   "outputs": [
    {
     "data": {
      "text/plain": [
       "True"
      ]
     },
     "execution_count": 41,
     "metadata": {},
     "output_type": "execute_result"
    }
   ],
   "source": [
    "hw4.is_reverse(\"Happy\", \"yppaH\")"
   ]
  },
  {
   "cell_type": "markdown",
   "id": "fdfeefd0",
   "metadata": {
    "slideshow": {
     "slide_type": "subslide"
    }
   },
   "source": [
    "### Documenting your module with Docstrings\n",
    "\n",
    "* It is good practice to document your modules so that users know what and how to use the objects in the module. \n",
    "* A Python docstring is a string used to document a Python module, class, function or method, so programmers can understand what it does without having to read the details of the implementation. \n",
    "* It is a common practice to generate online (html) documentation automatically from docstrings.\n",
    "* Everything between the pair of *triple quotes* is our function's **docstring**.\n",
    "* There are some [standard conventions](http://www.python.org/dev/peps/pep-0257/) for writing docstrings that provide consistency. "
   ]
  },
  {
   "cell_type": "code",
   "execution_count": 42,
   "id": "6b237ba0",
   "metadata": {},
   "outputs": [],
   "source": [
    "hw4.is_reverse?"
   ]
  },
  {
   "cell_type": "code",
   "execution_count": 43,
   "id": "c17719d4",
   "metadata": {},
   "outputs": [
    {
     "name": "stdout",
     "output_type": "stream",
     "text": [
      "Help on function is_reverse in module hw4:\n",
      "\n",
      "is_reverse(string1, string2)\n",
      "    compare two words (strings) and return True if one of the words is the reverse of the other\n",
      "    \n",
      "    Parameters\n",
      "    ----------\n",
      "    string1 : str\n",
      "              A string containing one word\n",
      "    string2 : str\n",
      "              A string containing one word          \n",
      "        \n",
      "    Return\n",
      "    ------\n",
      "            : bool\n",
      "              True if string1 is the reverse of string2; Otherwise, False\n",
      "\n"
     ]
    }
   ],
   "source": [
    "help(hw4.is_reverse)"
   ]
  },
  {
   "cell_type": "markdown",
   "id": "08341d72",
   "metadata": {
    "slideshow": {
     "slide_type": "subslide"
    }
   },
   "source": [
    "### Locating your module\n",
    "\n",
    "When issuing an ``import`` statement Python searches a list of directories: \n",
    "\n",
    "* The directory containing the input script (or the current directory when no file is specified).\n",
    "* PYTHONPATH (a list of directory names, with the same syntax as the shell variable PATH).\n",
    "* The installation-dependent default (by convention including a site-packages directory, handled by the site module).\n",
    "\n",
    "Over time you will likely be\n",
    "accumutating more of your own modules, and rather than continuing to copy them\n",
    "to new working directories (and have multiple copies of the same file on your\n",
    "system) you can create your own central directory to contain your Python\n",
    "modules. How you do this depends on what operating system you are on. The Python Documentation wesbite provide \n",
    "\n",
    "* [instructions for windows](https://docs.python.org/3/using/windows.html#finding-modules)\n",
    "* [instructions for Unix type systems (including Mac)](https://docs.python.org/3/tutorial/modules.html#the-module-search-path)"
   ]
  },
  {
   "cell_type": "markdown",
   "id": "4c8d5a87",
   "metadata": {
    "slideshow": {
     "slide_type": "slide"
    }
   },
   "source": [
    "# Python Packages\n",
    "\n",
    "* Suitable for a large application that includes many *modules* \n",
    "* Allow for a hierarchical structuring of the *module* namespace using dot notation `.`. In the same way that modules help avoid collisions between global variable names, packages help avoid collisions between module names.\n",
    "* special file called ``__init__.py`` (which may be empty) tells Python that the directory is a Python package, from which modules can be imported."
   ]
  },
  {
   "cell_type": "markdown",
   "id": "0e147309",
   "metadata": {
    "slideshow": {
     "slide_type": "subslide"
    }
   },
   "source": [
    "## Importing a package\n",
    "\n",
    "<img src=\"pics/pkg.png\">\n",
    "\n",
    "Given this structure, if the pkg directory resides in a location where it can be found (in one of the directories contained in `sys.path`), you can refer to the two modules with dot notation (`pkg.mod1`, `pkg.mod2`) and `import` them with the syntax you are already familiar with:\n",
    "\n",
    "```python\n",
    "import pkg.mod1, pkg.mod2\n",
    "```\n",
    "\n",
    "If `mod1` has a function `bar()` and `mod2` has a function `foo()`, we can import and call these functions as shown below:\n",
    "\n",
    "```python\n",
    "import pkg.mod1, pkg.mod2\n",
    "pkg.mod1.bar()\n",
    "pkg.mod2.foo()\n",
    "```\n",
    "\n",
    "Or\n",
    "\n",
    "```python\n",
    "from pkg.mod1 import bar\n",
    "bar()\n",
    "from pkg.mod2 import foo\n",
    "foo()\n",
    "```"
   ]
  },
  {
   "cell_type": "code",
   "execution_count": 44,
   "id": "28397db2",
   "metadata": {},
   "outputs": [],
   "source": [
    "import scipy"
   ]
  },
  {
   "cell_type": "code",
   "execution_count": 45,
   "id": "47699382",
   "metadata": {},
   "outputs": [
    {
     "data": {
      "text/plain": [
       "'/Users/wk0110/opt/anaconda3/lib/python3.9/site-packages/scipy/__init__.py'"
      ]
     },
     "execution_count": 45,
     "metadata": {},
     "output_type": "execute_result"
    }
   ],
   "source": [
    "scipy.__file__ #location of the package on your computer"
   ]
  },
  {
   "cell_type": "code",
   "execution_count": 46,
   "id": "40bff676",
   "metadata": {},
   "outputs": [
    {
     "data": {
      "text/plain": [
       "'1.9.3'"
      ]
     },
     "execution_count": 46,
     "metadata": {},
     "output_type": "execute_result"
    }
   ],
   "source": [
    "scipy.__version__ #version of the package"
   ]
  },
  {
   "cell_type": "code",
   "execution_count": 47,
   "id": "f2dd8ebb",
   "metadata": {},
   "outputs": [
    {
     "data": {
      "text/plain": [
       "['LowLevelCallable',\n",
       " '__numpy_version__',\n",
       " '__version__',\n",
       " 'cluster',\n",
       " 'fft',\n",
       " 'fftpack',\n",
       " 'integrate',\n",
       " 'interpolate',\n",
       " 'io',\n",
       " 'linalg',\n",
       " 'misc',\n",
       " 'ndimage',\n",
       " 'odr',\n",
       " 'optimize',\n",
       " 'show_config',\n",
       " 'signal',\n",
       " 'sparse',\n",
       " 'spatial',\n",
       " 'special',\n",
       " 'stats',\n",
       " 'test']"
      ]
     },
     "execution_count": 47,
     "metadata": {},
     "output_type": "execute_result"
    }
   ],
   "source": [
    "dir(scipy)"
   ]
  },
  {
   "cell_type": "code",
   "execution_count": 48,
   "id": "cfda55d6",
   "metadata": {},
   "outputs": [],
   "source": [
    "from scipy import stats"
   ]
  },
  {
   "cell_type": "code",
   "execution_count": 49,
   "id": "558a00f1",
   "metadata": {},
   "outputs": [
    {
     "data": {
      "text/plain": [
       "['ConstantInputWarning',\n",
       " 'DegenerateDataWarning',\n",
       " 'FitError',\n",
       " 'NearConstantInputWarning',\n",
       " 'NumericalInverseHermite',\n",
       " '__all__',\n",
       " '__builtins__',\n",
       " '__cached__',\n",
       " '__doc__',\n",
       " '__file__',\n",
       " '__loader__',\n",
       " '__name__',\n",
       " '__package__',\n",
       " '__path__',\n",
       " '__spec__',\n",
       " '_axis_nan_policy',\n",
       " '_biasedurn',\n",
       " '_binned_statistic',\n",
       " '_binomtest',\n",
       " '_boost',\n",
       " '_common',\n",
       " '_constants',\n",
       " '_continuous_distns',\n",
       " '_crosstab',\n",
       " '_discrete_distns',\n",
       " '_distn_infrastructure',\n",
       " '_distr_params',\n",
       " '_entropy',\n",
       " '_fit',\n",
       " '_hypotests',\n",
       " '_hypotests_pythran',\n",
       " '_kde',\n",
       " '_ksstats',\n",
       " '_levy_stable',\n",
       " '_mannwhitneyu',\n",
       " '_morestats',\n",
       " '_mstats_basic',\n",
       " '_mstats_extras',\n",
       " '_multivariate',\n",
       " '_mvn',\n",
       " '_page_trend_test',\n",
       " '_qmc',\n",
       " '_qmc_cy',\n",
       " '_relative_risk',\n",
       " '_resampling',\n",
       " '_rvs_sampling',\n",
       " '_sobol',\n",
       " '_statlib',\n",
       " '_stats',\n",
       " '_stats_mstats_common',\n",
       " '_stats_py',\n",
       " '_tukeylambda_stats',\n",
       " '_unuran',\n",
       " '_variation',\n",
       " '_warnings_errors',\n",
       " 'alexandergovern',\n",
       " 'alpha',\n",
       " 'anderson',\n",
       " 'anderson_ksamp',\n",
       " 'anglit',\n",
       " 'ansari',\n",
       " 'arcsine',\n",
       " 'argus',\n",
       " 'barnard_exact',\n",
       " 'bartlett',\n",
       " 'bayes_mvs',\n",
       " 'bernoulli',\n",
       " 'beta',\n",
       " 'betabinom',\n",
       " 'betaprime',\n",
       " 'biasedurn',\n",
       " 'binned_statistic',\n",
       " 'binned_statistic_2d',\n",
       " 'binned_statistic_dd',\n",
       " 'binom',\n",
       " 'binom_test',\n",
       " 'binomtest',\n",
       " 'boltzmann',\n",
       " 'bootstrap',\n",
       " 'boschloo_exact',\n",
       " 'boxcox',\n",
       " 'boxcox_llf',\n",
       " 'boxcox_normmax',\n",
       " 'boxcox_normplot',\n",
       " 'bradford',\n",
       " 'brunnermunzel',\n",
       " 'burr',\n",
       " 'burr12',\n",
       " 'cauchy',\n",
       " 'chi',\n",
       " 'chi2',\n",
       " 'chi2_contingency',\n",
       " 'chisquare',\n",
       " 'circmean',\n",
       " 'circstd',\n",
       " 'circvar',\n",
       " 'combine_pvalues',\n",
       " 'contingency',\n",
       " 'cosine',\n",
       " 'cramervonmises',\n",
       " 'cramervonmises_2samp',\n",
       " 'crystalball',\n",
       " 'cumfreq',\n",
       " 'describe',\n",
       " 'dgamma',\n",
       " 'differential_entropy',\n",
       " 'dirichlet',\n",
       " 'distributions',\n",
       " 'dlaplace',\n",
       " 'dweibull',\n",
       " 'energy_distance',\n",
       " 'entropy',\n",
       " 'epps_singleton_2samp',\n",
       " 'erlang',\n",
       " 'expon',\n",
       " 'exponnorm',\n",
       " 'exponpow',\n",
       " 'exponweib',\n",
       " 'f',\n",
       " 'f_oneway',\n",
       " 'fatiguelife',\n",
       " 'find_repeats',\n",
       " 'fisher_exact',\n",
       " 'fisk',\n",
       " 'fit',\n",
       " 'fligner',\n",
       " 'foldcauchy',\n",
       " 'foldnorm',\n",
       " 'friedmanchisquare',\n",
       " 'gamma',\n",
       " 'gausshyper',\n",
       " 'gaussian_kde',\n",
       " 'genexpon',\n",
       " 'genextreme',\n",
       " 'gengamma',\n",
       " 'genhalflogistic',\n",
       " 'genhyperbolic',\n",
       " 'geninvgauss',\n",
       " 'genlogistic',\n",
       " 'gennorm',\n",
       " 'genpareto',\n",
       " 'geom',\n",
       " 'gibrat',\n",
       " 'gilbrat',\n",
       " 'gmean',\n",
       " 'gompertz',\n",
       " 'gstd',\n",
       " 'gumbel_l',\n",
       " 'gumbel_r',\n",
       " 'gzscore',\n",
       " 'halfcauchy',\n",
       " 'halfgennorm',\n",
       " 'halflogistic',\n",
       " 'halfnorm',\n",
       " 'hmean',\n",
       " 'hypergeom',\n",
       " 'hypsecant',\n",
       " 'invgamma',\n",
       " 'invgauss',\n",
       " 'invweibull',\n",
       " 'invwishart',\n",
       " 'iqr',\n",
       " 'jarque_bera',\n",
       " 'johnsonsb',\n",
       " 'johnsonsu',\n",
       " 'kappa3',\n",
       " 'kappa4',\n",
       " 'kde',\n",
       " 'kendalltau',\n",
       " 'kruskal',\n",
       " 'ks_1samp',\n",
       " 'ks_2samp',\n",
       " 'ksone',\n",
       " 'kstat',\n",
       " 'kstatvar',\n",
       " 'kstest',\n",
       " 'kstwo',\n",
       " 'kstwobign',\n",
       " 'kurtosis',\n",
       " 'kurtosistest',\n",
       " 'laplace',\n",
       " 'laplace_asymmetric',\n",
       " 'levene',\n",
       " 'levy',\n",
       " 'levy_l',\n",
       " 'levy_stable',\n",
       " 'linregress',\n",
       " 'loggamma',\n",
       " 'logistic',\n",
       " 'loglaplace',\n",
       " 'lognorm',\n",
       " 'logser',\n",
       " 'loguniform',\n",
       " 'lomax',\n",
       " 'mannwhitneyu',\n",
       " 'matrix_normal',\n",
       " 'maxwell',\n",
       " 'median_abs_deviation',\n",
       " 'median_test',\n",
       " 'mielke',\n",
       " 'mode',\n",
       " 'moment',\n",
       " 'monte_carlo_test',\n",
       " 'mood',\n",
       " 'morestats',\n",
       " 'moyal',\n",
       " 'mstats',\n",
       " 'mstats_basic',\n",
       " 'mstats_extras',\n",
       " 'multinomial',\n",
       " 'multiscale_graphcorr',\n",
       " 'multivariate_hypergeom',\n",
       " 'multivariate_normal',\n",
       " 'multivariate_t',\n",
       " 'mvn',\n",
       " 'mvsdist',\n",
       " 'nakagami',\n",
       " 'nbinom',\n",
       " 'ncf',\n",
       " 'nchypergeom_fisher',\n",
       " 'nchypergeom_wallenius',\n",
       " 'nct',\n",
       " 'ncx2',\n",
       " 'nhypergeom',\n",
       " 'norm',\n",
       " 'normaltest',\n",
       " 'norminvgauss',\n",
       " 'obrientransform',\n",
       " 'ortho_group',\n",
       " 'page_trend_test',\n",
       " 'pareto',\n",
       " 'pearson3',\n",
       " 'pearsonr',\n",
       " 'percentileofscore',\n",
       " 'permutation_test',\n",
       " 'planck',\n",
       " 'pmean',\n",
       " 'pointbiserialr',\n",
       " 'poisson',\n",
       " 'power_divergence',\n",
       " 'powerlaw',\n",
       " 'powerlognorm',\n",
       " 'powernorm',\n",
       " 'ppcc_max',\n",
       " 'ppcc_plot',\n",
       " 'probplot',\n",
       " 'qmc',\n",
       " 'randint',\n",
       " 'random_correlation',\n",
       " 'rankdata',\n",
       " 'ranksums',\n",
       " 'rayleigh',\n",
       " 'rdist',\n",
       " 'recipinvgauss',\n",
       " 'reciprocal',\n",
       " 'relfreq',\n",
       " 'rice',\n",
       " 'rv_continuous',\n",
       " 'rv_discrete',\n",
       " 'rv_histogram',\n",
       " 'rvs_ratio_uniforms',\n",
       " 'scoreatpercentile',\n",
       " 'sem',\n",
       " 'semicircular',\n",
       " 'shapiro',\n",
       " 'siegelslopes',\n",
       " 'sigmaclip',\n",
       " 'skellam',\n",
       " 'skew',\n",
       " 'skewcauchy',\n",
       " 'skewnorm',\n",
       " 'skewtest',\n",
       " 'somersd',\n",
       " 'spearmanr',\n",
       " 'special_ortho_group',\n",
       " 'statlib',\n",
       " 'stats',\n",
       " 'studentized_range',\n",
       " 't',\n",
       " 'test',\n",
       " 'theilslopes',\n",
       " 'tiecorrect',\n",
       " 'tmax',\n",
       " 'tmean',\n",
       " 'tmin',\n",
       " 'trapezoid',\n",
       " 'trapz',\n",
       " 'triang',\n",
       " 'trim1',\n",
       " 'trim_mean',\n",
       " 'trimboth',\n",
       " 'truncexpon',\n",
       " 'truncnorm',\n",
       " 'truncweibull_min',\n",
       " 'tsem',\n",
       " 'tstd',\n",
       " 'ttest_1samp',\n",
       " 'ttest_ind',\n",
       " 'ttest_ind_from_stats',\n",
       " 'ttest_rel',\n",
       " 'tukey_hsd',\n",
       " 'tukeylambda',\n",
       " 'tvar',\n",
       " 'uniform',\n",
       " 'unitary_group',\n",
       " 'variation',\n",
       " 'vonmises',\n",
       " 'vonmises_line',\n",
       " 'wald',\n",
       " 'wasserstein_distance',\n",
       " 'weibull_max',\n",
       " 'weibull_min',\n",
       " 'weightedtau',\n",
       " 'wilcoxon',\n",
       " 'wishart',\n",
       " 'wrapcauchy',\n",
       " 'yeojohnson',\n",
       " 'yeojohnson_llf',\n",
       " 'yeojohnson_normmax',\n",
       " 'yeojohnson_normplot',\n",
       " 'yulesimon',\n",
       " 'zipf',\n",
       " 'zipfian',\n",
       " 'zmap',\n",
       " 'zscore']"
      ]
     },
     "execution_count": 49,
     "metadata": {},
     "output_type": "execute_result"
    }
   ],
   "source": [
    "dir(stats)"
   ]
  },
  {
   "cell_type": "code",
   "execution_count": 50,
   "id": "286e94d0",
   "metadata": {},
   "outputs": [],
   "source": [
    "stats.arcsine?"
   ]
  },
  {
   "cell_type": "markdown",
   "id": "e762dbac",
   "metadata": {
    "slideshow": {
     "slide_type": "subslide"
    }
   },
   "source": [
    "### Installing python packages\n",
    "\n",
    "* `pip`: `pip install scipy`\n",
    "    * The [Python Package Index (PyPI)](https://pypi.org/) is a repository of software for the Python programming language. \n",
    "* `conda`: `conda install scipy`\n",
    "    * [Anaconda Packages](https://repo.anaconda.com/)"
   ]
  },
  {
   "cell_type": "markdown",
   "id": "e66c76b7",
   "metadata": {
    "slideshow": {
     "slide_type": "subslide"
    }
   },
   "source": [
    "## Further readings on creating a python package\n",
    "\n",
    "Read the [Real Python tutorial on Python packages](https://realpython.com/python-modules-packages/) to learn more about creating modules and packages.\n",
    "\n",
    "Read the open source book [Python Packages](https://py-pkgs.org/welcome) to learn more about the modern and efficient workflows for creating Python packages."
   ]
  }
 ],
 "metadata": {
  "celltoolbar": "Slideshow",
  "kernelspec": {
   "display_name": "Python 3 (ipykernel)",
   "language": "python",
   "name": "python3"
  },
  "language_info": {
   "codemirror_mode": {
    "name": "ipython",
    "version": 3
   },
   "file_extension": ".py",
   "mimetype": "text/x-python",
   "name": "python",
   "nbconvert_exporter": "python",
   "pygments_lexer": "ipython3",
   "version": "3.9.16"
  }
 },
 "nbformat": 4,
 "nbformat_minor": 5
}
