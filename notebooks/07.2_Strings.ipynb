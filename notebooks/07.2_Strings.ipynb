{
 "cells": [
  {
   "cell_type": "markdown",
   "id": "f6f7754f",
   "metadata": {
    "slideshow": {
     "slide_type": "slide"
    }
   },
   "source": [
    "# Introduction to Python for Open Source Geocomputation\n",
    "\n",
    "![python](pics/python-logo-master-v3-TM.png)\n",
    "\n",
    "* Instructor: Dr. Wei Kang\n",
    "* Class Location and Time: ENV 336, Mon & Wed 12:30 pm - 1:50 pm  \n",
    "\n",
    "Content:\n",
    "\n",
    "* Strings: \n",
    "    * slicing \n",
    "    * for loops\n",
    "    * comparison\n",
    "    * methods\n"
   ]
  },
  {
   "cell_type": "markdown",
   "id": "3aea84b0",
   "metadata": {
    "slideshow": {
     "slide_type": "slide"
    }
   },
   "source": [
    "# Standard Data Types in Python - strings\n",
    "\n",
    "| Category of Data type | Data type            | Example    |\n",
    "| -------------- | -------------------- | ---------- |\n",
    "| Numeric, scalar         | Integer| 1       |\n",
    "|        | Floats   | 1.2   |\n",
    "|          | Complex    | 1.5+0.5j  |\n",
    "|         | Booleans   | True    |\n",
    "| Container    | strings   | \"Hello World\"   |\n",
    "|     | List   | [1, \"Hello World\"]  |\n",
    "|     | Tuple   | (1, \"Hello World\")  |\n",
    "|     | Set   | {1, \"Hello World\"}   |\n",
    "|     | Dictionary   | {1: \"Hello World\", 2: 100} |"
   ]
  },
  {
   "cell_type": "markdown",
   "id": "022454ad",
   "metadata": {
    "slideshow": {
     "slide_type": "subslide"
    }
   },
   "source": [
    "# Iterating over a string  with `for` statements (for Loops) (traversal)\n",
    "\n",
    "Traversal: start at the beginning, select each character in turn, do something to it, and continue until the end.\n",
    "\n",
    "* `for` statments are used to iterate over sequences \n",
    "* `for/range` statments are used to iterate over sequences using an index"
   ]
  },
  {
   "cell_type": "code",
   "execution_count": 1,
   "id": "00794853",
   "metadata": {},
   "outputs": [],
   "source": [
    "a = \"python is fun!\""
   ]
  },
  {
   "cell_type": "code",
   "execution_count": 2,
   "id": "b6d065cf",
   "metadata": {},
   "outputs": [
    {
     "data": {
      "text/plain": [
       "True"
      ]
     },
     "execution_count": 2,
     "metadata": {},
     "output_type": "execute_result"
    }
   ],
   "source": [
    "\"is\" in a"
   ]
  },
  {
   "cell_type": "code",
   "execution_count": 3,
   "id": "22f9d1e1",
   "metadata": {},
   "outputs": [
    {
     "name": "stdout",
     "output_type": "stream",
     "text": [
      "p\n",
      "y\n",
      "t\n",
      "h\n",
      "o\n",
      "n\n",
      " \n",
      "i\n",
      "s\n",
      " \n",
      "f\n",
      "u\n",
      "n\n",
      "!\n"
     ]
    }
   ],
   "source": [
    "for i in a:\n",
    "    print(i)"
   ]
  },
  {
   "cell_type": "code",
   "execution_count": 4,
   "id": "68db4d27",
   "metadata": {},
   "outputs": [
    {
     "name": "stdout",
     "output_type": "stream",
     "text": [
      "0 p\n",
      "1 y\n",
      "2 t\n",
      "3 h\n",
      "4 o\n",
      "5 n\n",
      "6  \n",
      "7 i\n",
      "8 s\n",
      "9  \n",
      "10 f\n",
      "11 u\n",
      "12 n\n",
      "13 !\n"
     ]
    }
   ],
   "source": [
    "for i in range(len(a)):\n",
    "    print(i, a[i])"
   ]
  },
  {
   "cell_type": "markdown",
   "id": "46a38a4a",
   "metadata": {
    "slideshow": {
     "slide_type": "subslide"
    }
   },
   "source": [
    "## Slicing strings\n",
    "\n",
    "To access a continuous segment in a string\n",
    "\n",
    "Structure of slicing a string: `string[start_index:end_index]`\n",
    "* string name\n",
    "* square brackets\n",
    "* `start`: the index to begin the slice\n",
    "* Colon `:`\n",
    "* `end`: the (non-inclusive) index to finish the slice"
   ]
  },
  {
   "cell_type": "code",
   "execution_count": 5,
   "id": "753eae03",
   "metadata": {},
   "outputs": [],
   "source": [
    "my_string = \"Hello World\""
   ]
  },
  {
   "cell_type": "code",
   "execution_count": 6,
   "id": "73820119",
   "metadata": {},
   "outputs": [
    {
     "data": {
      "text/plain": [
       "'Hello'"
      ]
     },
     "execution_count": 6,
     "metadata": {},
     "output_type": "execute_result"
    }
   ],
   "source": [
    "my_string[0:5]"
   ]
  },
  {
   "cell_type": "markdown",
   "id": "f663d051",
   "metadata": {
    "slideshow": {
     "slide_type": "fragment"
    }
   },
   "source": [
    "Slice from the beginning of the string: `start` can be ignored"
   ]
  },
  {
   "cell_type": "code",
   "execution_count": 7,
   "id": "a1517ed5",
   "metadata": {},
   "outputs": [
    {
     "data": {
      "text/plain": [
       "'Hello'"
      ]
     },
     "execution_count": 7,
     "metadata": {},
     "output_type": "execute_result"
    }
   ],
   "source": [
    "my_string[:5]"
   ]
  },
  {
   "cell_type": "markdown",
   "id": "7d3e8f29",
   "metadata": {
    "slideshow": {
     "slide_type": "fragment"
    }
   },
   "source": [
    "Slice all the way to the end of the string: `end` can be ignored"
   ]
  },
  {
   "cell_type": "code",
   "execution_count": 8,
   "id": "3854715a",
   "metadata": {},
   "outputs": [
    {
     "data": {
      "text/plain": [
       "'Hello World'"
      ]
     },
     "execution_count": 8,
     "metadata": {},
     "output_type": "execute_result"
    }
   ],
   "source": [
    "my_string"
   ]
  },
  {
   "cell_type": "code",
   "execution_count": 9,
   "id": "16bedcf0",
   "metadata": {},
   "outputs": [
    {
     "data": {
      "text/plain": [
       "'World'"
      ]
     },
     "execution_count": 9,
     "metadata": {},
     "output_type": "execute_result"
    }
   ],
   "source": [
    "my_string[6:]"
   ]
  },
  {
   "cell_type": "code",
   "execution_count": 10,
   "id": "6ec77c42",
   "metadata": {},
   "outputs": [
    {
     "data": {
      "text/plain": [
       "'World'"
      ]
     },
     "execution_count": 10,
     "metadata": {},
     "output_type": "execute_result"
    }
   ],
   "source": [
    "my_string[6:len(my_string)]"
   ]
  },
  {
   "cell_type": "code",
   "execution_count": 11,
   "id": "b25b1e0b",
   "metadata": {},
   "outputs": [
    {
     "ename": "IndexError",
     "evalue": "string index out of range",
     "output_type": "error",
     "traceback": [
      "\u001b[0;31m---------------------------------------------------------------------------\u001b[0m",
      "\u001b[0;31mIndexError\u001b[0m                                Traceback (most recent call last)",
      "\u001b[0;32m/var/folders/6m/8n2ktxl566j8yp0n_qx7x5bw0000gt/T/ipykernel_9874/1485035880.py\u001b[0m in \u001b[0;36m<module>\u001b[0;34m\u001b[0m\n\u001b[0;32m----> 1\u001b[0;31m \u001b[0mmy_string\u001b[0m\u001b[0;34m[\u001b[0m\u001b[0mlen\u001b[0m\u001b[0;34m(\u001b[0m\u001b[0mmy_string\u001b[0m\u001b[0;34m)\u001b[0m\u001b[0;34m]\u001b[0m\u001b[0;34m\u001b[0m\u001b[0;34m\u001b[0m\u001b[0m\n\u001b[0m",
      "\u001b[0;31mIndexError\u001b[0m: string index out of range"
     ]
    }
   ],
   "source": [
    "my_string[len(my_string)]"
   ]
  },
  {
   "cell_type": "code",
   "execution_count": 12,
   "id": "ee2cafaa",
   "metadata": {},
   "outputs": [
    {
     "data": {
      "text/plain": [
       "'Hello World'"
      ]
     },
     "execution_count": 12,
     "metadata": {},
     "output_type": "execute_result"
    }
   ],
   "source": [
    "my_string"
   ]
  },
  {
   "cell_type": "code",
   "execution_count": 13,
   "id": "4ec71410",
   "metadata": {},
   "outputs": [
    {
     "data": {
      "text/plain": [
       "''"
      ]
     },
     "execution_count": 13,
     "metadata": {},
     "output_type": "execute_result"
    }
   ],
   "source": [
    "my_string[6:6]"
   ]
  },
  {
   "cell_type": "code",
   "execution_count": 14,
   "id": "ee65e877",
   "metadata": {},
   "outputs": [
    {
     "data": {
      "text/plain": [
       "'W'"
      ]
     },
     "execution_count": 14,
     "metadata": {},
     "output_type": "execute_result"
    }
   ],
   "source": [
    "my_string[6:7]"
   ]
  },
  {
   "cell_type": "code",
   "execution_count": 15,
   "id": "a206a371",
   "metadata": {},
   "outputs": [
    {
     "data": {
      "text/plain": [
       "'Hello World'"
      ]
     },
     "execution_count": 15,
     "metadata": {},
     "output_type": "execute_result"
    }
   ],
   "source": [
    "my_string[:]"
   ]
  },
  {
   "cell_type": "code",
   "execution_count": 16,
   "id": "85cb1700",
   "metadata": {},
   "outputs": [
    {
     "ename": "TypeError",
     "evalue": "slice indices must be integers or None or have an __index__ method",
     "output_type": "error",
     "traceback": [
      "\u001b[0;31m---------------------------------------------------------------------------\u001b[0m",
      "\u001b[0;31mTypeError\u001b[0m                                 Traceback (most recent call last)",
      "\u001b[0;32m/var/folders/6m/8n2ktxl566j8yp0n_qx7x5bw0000gt/T/ipykernel_9874/3599525107.py\u001b[0m in \u001b[0;36m<module>\u001b[0;34m\u001b[0m\n\u001b[0;32m----> 1\u001b[0;31m \u001b[0mmy_string\u001b[0m\u001b[0;34m[\u001b[0m\u001b[0;36m1.0\u001b[0m\u001b[0;34m:\u001b[0m\u001b[0;36m3.0\u001b[0m\u001b[0;34m]\u001b[0m\u001b[0;34m\u001b[0m\u001b[0;34m\u001b[0m\u001b[0m\n\u001b[0m",
      "\u001b[0;31mTypeError\u001b[0m: slice indices must be integers or None or have an __index__ method"
     ]
    }
   ],
   "source": [
    "my_string[1.0:3.0]"
   ]
  },
  {
   "cell_type": "markdown",
   "id": "633a6e86",
   "metadata": {
    "slideshow": {
     "slide_type": "subslide"
    }
   },
   "source": [
    "### Group exercise:\n",
    "\n",
    "Write python code to grab the `\"gin\"` slice from the string `eng_string= 'engineer'`\n",
    "\n",
    "```python\n",
    "eng_string = 'engineer'\n",
    "```\n",
    "\n",
    ">When you are done, raise your hand!"
   ]
  },
  {
   "cell_type": "code",
   "execution_count": 18,
   "id": "bcbcddce",
   "metadata": {
    "slideshow": {
     "slide_type": "fragment"
    }
   },
   "outputs": [],
   "source": [
    "eng_string = 'engineer'"
   ]
  },
  {
   "cell_type": "code",
   "execution_count": 19,
   "id": "964458ef",
   "metadata": {},
   "outputs": [
    {
     "data": {
      "text/plain": [
       "'gin'"
      ]
     },
     "execution_count": 19,
     "metadata": {},
     "output_type": "execute_result"
    }
   ],
   "source": [
    "eng_string[2:5]"
   ]
  },
  {
   "cell_type": "code",
   "execution_count": 20,
   "id": "d1c1e6a3",
   "metadata": {},
   "outputs": [
    {
     "data": {
      "text/plain": [
       "'gin'"
      ]
     },
     "execution_count": 20,
     "metadata": {},
     "output_type": "execute_result"
    }
   ],
   "source": [
    "eng_string[-6:-3]"
   ]
  },
  {
   "cell_type": "code",
   "execution_count": 21,
   "id": "e4fe486f",
   "metadata": {},
   "outputs": [
    {
     "data": {
      "text/plain": [
       "'gin'"
      ]
     },
     "execution_count": 21,
     "metadata": {},
     "output_type": "execute_result"
    }
   ],
   "source": [
    "# Grab 'gin'slice\n",
    "eng_string[2:5]"
   ]
  },
  {
   "cell_type": "markdown",
   "id": "a58ced8f",
   "metadata": {
    "slideshow": {
     "slide_type": "subslide"
    }
   },
   "source": [
    "### Group Exercises\n",
    "1. Define a string called `'banana'` and print out the first and last `'a'`. \n",
    "2. Using the same string, grab the 2 possible slices that correspond to the word `'ana'` and print them out."
   ]
  },
  {
   "cell_type": "code",
   "execution_count": 22,
   "id": "8bffedc0",
   "metadata": {},
   "outputs": [],
   "source": [
    "fruit_string = \"banana\""
   ]
  },
  {
   "cell_type": "code",
   "execution_count": 23,
   "id": "1b85e084",
   "metadata": {},
   "outputs": [
    {
     "data": {
      "text/plain": [
       "'ana'"
      ]
     },
     "execution_count": 23,
     "metadata": {},
     "output_type": "execute_result"
    }
   ],
   "source": [
    "fruit_string[-3:len(fruit_string)]"
   ]
  },
  {
   "cell_type": "code",
   "execution_count": 24,
   "id": "d67ad359",
   "metadata": {},
   "outputs": [
    {
     "data": {
      "text/plain": [
       "'ana'"
      ]
     },
     "execution_count": 24,
     "metadata": {},
     "output_type": "execute_result"
    }
   ],
   "source": [
    "fruit_string[-3:]"
   ]
  },
  {
   "cell_type": "code",
   "execution_count": 25,
   "id": "30a778ec",
   "metadata": {},
   "outputs": [
    {
     "data": {
      "text/plain": [
       "'ana'"
      ]
     },
     "execution_count": 25,
     "metadata": {},
     "output_type": "execute_result"
    }
   ],
   "source": [
    "fruit_string[1:4]"
   ]
  },
  {
   "cell_type": "code",
   "execution_count": 26,
   "id": "f106b5f7",
   "metadata": {},
   "outputs": [
    {
     "data": {
      "text/plain": [
       "'ana'"
      ]
     },
     "execution_count": 26,
     "metadata": {},
     "output_type": "execute_result"
    }
   ],
   "source": [
    "fruit_string[1:-2]"
   ]
  },
  {
   "cell_type": "code",
   "execution_count": 27,
   "id": "4ed46cf5",
   "metadata": {},
   "outputs": [
    {
     "data": {
      "text/plain": [
       "'a'"
      ]
     },
     "execution_count": 27,
     "metadata": {},
     "output_type": "execute_result"
    }
   ],
   "source": [
    "fruit_string[1]"
   ]
  },
  {
   "cell_type": "code",
   "execution_count": 28,
   "id": "80f92ce1",
   "metadata": {},
   "outputs": [
    {
     "data": {
      "text/plain": [
       "'a'"
      ]
     },
     "execution_count": 28,
     "metadata": {},
     "output_type": "execute_result"
    }
   ],
   "source": [
    "fruit_string[1:2]"
   ]
  },
  {
   "cell_type": "code",
   "execution_count": 29,
   "id": "547d8beb",
   "metadata": {},
   "outputs": [
    {
     "data": {
      "text/plain": [
       "'a'"
      ]
     },
     "execution_count": 29,
     "metadata": {},
     "output_type": "execute_result"
    }
   ],
   "source": [
    "fruit_string[5]"
   ]
  },
  {
   "cell_type": "code",
   "execution_count": 30,
   "id": "e783a181",
   "metadata": {},
   "outputs": [
    {
     "data": {
      "text/plain": [
       "'a'"
      ]
     },
     "execution_count": 30,
     "metadata": {},
     "output_type": "execute_result"
    }
   ],
   "source": [
    "fruit_string[-1]"
   ]
  },
  {
   "cell_type": "code",
   "execution_count": 31,
   "id": "65febdaf",
   "metadata": {},
   "outputs": [
    {
     "data": {
      "text/plain": [
       "'a'"
      ]
     },
     "execution_count": 31,
     "metadata": {},
     "output_type": "execute_result"
    }
   ],
   "source": [
    "fruit_string[-1:]"
   ]
  },
  {
   "cell_type": "markdown",
   "id": "96110214",
   "metadata": {
    "slideshow": {
     "slide_type": "slide"
    }
   },
   "source": [
    "### `for` or `for/range` statement with string slice\n",
    "\n",
    "Obtain each character of a substring"
   ]
  },
  {
   "cell_type": "code",
   "execution_count": 32,
   "id": "59a1ad17",
   "metadata": {},
   "outputs": [],
   "source": [
    "fruit_string = \"banana is very sweet\""
   ]
  },
  {
   "cell_type": "code",
   "execution_count": 33,
   "id": "28998d40",
   "metadata": {},
   "outputs": [
    {
     "name": "stdout",
     "output_type": "stream",
     "text": [
      "b\n",
      "a\n",
      "n\n",
      "a\n",
      "n\n",
      "a\n"
     ]
    }
   ],
   "source": [
    "for i in range(6):\n",
    "    print(fruit_string[i])"
   ]
  },
  {
   "cell_type": "code",
   "execution_count": 34,
   "id": "c9bd9305",
   "metadata": {},
   "outputs": [
    {
     "name": "stdout",
     "output_type": "stream",
     "text": [
      "b\n",
      "a\n",
      "n\n",
      "a\n",
      "n\n",
      "a\n"
     ]
    }
   ],
   "source": [
    "for i in fruit_string[:6]:\n",
    "    print(i)"
   ]
  },
  {
   "cell_type": "code",
   "execution_count": 35,
   "id": "7107d9fa",
   "metadata": {},
   "outputs": [
    {
     "data": {
      "text/plain": [
       "'sweet'"
      ]
     },
     "execution_count": 35,
     "metadata": {},
     "output_type": "execute_result"
    }
   ],
   "source": [
    "fruit_string[-5:]"
   ]
  },
  {
   "cell_type": "code",
   "execution_count": 36,
   "id": "1bee3638",
   "metadata": {},
   "outputs": [
    {
     "name": "stdout",
     "output_type": "stream",
     "text": [
      "s\n",
      "w\n",
      "e\n",
      "e\n",
      "t\n"
     ]
    }
   ],
   "source": [
    "for i in fruit_string[-5:]:\n",
    "    print(i)"
   ]
  },
  {
   "cell_type": "code",
   "execution_count": 37,
   "id": "fd66a6fa",
   "metadata": {},
   "outputs": [
    {
     "data": {
      "text/plain": [
       "'banana is very sweet'"
      ]
     },
     "execution_count": 37,
     "metadata": {},
     "output_type": "execute_result"
    }
   ],
   "source": [
    "fruit_string"
   ]
  },
  {
   "cell_type": "code",
   "execution_count": 38,
   "id": "3e3c917d",
   "metadata": {},
   "outputs": [
    {
     "data": {
      "text/plain": [
       "'is'"
      ]
     },
     "execution_count": 38,
     "metadata": {},
     "output_type": "execute_result"
    }
   ],
   "source": [
    "fruit_string[7:9]"
   ]
  },
  {
   "cell_type": "code",
   "execution_count": 39,
   "id": "87fbed3b",
   "metadata": {},
   "outputs": [
    {
     "name": "stdout",
     "output_type": "stream",
     "text": [
      "i\n",
      "s\n"
     ]
    }
   ],
   "source": [
    "for i in fruit_string[7:9]:\n",
    "    print(i)"
   ]
  },
  {
   "cell_type": "code",
   "execution_count": 40,
   "id": "8893c58d",
   "metadata": {},
   "outputs": [],
   "source": [
    "?range"
   ]
  },
  {
   "cell_type": "code",
   "execution_count": 41,
   "id": "05895053",
   "metadata": {},
   "outputs": [
    {
     "name": "stdout",
     "output_type": "stream",
     "text": [
      "i\n",
      "s\n"
     ]
    }
   ],
   "source": [
    "for i in range(7,9):\n",
    "    print(fruit_string[i])"
   ]
  },
  {
   "cell_type": "markdown",
   "id": "381dd800",
   "metadata": {
    "slideshow": {
     "slide_type": "subslide"
    }
   },
   "source": [
    "### _Translate that!_\n",
    "\n",
    "> What is indexing string in python? How do we implement it?"
   ]
  },
  {
   "cell_type": "code",
   "execution_count": 42,
   "id": "e463e6da",
   "metadata": {},
   "outputs": [],
   "source": [
    "a = \"python\""
   ]
  },
  {
   "cell_type": "code",
   "execution_count": 43,
   "id": "4fd1e3aa",
   "metadata": {},
   "outputs": [
    {
     "data": {
      "text/plain": [
       "'p'"
      ]
     },
     "execution_count": 43,
     "metadata": {},
     "output_type": "execute_result"
    }
   ],
   "source": [
    "a[0]"
   ]
  },
  {
   "cell_type": "markdown",
   "id": "be98fed3",
   "metadata": {
    "slideshow": {
     "slide_type": "subslide"
    }
   },
   "source": [
    "### _Translate that!_\n",
    "\n",
    "> What is slicing string in python? How do we implement it?"
   ]
  },
  {
   "cell_type": "code",
   "execution_count": 44,
   "id": "a65f3322",
   "metadata": {},
   "outputs": [
    {
     "data": {
      "text/plain": [
       "'yth'"
      ]
     },
     "execution_count": 44,
     "metadata": {},
     "output_type": "execute_result"
    }
   ],
   "source": [
    "a[1:4]"
   ]
  },
  {
   "cell_type": "code",
   "execution_count": 45,
   "id": "7372ff53",
   "metadata": {},
   "outputs": [
    {
     "data": {
      "text/plain": [
       "'p'"
      ]
     },
     "execution_count": 45,
     "metadata": {},
     "output_type": "execute_result"
    }
   ],
   "source": [
    "a[0:1]"
   ]
  },
  {
   "cell_type": "markdown",
   "id": "e360316b",
   "metadata": {
    "slideshow": {
     "slide_type": "subslide"
    }
   },
   "source": [
    "### String comparison\n",
    "\n",
    "Comparison operators `>, <, ==`"
   ]
  },
  {
   "cell_type": "code",
   "execution_count": 46,
   "id": "c0846765",
   "metadata": {},
   "outputs": [
    {
     "data": {
      "text/plain": [
       "True"
      ]
     },
     "execution_count": 46,
     "metadata": {},
     "output_type": "execute_result"
    }
   ],
   "source": [
    "\"banana\" == \"banana\""
   ]
  },
  {
   "cell_type": "code",
   "execution_count": 47,
   "id": "cc7dada7",
   "metadata": {},
   "outputs": [
    {
     "data": {
      "text/plain": [
       "False"
      ]
     },
     "execution_count": 47,
     "metadata": {},
     "output_type": "execute_result"
    }
   ],
   "source": [
    "\"banana\" > \"pear\""
   ]
  },
  {
   "cell_type": "code",
   "execution_count": 48,
   "id": "bb2e7404",
   "metadata": {},
   "outputs": [
    {
     "data": {
      "text/plain": [
       "True"
      ]
     },
     "execution_count": 48,
     "metadata": {},
     "output_type": "execute_result"
    }
   ],
   "source": [
    "\"banana\" > \"Pear\""
   ]
  },
  {
   "cell_type": "code",
   "execution_count": 49,
   "id": "0cd5be0c",
   "metadata": {},
   "outputs": [
    {
     "data": {
      "text/plain": [
       "False"
      ]
     },
     "execution_count": 49,
     "metadata": {},
     "output_type": "execute_result"
    }
   ],
   "source": [
    "\"banana\" > \"Pear\".lower()"
   ]
  },
  {
   "cell_type": "markdown",
   "id": "1aaf5a77",
   "metadata": {
    "slideshow": {
     "slide_type": "subslide"
    }
   },
   "source": [
    "## Built-in methods with strings\n",
    "\n",
    "What is a method?\n",
    "\n",
    "* functions associated with a particular data type or a class of objects (e.g., strings)\n",
    "    * methods are essentially functions\n",
    "* format: `mystring.method()`\n",
    "* another way to call a method: the dot operator\n",
    "    * the method comes after the dot\n",
    "    *  the name of the particular object it acts on comes first\n"
   ]
  },
  {
   "cell_type": "code",
   "execution_count": 50,
   "id": "de971ed4",
   "metadata": {},
   "outputs": [
    {
     "data": {
      "text/plain": [
       "'Everybody is a genius.'"
      ]
     },
     "execution_count": 50,
     "metadata": {},
     "output_type": "execute_result"
    }
   ],
   "source": [
    "AE_quote = \"Everybody is a genius.\"\n",
    "AE_quote"
   ]
  },
  {
   "cell_type": "code",
   "execution_count": 51,
   "id": "3169814f",
   "metadata": {},
   "outputs": [
    {
     "data": {
      "text/plain": [
       "'EVERYBODY IS A GENIUS.'"
      ]
     },
     "execution_count": 51,
     "metadata": {},
     "output_type": "execute_result"
    }
   ],
   "source": [
    "AE_quote.upper()"
   ]
  },
  {
   "cell_type": "code",
   "execution_count": 52,
   "id": "7e625aa6",
   "metadata": {},
   "outputs": [
    {
     "data": {
      "text/plain": [
       "'Everybody is a genius.'"
      ]
     },
     "execution_count": 52,
     "metadata": {},
     "output_type": "execute_result"
    }
   ],
   "source": [
    "AE_quote"
   ]
  },
  {
   "cell_type": "code",
   "execution_count": 53,
   "id": "758be971",
   "metadata": {},
   "outputs": [
    {
     "data": {
      "text/plain": [
       "'everybody is a genius.'"
      ]
     },
     "execution_count": 53,
     "metadata": {},
     "output_type": "execute_result"
    }
   ],
   "source": [
    "AE_quote.lower()"
   ]
  },
  {
   "cell_type": "code",
   "execution_count": 54,
   "id": "e021dcc7",
   "metadata": {},
   "outputs": [
    {
     "data": {
      "text/plain": [
       "'Everybody is a genius.'"
      ]
     },
     "execution_count": 54,
     "metadata": {},
     "output_type": "execute_result"
    }
   ],
   "source": [
    "AE_quote"
   ]
  },
  {
   "cell_type": "code",
   "execution_count": 55,
   "id": "6f3b146c",
   "metadata": {},
   "outputs": [
    {
     "data": {
      "text/plain": [
       "'Everybody is a genius.'"
      ]
     },
     "execution_count": 55,
     "metadata": {},
     "output_type": "execute_result"
    }
   ],
   "source": [
    "AE_quote.capitalize()"
   ]
  },
  {
   "cell_type": "code",
   "execution_count": 56,
   "id": "a2b4e685",
   "metadata": {},
   "outputs": [
    {
     "name": "stdout",
     "output_type": "stream",
     "text": [
      "everybody is a genius.\n",
      "Everybody is a genius.\n"
     ]
    }
   ],
   "source": [
    "a = AE_quote.lower()\n",
    "print(a)\n",
    "print(a.capitalize())"
   ]
  },
  {
   "cell_type": "code",
   "execution_count": 57,
   "id": "f1c48992",
   "metadata": {},
   "outputs": [
    {
     "data": {
      "text/plain": [
       "'Everybody is a genius.'"
      ]
     },
     "execution_count": 57,
     "metadata": {},
     "output_type": "execute_result"
    }
   ],
   "source": [
    "AE_quote"
   ]
  },
  {
   "cell_type": "code",
   "execution_count": 58,
   "id": "4d427440",
   "metadata": {},
   "outputs": [
    {
     "data": {
      "text/plain": [
       "'Everybody is a genius.'"
      ]
     },
     "execution_count": 58,
     "metadata": {},
     "output_type": "execute_result"
    }
   ],
   "source": [
    "AE_quote.lower().capitalize()"
   ]
  },
  {
   "cell_type": "markdown",
   "id": "98ef0eed",
   "metadata": {
    "slideshow": {
     "slide_type": "subslide"
    }
   },
   "source": [
    "### **`count()`** method\n",
    "\n",
    "* gives the number of ocurrences of a substring in a range\n",
    "* *Syntax:*\n",
    "```python\n",
    "str.count(substring, start, end)\n",
    "```\n",
    "* `start` and `end` \n",
    "    * integers that indicate the indices where to start and end the count \n",
    "    * optional, if omitted, the whole string is inspected\n",
    "    * `end`: non-inclusive"
   ]
  },
  {
   "cell_type": "code",
   "execution_count": 59,
   "id": "2dc4393c",
   "metadata": {},
   "outputs": [
    {
     "data": {
      "text/plain": [
       "'Everybody is a genius.'"
      ]
     },
     "execution_count": 59,
     "metadata": {},
     "output_type": "execute_result"
    }
   ],
   "source": [
    "AE_quote"
   ]
  },
  {
   "cell_type": "code",
   "execution_count": 60,
   "id": "55e858b6",
   "metadata": {},
   "outputs": [
    {
     "data": {
      "text/plain": [
       "2"
      ]
     },
     "execution_count": 60,
     "metadata": {},
     "output_type": "execute_result"
    }
   ],
   "source": [
    "AE_quote.count(\"e\")"
   ]
  },
  {
   "cell_type": "code",
   "execution_count": 61,
   "id": "df969d46",
   "metadata": {},
   "outputs": [
    {
     "data": {
      "text/plain": [
       "2"
      ]
     },
     "execution_count": 61,
     "metadata": {},
     "output_type": "execute_result"
    }
   ],
   "source": [
    "AE_quote.count('e', 0, len(AE_quote))"
   ]
  },
  {
   "cell_type": "code",
   "execution_count": 62,
   "id": "994023bb",
   "metadata": {},
   "outputs": [
    {
     "data": {
      "text/plain": [
       "'Everybody is a genius.'"
      ]
     },
     "execution_count": 62,
     "metadata": {},
     "output_type": "execute_result"
    }
   ],
   "source": [
    "AE_quote"
   ]
  },
  {
   "cell_type": "code",
   "execution_count": 63,
   "id": "5905df81",
   "metadata": {},
   "outputs": [
    {
     "data": {
      "text/plain": [
       "'i'"
      ]
     },
     "execution_count": 63,
     "metadata": {},
     "output_type": "execute_result"
    }
   ],
   "source": [
    "AE_quote[10]"
   ]
  },
  {
   "cell_type": "code",
   "execution_count": 64,
   "id": "6d2620a7",
   "metadata": {},
   "outputs": [
    {
     "data": {
      "text/plain": [
       "1"
      ]
     },
     "execution_count": 64,
     "metadata": {},
     "output_type": "execute_result"
    }
   ],
   "source": [
    "AE_quote.count('e', 10, 20)"
   ]
  },
  {
   "cell_type": "code",
   "execution_count": 65,
   "id": "971c4fa6",
   "metadata": {},
   "outputs": [
    {
     "data": {
      "text/plain": [
       "1"
      ]
     },
     "execution_count": 65,
     "metadata": {},
     "output_type": "execute_result"
    }
   ],
   "source": [
    "AE_quote.count('e', 0, 11)"
   ]
  },
  {
   "cell_type": "code",
   "execution_count": 66,
   "id": "974682e8",
   "metadata": {},
   "outputs": [
    {
     "data": {
      "text/plain": [
       "'Everybody is a genius.'"
      ]
     },
     "execution_count": 66,
     "metadata": {},
     "output_type": "execute_result"
    }
   ],
   "source": [
    "AE_quote"
   ]
  },
  {
   "cell_type": "code",
   "execution_count": 67,
   "id": "c96772d5",
   "metadata": {},
   "outputs": [
    {
     "data": {
      "text/plain": [
       "1"
      ]
     },
     "execution_count": 67,
     "metadata": {},
     "output_type": "execute_result"
    }
   ],
   "source": [
    "AE_quote.count('Everybody')"
   ]
  },
  {
   "cell_type": "code",
   "execution_count": 68,
   "id": "23031617",
   "metadata": {},
   "outputs": [
    {
     "data": {
      "text/plain": [
       "0"
      ]
     },
     "execution_count": 68,
     "metadata": {},
     "output_type": "execute_result"
    }
   ],
   "source": [
    "AE_quote.count('EverybodyHello')"
   ]
  },
  {
   "cell_type": "markdown",
   "id": "d06f15b8",
   "metadata": {},
   "source": [
    "### `find()` method\n",
    "\n",
    "* tells us if a string `'substr'` occurs in the string and return the index where the substring starts, otherwise it will return `-1`.\n",
    "* *Syntax:*\n",
    "```python\n",
    "str.find(substring, start, end)\n",
    "```\n",
    "* `start` and `end` \n",
    "    * integers that indicate the indices where to start and end the count\n",
    "    * optional, if omitted, the whole string is inspected"
   ]
  },
  {
   "cell_type": "code",
   "execution_count": 69,
   "id": "38db28e7",
   "metadata": {},
   "outputs": [
    {
     "data": {
      "text/plain": [
       "'Everybody is a genius.'"
      ]
     },
     "execution_count": 69,
     "metadata": {},
     "output_type": "execute_result"
    }
   ],
   "source": [
    "AE_quote"
   ]
  },
  {
   "cell_type": "code",
   "execution_count": 70,
   "id": "509e0538",
   "metadata": {},
   "outputs": [
    {
     "data": {
      "text/plain": [
       "0"
      ]
     },
     "execution_count": 70,
     "metadata": {},
     "output_type": "execute_result"
    }
   ],
   "source": [
    "AE_quote.find('Everybody')"
   ]
  },
  {
   "cell_type": "code",
   "execution_count": 71,
   "id": "d23ba067",
   "metadata": {},
   "outputs": [
    {
     "data": {
      "text/plain": [
       "'Everybody'"
      ]
     },
     "execution_count": 71,
     "metadata": {},
     "output_type": "execute_result"
    }
   ],
   "source": [
    "AE_quote[AE_quote.find('Everybody') : (AE_quote.find('Everybody')+len(\"Everybody\"))]"
   ]
  },
  {
   "cell_type": "code",
   "execution_count": 72,
   "id": "43ff6dca",
   "metadata": {},
   "outputs": [
    {
     "data": {
      "text/plain": [
       "-1"
      ]
     },
     "execution_count": 72,
     "metadata": {},
     "output_type": "execute_result"
    }
   ],
   "source": [
    "AE_quote.find('EverybodyHello')"
   ]
  },
  {
   "cell_type": "code",
   "execution_count": 73,
   "id": "048e5ff1",
   "metadata": {},
   "outputs": [
    {
     "data": {
      "text/plain": [
       "'Everybody is a genius.'"
      ]
     },
     "execution_count": 73,
     "metadata": {},
     "output_type": "execute_result"
    }
   ],
   "source": [
    "AE_quote"
   ]
  },
  {
   "cell_type": "code",
   "execution_count": 74,
   "id": "34edd3fe",
   "metadata": {},
   "outputs": [
    {
     "data": {
      "text/plain": [
       "15"
      ]
     },
     "execution_count": 74,
     "metadata": {},
     "output_type": "execute_result"
    }
   ],
   "source": [
    "AE_quote.find('genius')"
   ]
  },
  {
   "cell_type": "code",
   "execution_count": 75,
   "id": "fcc90fba",
   "metadata": {},
   "outputs": [
    {
     "data": {
      "text/plain": [
       "6"
      ]
     },
     "execution_count": 75,
     "metadata": {},
     "output_type": "execute_result"
    }
   ],
   "source": [
    "len('genius')"
   ]
  },
  {
   "cell_type": "code",
   "execution_count": 76,
   "id": "091b8443",
   "metadata": {},
   "outputs": [
    {
     "data": {
      "text/plain": [
       "'genius'"
      ]
     },
     "execution_count": 76,
     "metadata": {},
     "output_type": "execute_result"
    }
   ],
   "source": [
    "AE_quote[15: 15 + len('genius')]"
   ]
  },
  {
   "cell_type": "markdown",
   "id": "f84d0c7f",
   "metadata": {
    "slideshow": {
     "slide_type": "subslide"
    }
   },
   "source": [
    "### `index()` method\n",
    "\n",
    "* tells us if a string `'substr'` occurs in the string and return the index where the substring starts, otherwise it will raise an error.\n",
    "* *Syntax:*\n",
    "```python\n",
    "str.index(substring, start, end)\n",
    "```\n",
    "* `start` and `end` \n",
    "    * integers that indicate the indices where to start and end the count\n",
    "    * optional, if omitted, the whole string is inspected"
   ]
  },
  {
   "cell_type": "code",
   "execution_count": 77,
   "id": "13606a6b",
   "metadata": {},
   "outputs": [
    {
     "data": {
      "text/plain": [
       "0"
      ]
     },
     "execution_count": 77,
     "metadata": {},
     "output_type": "execute_result"
    }
   ],
   "source": [
    "AE_quote.index('Everybody')"
   ]
  },
  {
   "cell_type": "code",
   "execution_count": 78,
   "id": "4511a43e",
   "metadata": {},
   "outputs": [
    {
     "data": {
      "text/plain": [
       "15"
      ]
     },
     "execution_count": 78,
     "metadata": {},
     "output_type": "execute_result"
    }
   ],
   "source": [
    "AE_quote.index('genius')"
   ]
  },
  {
   "cell_type": "code",
   "execution_count": 79,
   "id": "c831e621",
   "metadata": {},
   "outputs": [
    {
     "ename": "ValueError",
     "evalue": "substring not found",
     "output_type": "error",
     "traceback": [
      "\u001b[0;31m---------------------------------------------------------------------------\u001b[0m",
      "\u001b[0;31mValueError\u001b[0m                                Traceback (most recent call last)",
      "\u001b[0;32m/var/folders/6m/8n2ktxl566j8yp0n_qx7x5bw0000gt/T/ipykernel_9874/2761805799.py\u001b[0m in \u001b[0;36m<module>\u001b[0;34m\u001b[0m\n\u001b[0;32m----> 1\u001b[0;31m \u001b[0mAE_quote\u001b[0m\u001b[0;34m.\u001b[0m\u001b[0mindex\u001b[0m\u001b[0;34m(\u001b[0m\u001b[0;34m'fish'\u001b[0m\u001b[0;34m)\u001b[0m\u001b[0;34m\u001b[0m\u001b[0;34m\u001b[0m\u001b[0m\n\u001b[0m",
      "\u001b[0;31mValueError\u001b[0m: substring not found"
     ]
    }
   ],
   "source": [
    "AE_quote.index('fish')"
   ]
  },
  {
   "cell_type": "markdown",
   "id": "77238821",
   "metadata": {
    "slideshow": {
     "slide_type": "subslide"
    }
   },
   "source": [
    "### `strip()` method\n",
    "\n",
    "returns a copy of the string in which all characters given as argument are stripped from the beginning and the end of the string. \n",
    "\n",
    "* Syntax:\n",
    "```python\n",
    "str.strip([chars])\n",
    "```\n",
    "* Default argument is the space character (remove the white spaces)"
   ]
  },
  {
   "cell_type": "code",
   "execution_count": 80,
   "id": "b4c0879f",
   "metadata": {},
   "outputs": [],
   "source": [
    "ER_quote = \"   Great minds discuss ideas; average minds discuss events; small minds discuss people.  \""
   ]
  },
  {
   "cell_type": "code",
   "execution_count": 81,
   "id": "9c2f63d1",
   "metadata": {},
   "outputs": [
    {
     "data": {
      "text/plain": [
       "'   Great minds discuss ideas; average minds discuss events; small minds discuss people.  '"
      ]
     },
     "execution_count": 81,
     "metadata": {},
     "output_type": "execute_result"
    }
   ],
   "source": [
    "ER_quote"
   ]
  },
  {
   "cell_type": "code",
   "execution_count": 82,
   "id": "cb15d31a",
   "metadata": {},
   "outputs": [
    {
     "data": {
      "text/plain": [
       "'Great minds discuss ideas; average minds discuss events; small minds discuss people.'"
      ]
     },
     "execution_count": 82,
     "metadata": {},
     "output_type": "execute_result"
    }
   ],
   "source": [
    "ER_quote.strip()"
   ]
  },
  {
   "cell_type": "code",
   "execution_count": 83,
   "id": "3b452639",
   "metadata": {},
   "outputs": [
    {
     "data": {
      "text/plain": [
       "'Great minds discuss ideas; average minds discuss events; small minds discuss people.'"
      ]
     },
     "execution_count": 83,
     "metadata": {},
     "output_type": "execute_result"
    }
   ],
   "source": [
    "ER_quote_new = ER_quote.strip()\n",
    "ER_quote_new"
   ]
  },
  {
   "cell_type": "code",
   "execution_count": 84,
   "id": "18c0a8f7",
   "metadata": {},
   "outputs": [
    {
     "data": {
      "text/plain": [
       "'Great minds discuss ideas; average minds discuss events; small minds discuss people'"
      ]
     },
     "execution_count": 84,
     "metadata": {},
     "output_type": "execute_result"
    }
   ],
   "source": [
    "ER_quote_new.strip('.')"
   ]
  },
  {
   "cell_type": "code",
   "execution_count": 85,
   "id": "7339445b",
   "metadata": {},
   "outputs": [
    {
     "data": {
      "text/plain": [
       "'   Great minds discuss ideas; average minds discuss events; small minds discuss people.  '"
      ]
     },
     "execution_count": 85,
     "metadata": {},
     "output_type": "execute_result"
    }
   ],
   "source": [
    "ER_quote"
   ]
  },
  {
   "cell_type": "code",
   "execution_count": 86,
   "id": "aa5d43f5",
   "metadata": {},
   "outputs": [
    {
     "data": {
      "text/plain": [
       "'   Great minds discuss ideas; average minds discuss events; small minds discuss people.  '"
      ]
     },
     "execution_count": 86,
     "metadata": {},
     "output_type": "execute_result"
    }
   ],
   "source": [
    "ER_quote.strip('.')"
   ]
  },
  {
   "cell_type": "markdown",
   "id": "d383ea64",
   "metadata": {
    "slideshow": {
     "slide_type": "subslide"
    }
   },
   "source": [
    "# Further readings\n",
    "* \"Built-in String Methods\" in this [tutorial](https://www.tutorialspoint.com/python3/python_strings.htm)."
   ]
  },
  {
   "cell_type": "markdown",
   "id": "d3a78926",
   "metadata": {
    "slideshow": {
     "slide_type": "slide"
    }
   },
   "source": [
    "# Next Class\n",
    "\n",
    "* additional string methods\n",
    "* list\n",
    "\n",
    "Readings:\n",
    "\n",
    "* Chapter 10"
   ]
  }
 ],
 "metadata": {
  "celltoolbar": "Slideshow",
  "kernelspec": {
   "display_name": "Python 3 (ipykernel)",
   "language": "python",
   "name": "python3"
  },
  "language_info": {
   "codemirror_mode": {
    "name": "ipython",
    "version": 3
   },
   "file_extension": ".py",
   "mimetype": "text/x-python",
   "name": "python",
   "nbconvert_exporter": "python",
   "pygments_lexer": "ipython3",
   "version": "3.9.13"
  }
 },
 "nbformat": 4,
 "nbformat_minor": 5
}
