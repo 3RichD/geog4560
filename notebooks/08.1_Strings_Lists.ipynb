{
 "cells": [
  {
   "cell_type": "markdown",
   "id": "f6f7754f",
   "metadata": {
    "slideshow": {
     "slide_type": "slide"
    }
   },
   "source": [
    "# Introduction to Python for Open Source Geocomputation\n",
    "\n",
    "![python](pics/python-logo-master-v3-TM.png)\n",
    "\n",
    "* Instructor: Dr. Wei Kang\n",
    "* Class Location and Time: ENV 336, Mon & Wed 12:30 pm - 1:50 pm  \n",
    "\n",
    "Content:\n",
    "\n",
    "* Additional Strings methods\n",
    "* Lists"
   ]
  },
  {
   "cell_type": "markdown",
   "id": "3aea84b0",
   "metadata": {
    "slideshow": {
     "slide_type": "slide"
    }
   },
   "source": [
    "# Standard Data Types in Python - strings\n",
    "\n",
    "| Category of Data type | Data type            | Example    |\n",
    "| -------------- | -------------------- | ---------- |\n",
    "| Numeric, scalar         | Integer| 1       |\n",
    "|        | Floats   | 1.2   |\n",
    "|          | Complex    | 1.5+0.5j  |\n",
    "|         | Booleans   | True    |\n",
    "| Container    | strings   | \"Hello World\"   |\n",
    "|     | List   | [1, \"Hello World\"]  |\n",
    "|     | Tuple   | (1, \"Hello World\")  |\n",
    "|     | Set   | {1, \"Hello World\"}   |\n",
    "|     | Dictionary   | {1: \"Hello World\", 2: 100} |"
   ]
  },
  {
   "cell_type": "markdown",
   "id": "8aa4fc5c",
   "metadata": {
    "slideshow": {
     "slide_type": "subslide"
    }
   },
   "source": [
    "### Questions from our last class\n",
    "\n",
    "* What is a method in python?\n",
    "* What is a function in python?"
   ]
  },
  {
   "cell_type": "markdown",
   "id": "1aaf5a77",
   "metadata": {
    "slideshow": {
     "slide_type": "subslide"
    }
   },
   "source": [
    "## Built-in methods with strings\n",
    "\n",
    "What is a method?\n",
    "\n",
    "* functions associated with a particular data type or a class of objects (e.g., strings)\n",
    "    * methods are essentially functions\n",
    "* format: `mystring.method()`\n",
    "* another way to call a method: the dot operator\n",
    "    * the method comes after the dot\n",
    "    *  the name of the particular object it acts on comes first\n"
   ]
  },
  {
   "cell_type": "markdown",
   "id": "9937222a",
   "metadata": {
    "slideshow": {
     "slide_type": "subslide"
    }
   },
   "source": [
    "### Group Exercise \n",
    "\n",
    "Write python code to get rid of the underscores `_` in the beginning of the sentence and the exclamation points `!` at the end of the sentence. \n",
    "\n",
    "```python\n",
    "sentence = \"___Great minds discuss ideas!!!\"\n",
    "```\n",
    "\n",
    "> When you are done, raise your hand!"
   ]
  },
  {
   "cell_type": "code",
   "execution_count": 1,
   "id": "0131d51f",
   "metadata": {},
   "outputs": [],
   "source": [
    "sentence = \"___Great minds discuss ideas!!!\""
   ]
  },
  {
   "cell_type": "code",
   "execution_count": 2,
   "id": "2edbff22",
   "metadata": {},
   "outputs": [
    {
     "data": {
      "text/plain": [
       "'Great minds discuss ideas'"
      ]
     },
     "execution_count": 2,
     "metadata": {},
     "output_type": "execute_result"
    }
   ],
   "source": [
    "sentence.strip(\"_!\")"
   ]
  },
  {
   "cell_type": "code",
   "execution_count": 4,
   "id": "bdb0569a",
   "metadata": {},
   "outputs": [
    {
     "data": {
      "text/plain": [
       "'Great minds discuss ideas'"
      ]
     },
     "execution_count": 4,
     "metadata": {},
     "output_type": "execute_result"
    }
   ],
   "source": [
    "sentence.strip(\"_\").strip(\"!\")"
   ]
  },
  {
   "cell_type": "code",
   "execution_count": 5,
   "id": "ed18c24a",
   "metadata": {},
   "outputs": [
    {
     "data": {
      "text/plain": [
       "'___Great minds discuss ideas!!!'"
      ]
     },
     "execution_count": 5,
     "metadata": {},
     "output_type": "execute_result"
    }
   ],
   "source": [
    "sentence"
   ]
  },
  {
   "cell_type": "markdown",
   "id": "a310ff17",
   "metadata": {
    "slideshow": {
     "slide_type": "subslide"
    }
   },
   "source": [
    "The string methods are not **in-place** methods, which means the original string object/value is not changed. Instead, the methods return a value."
   ]
  },
  {
   "cell_type": "code",
   "execution_count": 6,
   "id": "e53a9390",
   "metadata": {},
   "outputs": [
    {
     "data": {
      "text/plain": [
       "'Great minds discuss ideas'"
      ]
     },
     "execution_count": 6,
     "metadata": {},
     "output_type": "execute_result"
    }
   ],
   "source": [
    "sentence.strip(\"_!\")"
   ]
  },
  {
   "cell_type": "code",
   "execution_count": 7,
   "id": "46e26608",
   "metadata": {},
   "outputs": [
    {
     "data": {
      "text/plain": [
       "'___Great minds discuss ideas!!!'"
      ]
     },
     "execution_count": 7,
     "metadata": {},
     "output_type": "execute_result"
    }
   ],
   "source": [
    "sentence"
   ]
  },
  {
   "cell_type": "code",
   "execution_count": 8,
   "id": "95688f58",
   "metadata": {},
   "outputs": [
    {
     "data": {
      "text/plain": [
       "'Great minds discuss ideas'"
      ]
     },
     "execution_count": 8,
     "metadata": {},
     "output_type": "execute_result"
    }
   ],
   "source": [
    "sentence_new = sentence.strip(\"_!\")\n",
    "sentence_new"
   ]
  },
  {
   "cell_type": "markdown",
   "id": "c1479026",
   "metadata": {
    "slideshow": {
     "slide_type": "subslide"
    }
   },
   "source": [
    "### `startswith()` method\n",
    "\n",
    "To find out if a string starts with a certain character(s). \n",
    "\n",
    "* syntax:\n",
    "```python\n",
    "str.startswith(substring)\n",
    "```\n",
    "* returned value: `True` or `False`"
   ]
  },
  {
   "cell_type": "code",
   "execution_count": 9,
   "id": "c5ed64bd",
   "metadata": {},
   "outputs": [],
   "source": [
    "ER_quote = \"   Great minds discuss ideas; average minds discuss events; small minds discuss people.   \""
   ]
  },
  {
   "cell_type": "code",
   "execution_count": 10,
   "id": "0ed5b538",
   "metadata": {},
   "outputs": [
    {
     "data": {
      "text/plain": [
       "'   Great minds discuss ideas; average minds discuss events; small minds discuss people.   '"
      ]
     },
     "execution_count": 10,
     "metadata": {},
     "output_type": "execute_result"
    }
   ],
   "source": [
    "ER_quote"
   ]
  },
  {
   "cell_type": "code",
   "execution_count": 11,
   "id": "a1339c5d",
   "metadata": {},
   "outputs": [
    {
     "data": {
      "text/plain": [
       "False"
      ]
     },
     "execution_count": 11,
     "metadata": {},
     "output_type": "execute_result"
    }
   ],
   "source": [
    "ER_quote.startswith('great')"
   ]
  },
  {
   "cell_type": "code",
   "execution_count": 12,
   "id": "724026f1",
   "metadata": {},
   "outputs": [
    {
     "data": {
      "text/plain": [
       "False"
      ]
     },
     "execution_count": 12,
     "metadata": {},
     "output_type": "execute_result"
    }
   ],
   "source": [
    "ER_quote.startswith('Great')"
   ]
  },
  {
   "cell_type": "code",
   "execution_count": 13,
   "id": "5d3444cb",
   "metadata": {},
   "outputs": [
    {
     "data": {
      "text/plain": [
       "'Great minds discuss ideas; average minds discuss events; small minds discuss people.'"
      ]
     },
     "execution_count": 13,
     "metadata": {},
     "output_type": "execute_result"
    }
   ],
   "source": [
    "ER_quote.strip()"
   ]
  },
  {
   "cell_type": "code",
   "execution_count": 14,
   "id": "412e8728",
   "metadata": {},
   "outputs": [
    {
     "data": {
      "text/plain": [
       "'   Great minds discuss ideas; average minds discuss events; small minds discuss people.   '"
      ]
     },
     "execution_count": 14,
     "metadata": {},
     "output_type": "execute_result"
    }
   ],
   "source": [
    "ER_quote"
   ]
  },
  {
   "cell_type": "code",
   "execution_count": 15,
   "id": "6b96a422",
   "metadata": {},
   "outputs": [
    {
     "data": {
      "text/plain": [
       "'Great minds discuss ideas; average minds discuss events; small minds discuss people.'"
      ]
     },
     "execution_count": 15,
     "metadata": {},
     "output_type": "execute_result"
    }
   ],
   "source": [
    "ER_quote_new = ER_quote.strip()\n",
    "ER_quote_new"
   ]
  },
  {
   "cell_type": "code",
   "execution_count": 16,
   "id": "de29f024",
   "metadata": {},
   "outputs": [
    {
     "data": {
      "text/plain": [
       "False"
      ]
     },
     "execution_count": 16,
     "metadata": {},
     "output_type": "execute_result"
    }
   ],
   "source": [
    "ER_quote_new.startswith('great')"
   ]
  },
  {
   "cell_type": "code",
   "execution_count": 17,
   "id": "b2e2514c",
   "metadata": {},
   "outputs": [
    {
     "data": {
      "text/plain": [
       "True"
      ]
     },
     "execution_count": 17,
     "metadata": {},
     "output_type": "execute_result"
    }
   ],
   "source": [
    "ER_quote_new.startswith('Great')"
   ]
  },
  {
   "cell_type": "code",
   "execution_count": 18,
   "id": "1f6ec9a7",
   "metadata": {},
   "outputs": [
    {
     "data": {
      "text/plain": [
       "'   Great minds discuss ideas; average minds discuss events; small minds discuss people.   '"
      ]
     },
     "execution_count": 18,
     "metadata": {},
     "output_type": "execute_result"
    }
   ],
   "source": [
    "ER_quote"
   ]
  },
  {
   "cell_type": "code",
   "execution_count": 19,
   "id": "f18b75ce",
   "metadata": {},
   "outputs": [
    {
     "data": {
      "text/plain": [
       "'Great minds discuss ideas; average minds discuss events; small minds discuss people.'"
      ]
     },
     "execution_count": 19,
     "metadata": {},
     "output_type": "execute_result"
    }
   ],
   "source": [
    "ER_quote_new"
   ]
  },
  {
   "cell_type": "code",
   "execution_count": 20,
   "id": "9f40e5d8",
   "metadata": {},
   "outputs": [
    {
     "data": {
      "text/plain": [
       "True"
      ]
     },
     "execution_count": 20,
     "metadata": {},
     "output_type": "execute_result"
    }
   ],
   "source": [
    "ER_quote_new.startswith('Great minds')"
   ]
  },
  {
   "cell_type": "code",
   "execution_count": 21,
   "id": "188edc67",
   "metadata": {},
   "outputs": [
    {
     "data": {
      "text/plain": [
       "True"
      ]
     },
     "execution_count": 21,
     "metadata": {},
     "output_type": "execute_result"
    }
   ],
   "source": [
    "ER_quote_new.endswith('people.')"
   ]
  },
  {
   "cell_type": "markdown",
   "id": "f6525e81",
   "metadata": {
    "slideshow": {
     "slide_type": "subslide"
    }
   },
   "source": [
    "### `split()` method\n",
    "\n",
    "Returns a **list** of all the words in a string\n",
    "\n",
    "* *Syntax:*\n",
    "```python\n",
    "str.split(separator, num)\n",
    "```\n",
    "* separator: **a character** which splits our string \n",
    "    * optional, default is None, meaning splitting according to any whitespace, and discard empty strings from the result.\n",
    "  \n",
    "* num: the number of splits\n",
    "    * optional, default is unlimited\n"
   ]
  },
  {
   "cell_type": "code",
   "execution_count": 22,
   "id": "f65333c3",
   "metadata": {},
   "outputs": [
    {
     "data": {
      "text/plain": [
       "'   Great minds discuss ideas; average minds discuss events; small minds discuss people.   '"
      ]
     },
     "execution_count": 22,
     "metadata": {},
     "output_type": "execute_result"
    }
   ],
   "source": [
    "ER_quote"
   ]
  },
  {
   "cell_type": "code",
   "execution_count": 24,
   "id": "863bcd36",
   "metadata": {},
   "outputs": [
    {
     "data": {
      "text/plain": [
       "['',\n",
       " '',\n",
       " '',\n",
       " 'Great',\n",
       " 'minds',\n",
       " 'discuss',\n",
       " 'ideas;',\n",
       " 'average',\n",
       " 'minds',\n",
       " 'discuss',\n",
       " 'events;',\n",
       " 'small',\n",
       " 'minds',\n",
       " 'discuss',\n",
       " 'people.',\n",
       " '',\n",
       " '',\n",
       " '']"
      ]
     },
     "execution_count": 24,
     "metadata": {},
     "output_type": "execute_result"
    }
   ],
   "source": [
    "ER_quote.split(\" \")"
   ]
  },
  {
   "cell_type": "code",
   "execution_count": 23,
   "id": "d1df8feb",
   "metadata": {},
   "outputs": [
    {
     "data": {
      "text/plain": [
       "['Great',\n",
       " 'minds',\n",
       " 'discuss',\n",
       " 'ideas;',\n",
       " 'average',\n",
       " 'minds',\n",
       " 'discuss',\n",
       " 'events;',\n",
       " 'small',\n",
       " 'minds',\n",
       " 'discuss',\n",
       " 'people.']"
      ]
     },
     "execution_count": 23,
     "metadata": {},
     "output_type": "execute_result"
    }
   ],
   "source": [
    "ER_quote.split()"
   ]
  },
  {
   "cell_type": "code",
   "execution_count": 25,
   "id": "0ff084f5",
   "metadata": {},
   "outputs": [
    {
     "data": {
      "text/plain": [
       "list"
      ]
     },
     "execution_count": 25,
     "metadata": {},
     "output_type": "execute_result"
    }
   ],
   "source": [
    "type(ER_quote.split())"
   ]
  },
  {
   "cell_type": "code",
   "execution_count": 26,
   "id": "0d2d16ec",
   "metadata": {},
   "outputs": [
    {
     "data": {
      "text/plain": [
       "'   Great minds discuss ideas; average minds discuss events; small minds discuss people.   '"
      ]
     },
     "execution_count": 26,
     "metadata": {},
     "output_type": "execute_result"
    }
   ],
   "source": [
    "ER_quote"
   ]
  },
  {
   "cell_type": "code",
   "execution_count": 27,
   "id": "145b4149",
   "metadata": {},
   "outputs": [
    {
     "data": {
      "text/plain": [
       "['   Great minds discuss ideas',\n",
       " ' average minds discuss events',\n",
       " ' small minds discuss people.   ']"
      ]
     },
     "execution_count": 27,
     "metadata": {},
     "output_type": "execute_result"
    }
   ],
   "source": [
    "ER_quote.split(\";\")"
   ]
  },
  {
   "cell_type": "code",
   "execution_count": 28,
   "id": "d35ac448",
   "metadata": {},
   "outputs": [
    {
     "data": {
      "text/plain": [
       "['   Great minds discuss ideas',\n",
       " 'average minds discuss events',\n",
       " 'small minds discuss people.   ']"
      ]
     },
     "execution_count": 28,
     "metadata": {},
     "output_type": "execute_result"
    }
   ],
   "source": [
    "ER_quote.split(\"; \")"
   ]
  },
  {
   "cell_type": "markdown",
   "id": "a6190d65",
   "metadata": {
    "slideshow": {
     "slide_type": "subslide"
    }
   },
   "source": [
    "### Group Exercise \n",
    "\n",
    "Write python code to get each word in the sentence \n",
    "\n",
    "```python\n",
    "sentence = \"__Great minds discuss ideas!!!\"\n",
    "```` \n",
    "Hint: Use string method `split()` and `strip()`\n",
    "\n",
    "> When you are done, raise your hand!"
   ]
  },
  {
   "cell_type": "code",
   "execution_count": 29,
   "id": "103a4c33",
   "metadata": {},
   "outputs": [],
   "source": [
    "sentence = \"__Great minds discuss ideas!!!\""
   ]
  },
  {
   "cell_type": "code",
   "execution_count": 31,
   "id": "b54c80a0",
   "metadata": {},
   "outputs": [
    {
     "data": {
      "text/plain": [
       "'Great minds discuss ideas'"
      ]
     },
     "execution_count": 31,
     "metadata": {},
     "output_type": "execute_result"
    }
   ],
   "source": [
    "sentence.strip(\"_!\")"
   ]
  },
  {
   "cell_type": "code",
   "execution_count": 32,
   "id": "f950e968",
   "metadata": {},
   "outputs": [
    {
     "data": {
      "text/plain": [
       "'Great minds discuss ideas'"
      ]
     },
     "execution_count": 32,
     "metadata": {},
     "output_type": "execute_result"
    }
   ],
   "source": [
    "sentence_new = sentence.strip(\"_!\")\n",
    "sentence_new"
   ]
  },
  {
   "cell_type": "code",
   "execution_count": 33,
   "id": "32356fa4",
   "metadata": {},
   "outputs": [
    {
     "data": {
      "text/plain": [
       "['Great', 'minds', 'discuss', 'ideas']"
      ]
     },
     "execution_count": 33,
     "metadata": {},
     "output_type": "execute_result"
    }
   ],
   "source": [
    "sentence_new.split()"
   ]
  },
  {
   "cell_type": "code",
   "execution_count": 34,
   "id": "ff6e1840",
   "metadata": {},
   "outputs": [
    {
     "data": {
      "text/plain": [
       "['Great', 'minds', 'discuss', 'ideas']"
      ]
     },
     "execution_count": 34,
     "metadata": {},
     "output_type": "execute_result"
    }
   ],
   "source": [
    "sentence.strip(\"_!\").split()"
   ]
  },
  {
   "cell_type": "markdown",
   "id": "b06e9405",
   "metadata": {
    "slideshow": {
     "slide_type": "subslide"
    }
   },
   "source": [
    "### Many more methods of strings\n",
    "\n",
    "* Define a String variable `s = \"python\"`, use `.` and `Tab` to inspect all the methods of strings `s.[Tab]`\n",
    "* Explore the functionality and syntax of a string method:\n",
    "    * In a python interpreter (code cell): \n",
    "        * `s.split?` (question mark after calling the method) \n",
    "        * `help(s.split)` (use `help()` function)\n",
    "    * google search **python strings split**\n",
    "        * read documentation <https://docs.python.org/3.3/library/stdtypes.html?highlight=split#str.split>\n",
    "        * read posts and examples from other pythoon users <https://www.w3schools.com/python/ref_string_split.asp> \n",
    "* More on \"Built-in String Methods\" \n",
    "    * [tutorial](https://www.tutorialspoint.com/python3/python_strings.htm)\n",
    "    * [String methods on python documentation website](https://docs.python.org/3.3/library/stdtypes.html?highlight=split#string-methods)\n"
   ]
  },
  {
   "cell_type": "code",
   "execution_count": 35,
   "id": "bf2658fc",
   "metadata": {},
   "outputs": [],
   "source": [
    "s = \"python\""
   ]
  },
  {
   "cell_type": "code",
   "execution_count": 36,
   "id": "976dc75c",
   "metadata": {},
   "outputs": [],
   "source": [
    "s.center?"
   ]
  },
  {
   "cell_type": "code",
   "execution_count": 37,
   "id": "89928d03",
   "metadata": {},
   "outputs": [],
   "source": [
    "s.endswith?"
   ]
  },
  {
   "cell_type": "code",
   "execution_count": 38,
   "id": "db308ca7",
   "metadata": {},
   "outputs": [
    {
     "name": "stdout",
     "output_type": "stream",
     "text": [
      "Help on built-in function endswith:\n",
      "\n",
      "endswith(...) method of builtins.str instance\n",
      "    S.endswith(suffix[, start[, end]]) -> bool\n",
      "    \n",
      "    Return True if S ends with the specified suffix, False otherwise.\n",
      "    With optional start, test S beginning at that position.\n",
      "    With optional end, stop comparing S at that position.\n",
      "    suffix can also be a tuple of strings to try.\n",
      "\n"
     ]
    }
   ],
   "source": [
    "help(s.endswith)"
   ]
  },
  {
   "cell_type": "code",
   "execution_count": null,
   "id": "2a50ac2b",
   "metadata": {},
   "outputs": [],
   "source": [
    "s.split?"
   ]
  },
  {
   "cell_type": "code",
   "execution_count": null,
   "id": "d09a2c11",
   "metadata": {},
   "outputs": [],
   "source": [
    "help(s.split)"
   ]
  },
  {
   "cell_type": "markdown",
   "id": "7ddb279a",
   "metadata": {
    "slideshow": {
     "slide_type": "slide"
    }
   },
   "source": [
    "# Standard Data Types in Python - Lists\n",
    "\n",
    "| Category of Data type | Data type            | Example    |\n",
    "| -------------- | -------------------- | ---------- |\n",
    "| Numeric, scalar         | Integer| 1       |\n",
    "|        | Floats   | 1.2   |\n",
    "|          | Complex    | 1.5+0.5j  |\n",
    "|         | Booleans   | True    |\n",
    "| Container    | strings   | \"Hello World\"   |\n",
    "|     | List   | [1, \"Hello World\"]  |\n",
    "|     | Tuple   | (1, \"Hello World\")  |\n",
    "|     | Set   | {1, \"Hello World\"}   |\n",
    "|     | Dictionary   | {1: \"Hello World\", 2: 100} |"
   ]
  },
  {
   "cell_type": "code",
   "execution_count": 39,
   "id": "777d35e8",
   "metadata": {},
   "outputs": [
    {
     "data": {
      "text/plain": [
       "['__Great', 'minds', 'discuss', 'ideas!!!']"
      ]
     },
     "execution_count": 39,
     "metadata": {},
     "output_type": "execute_result"
    }
   ],
   "source": [
    "sentence.split()"
   ]
  },
  {
   "cell_type": "markdown",
   "id": "f1a80d3b",
   "metadata": {
    "slideshow": {
     "slide_type": "subslide"
    }
   },
   "source": [
    "## What is a list in python?\n",
    "\n",
    "\n",
    "* syntax:\n",
    "```python\n",
    "[value1, value2, value3]\n",
    "```\n",
    "* A list is a ordered sequence of values\n",
    "* The value can be any type\n",
    "* The values in a list are called elements or sometimes items\n",
    "* A list is mutable\n",
    "* One of the most useful built-in types"
   ]
  },
  {
   "cell_type": "markdown",
   "id": "e956ed5f",
   "metadata": {
    "slideshow": {
     "slide_type": "subslide"
    }
   },
   "source": [
    "## Creating a list\n",
    "\n",
    "* from other functions, e.g., `str.split()`\n",
    "* assignment statment with `string_name = [value1, value2, value3]`\n",
    "* `list` function"
   ]
  },
  {
   "cell_type": "code",
   "execution_count": 40,
   "id": "6ebbc506",
   "metadata": {},
   "outputs": [
    {
     "data": {
      "text/plain": [
       "[1, 'happy', (1+9j), 2.3, True]"
      ]
     },
     "execution_count": 40,
     "metadata": {},
     "output_type": "execute_result"
    }
   ],
   "source": [
    "list_a = [1, \"happy\", 1+9j, 2.3, True]\n",
    "list_a"
   ]
  },
  {
   "cell_type": "code",
   "execution_count": 41,
   "id": "a2e8afb5",
   "metadata": {},
   "outputs": [
    {
     "data": {
      "text/plain": [
       "list"
      ]
     },
     "execution_count": 41,
     "metadata": {},
     "output_type": "execute_result"
    }
   ],
   "source": [
    "type(list_a)"
   ]
  },
  {
   "cell_type": "code",
   "execution_count": 43,
   "id": "cc213238",
   "metadata": {},
   "outputs": [],
   "source": [
    "empty_list = []"
   ]
  },
  {
   "cell_type": "code",
   "execution_count": 44,
   "id": "fd490845",
   "metadata": {},
   "outputs": [
    {
     "data": {
      "text/plain": [
       "list"
      ]
     },
     "execution_count": 44,
     "metadata": {},
     "output_type": "execute_result"
    }
   ],
   "source": [
    "type(empty_list)"
   ]
  },
  {
   "cell_type": "markdown",
   "id": "11132dd7",
   "metadata": {
    "slideshow": {
     "slide_type": "subslide"
    }
   },
   "source": [
    "Empty list"
   ]
  },
  {
   "cell_type": "code",
   "execution_count": 45,
   "id": "a60ba14d",
   "metadata": {},
   "outputs": [],
   "source": [
    "a = []"
   ]
  },
  {
   "cell_type": "code",
   "execution_count": 46,
   "id": "164dedeb",
   "metadata": {},
   "outputs": [
    {
     "data": {
      "text/plain": [
       "[]"
      ]
     },
     "execution_count": 46,
     "metadata": {},
     "output_type": "execute_result"
    }
   ],
   "source": [
    "a"
   ]
  },
  {
   "cell_type": "code",
   "execution_count": 47,
   "id": "adf7a7e3",
   "metadata": {},
   "outputs": [
    {
     "ename": "IndexError",
     "evalue": "list index out of range",
     "output_type": "error",
     "traceback": [
      "\u001b[0;31m---------------------------------------------------------------------------\u001b[0m",
      "\u001b[0;31mIndexError\u001b[0m                                Traceback (most recent call last)",
      "Cell \u001b[0;32mIn[47], line 1\u001b[0m\n\u001b[0;32m----> 1\u001b[0m \u001b[43ma\u001b[49m\u001b[43m[\u001b[49m\u001b[38;5;241;43m0\u001b[39;49m\u001b[43m]\u001b[49m\n",
      "\u001b[0;31mIndexError\u001b[0m: list index out of range"
     ]
    }
   ],
   "source": [
    "a[0]"
   ]
  },
  {
   "cell_type": "code",
   "execution_count": 48,
   "id": "e7def8a7",
   "metadata": {},
   "outputs": [
    {
     "data": {
      "text/plain": [
       "['p', 'y', 't', 'h', 'o', 'n']"
      ]
     },
     "execution_count": 48,
     "metadata": {},
     "output_type": "execute_result"
    }
   ],
   "source": [
    "list(\"python\")"
   ]
  },
  {
   "cell_type": "code",
   "execution_count": 49,
   "id": "39d36c8d",
   "metadata": {},
   "outputs": [
    {
     "data": {
      "text/plain": [
       "range(0, 2)"
      ]
     },
     "execution_count": 49,
     "metadata": {},
     "output_type": "execute_result"
    }
   ],
   "source": [
    "range(2)"
   ]
  },
  {
   "cell_type": "code",
   "execution_count": 50,
   "id": "9f3de460",
   "metadata": {},
   "outputs": [
    {
     "data": {
      "text/plain": [
       "[0, 1]"
      ]
     },
     "execution_count": 50,
     "metadata": {},
     "output_type": "execute_result"
    }
   ],
   "source": [
    "list(range(2))"
   ]
  },
  {
   "cell_type": "markdown",
   "id": "edeb9322",
   "metadata": {},
   "source": [
    "## Indexing a list \n",
    "\n",
    "similar to indexing string: index starts from 0!"
   ]
  },
  {
   "cell_type": "code",
   "execution_count": 51,
   "id": "63bfb38f",
   "metadata": {},
   "outputs": [],
   "source": [
    "list_a = [1, \"happy\", 1+9j, 2.3, True]"
   ]
  },
  {
   "cell_type": "code",
   "execution_count": 52,
   "id": "971d04c2",
   "metadata": {},
   "outputs": [
    {
     "data": {
      "text/plain": [
       "1"
      ]
     },
     "execution_count": 52,
     "metadata": {},
     "output_type": "execute_result"
    }
   ],
   "source": [
    "list_a[0]"
   ]
  },
  {
   "cell_type": "code",
   "execution_count": 53,
   "id": "9a24ec56",
   "metadata": {},
   "outputs": [
    {
     "data": {
      "text/plain": [
       "'happy'"
      ]
     },
     "execution_count": 53,
     "metadata": {},
     "output_type": "execute_result"
    }
   ],
   "source": [
    "list_a[1]"
   ]
  },
  {
   "cell_type": "code",
   "execution_count": 54,
   "id": "b659f2dd",
   "metadata": {},
   "outputs": [
    {
     "data": {
      "text/plain": [
       "True"
      ]
     },
     "execution_count": 54,
     "metadata": {},
     "output_type": "execute_result"
    }
   ],
   "source": [
    "list_a[-1]"
   ]
  },
  {
   "cell_type": "markdown",
   "id": "77ccd7c7",
   "metadata": {},
   "source": [
    "## Slicing a list \n",
    "\n",
    "Lists can be sliced in a similar fashion to what we saw for strings\n"
   ]
  },
  {
   "cell_type": "code",
   "execution_count": 55,
   "id": "88725e1b",
   "metadata": {},
   "outputs": [
    {
     "data": {
      "text/plain": [
       "[1, 'happy', (1+9j), 2.3, True]"
      ]
     },
     "execution_count": 55,
     "metadata": {},
     "output_type": "execute_result"
    }
   ],
   "source": [
    "list_a"
   ]
  },
  {
   "cell_type": "code",
   "execution_count": 56,
   "id": "b18512dc",
   "metadata": {},
   "outputs": [
    {
     "data": {
      "text/plain": [
       "['happy', (1+9j), 2.3, True]"
      ]
     },
     "execution_count": 56,
     "metadata": {},
     "output_type": "execute_result"
    }
   ],
   "source": [
    "list_a[1:]"
   ]
  },
  {
   "cell_type": "code",
   "execution_count": 57,
   "id": "2209ac2b",
   "metadata": {},
   "outputs": [
    {
     "data": {
      "text/plain": [
       "['happy', (1+9j), 2.3]"
      ]
     },
     "execution_count": 57,
     "metadata": {},
     "output_type": "execute_result"
    }
   ],
   "source": [
    "list_a[1:-1]"
   ]
  },
  {
   "cell_type": "markdown",
   "id": "6e9d2e57",
   "metadata": {},
   "source": [
    "### built-in functions on numerical lists"
   ]
  },
  {
   "cell_type": "code",
   "execution_count": null,
   "id": "b4e57537",
   "metadata": {},
   "outputs": [],
   "source": [
    "list_int = [3,2,4]\n",
    "list_int"
   ]
  },
  {
   "cell_type": "code",
   "execution_count": null,
   "id": "cef40136",
   "metadata": {},
   "outputs": [],
   "source": [
    "len(list_int)"
   ]
  },
  {
   "cell_type": "markdown",
   "id": "b39244ec",
   "metadata": {
    "slideshow": {
     "slide_type": "subslide"
    }
   },
   "source": [
    "How to calculate the sum of all the numbers in the list?"
   ]
  },
  {
   "cell_type": "code",
   "execution_count": null,
   "id": "851e8a4b",
   "metadata": {},
   "outputs": [],
   "source": [
    "list_int[0] + list_int[1] + list_int[2]"
   ]
  },
  {
   "cell_type": "code",
   "execution_count": null,
   "id": "099ef339",
   "metadata": {},
   "outputs": [],
   "source": [
    "list_int"
   ]
  },
  {
   "cell_type": "code",
   "execution_count": null,
   "id": "70b3a4bf",
   "metadata": {},
   "outputs": [],
   "source": [
    "s = \"python\"\n",
    "for i in s:\n",
    "    print(i)"
   ]
  },
  {
   "cell_type": "code",
   "execution_count": null,
   "id": "ea282d8c",
   "metadata": {},
   "outputs": [],
   "source": [
    "for i in list_int:\n",
    "    print(i)"
   ]
  },
  {
   "cell_type": "markdown",
   "id": "9c053afe",
   "metadata": {
    "slideshow": {
     "slide_type": "subslide"
    }
   },
   "source": [
    "### Group Exploration Exercise\n",
    "\n",
    "Write python code to calculate the average value of all the numbers in a list of numbers?\n",
    "\n",
    "```python\n",
    "list_int = [3,2,4]\n",
    "```\n",
    "\n",
    "> When you are done, raise your hand!"
   ]
  },
  {
   "cell_type": "code",
   "execution_count": null,
   "id": "dc1f8412",
   "metadata": {},
   "outputs": [],
   "source": [
    "list_int = [3,2,4]"
   ]
  },
  {
   "cell_type": "code",
   "execution_count": null,
   "id": "bd4d585f",
   "metadata": {},
   "outputs": [],
   "source": [
    "sum_list = 0\n",
    "for i in list_int:\n",
    "    sum_list = sum_list + i\n",
    "    print(i, sum_list)\n",
    "sum_list"
   ]
  },
  {
   "cell_type": "code",
   "execution_count": null,
   "id": "75458ab5",
   "metadata": {},
   "outputs": [],
   "source": [
    "sum(list_int)"
   ]
  },
  {
   "cell_type": "code",
   "execution_count": null,
   "id": "2f77b545",
   "metadata": {},
   "outputs": [],
   "source": [
    "len(list_int)"
   ]
  },
  {
   "cell_type": "markdown",
   "id": "ce43c0e0",
   "metadata": {
    "slideshow": {
     "slide_type": "subslide"
    }
   },
   "source": [
    "The average value of all the numbers in a list of numbers?\n",
    "\n",
    "* find the total value \n",
    "* find the number of numbers"
   ]
  },
  {
   "cell_type": "code",
   "execution_count": null,
   "id": "06962c7b",
   "metadata": {},
   "outputs": [],
   "source": [
    "sum(list_int)/len(list_int)"
   ]
  },
  {
   "cell_type": "code",
   "execution_count": null,
   "id": "fe885c45",
   "metadata": {},
   "outputs": [],
   "source": [
    "list_int"
   ]
  },
  {
   "cell_type": "code",
   "execution_count": null,
   "id": "40dbb8f3",
   "metadata": {},
   "outputs": [],
   "source": [
    "max(list_int)"
   ]
  },
  {
   "cell_type": "code",
   "execution_count": null,
   "id": "06a2168e",
   "metadata": {},
   "outputs": [],
   "source": [
    "min(list_int)"
   ]
  },
  {
   "cell_type": "markdown",
   "id": "64cbce4d",
   "metadata": {
    "slideshow": {
     "slide_type": "subslide"
    }
   },
   "source": [
    "## `in` operator with lists\n",
    "\n",
    "similar to the behavior when working with strings\n",
    "\n",
    "* Check whether an item/element occurs in a given list\n",
    "* Returns a boolean value"
   ]
  },
  {
   "cell_type": "markdown",
   "id": "964f5837",
   "metadata": {
    "slideshow": {
     "slide_type": "subslide"
    }
   },
   "source": [
    "### Group Exercise\n",
    "\n",
    "Write python code to check whether `3` occurs in the list `[1,2,3]`\n",
    "\n",
    "> When you are done, raise your hand!"
   ]
  },
  {
   "cell_type": "code",
   "execution_count": null,
   "id": "2b3be24f",
   "metadata": {},
   "outputs": [],
   "source": [
    "3 in [1,2,3]"
   ]
  },
  {
   "cell_type": "markdown",
   "id": "cfc7c43f",
   "metadata": {
    "slideshow": {
     "slide_type": "subslide"
    }
   },
   "source": [
    "### Comparison operators across integers and floats\n",
    "\n",
    "Numbers of built-in numeric types (Numeric Types — **int, float, complex**) and of the standard library types fractions.Fraction and decimal.Decimal can be compared **within and across their types***, with the restriction that complex numbers do not support order comparison. Within the limits of the types involved, they compare mathematically (algorithmically) correct without loss of precision.\n",
    "\n",
    "Compare numerical values rather than focusing on data types\n",
    "\n",
    "reference: <https://docs.python.org/3/reference/expressions.html#value-comparisons>"
   ]
  },
  {
   "cell_type": "code",
   "execution_count": null,
   "id": "9bd8e152",
   "metadata": {},
   "outputs": [],
   "source": [
    "3 == 3.0"
   ]
  },
  {
   "cell_type": "code",
   "execution_count": null,
   "id": "6f263063",
   "metadata": {},
   "outputs": [],
   "source": [
    "3.0 in [1,2,3]"
   ]
  },
  {
   "cell_type": "code",
   "execution_count": null,
   "id": "b9feeef9",
   "metadata": {},
   "outputs": [],
   "source": [
    "3 in [1,2,3.0]"
   ]
  },
  {
   "cell_type": "code",
   "execution_count": null,
   "id": "b2db7b96",
   "metadata": {},
   "outputs": [],
   "source": [
    "3 in [1,2,\"3\"]"
   ]
  },
  {
   "cell_type": "markdown",
   "id": "f12569fa",
   "metadata": {
    "slideshow": {
     "slide_type": "subslide"
    }
   },
   "source": [
    "Two ways to check whether an object is of the specified type:\n",
    "\n",
    "* `type(2) is int`\n",
    "* `isinstance(2, int) `"
   ]
  },
  {
   "cell_type": "code",
   "execution_count": null,
   "id": "7c5fba50",
   "metadata": {},
   "outputs": [],
   "source": [
    "type(2) is int"
   ]
  },
  {
   "cell_type": "code",
   "execution_count": null,
   "id": "b350f850",
   "metadata": {},
   "outputs": [],
   "source": [
    "isinstance(2, int) "
   ]
  },
  {
   "attachments": {},
   "cell_type": "markdown",
   "id": "d3a78926",
   "metadata": {
    "slideshow": {
     "slide_type": "slide"
    }
   },
   "source": [
    "# Next Class\n",
    "\n",
    "* lists\n",
    "* tuples\n",
    "\n",
    "Readings:\n",
    "\n",
    "* Chapter 12"
   ]
  },
  {
   "cell_type": "code",
   "execution_count": null,
   "id": "cc74919f",
   "metadata": {},
   "outputs": [],
   "source": []
  }
 ],
 "metadata": {
  "celltoolbar": "Slideshow",
  "kernelspec": {
   "display_name": "Python 3 (ipykernel)",
   "language": "python",
   "name": "python3"
  },
  "language_info": {
   "codemirror_mode": {
    "name": "ipython",
    "version": 3
   },
   "file_extension": ".py",
   "mimetype": "text/x-python",
   "name": "python",
   "nbconvert_exporter": "python",
   "pygments_lexer": "ipython3",
   "version": "3.9.13"
  }
 },
 "nbformat": 4,
 "nbformat_minor": 5
}
