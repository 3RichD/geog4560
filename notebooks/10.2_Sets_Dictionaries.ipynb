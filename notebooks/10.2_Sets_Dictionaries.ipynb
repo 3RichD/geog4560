{
 "cells": [
  {
   "cell_type": "markdown",
   "id": "f6f7754f",
   "metadata": {
    "slideshow": {
     "slide_type": "slide"
    }
   },
   "source": [
    "# Introduction to Python for Open Source Geocomputation\n",
    "\n",
    "![python](pics/python-logo-master-v3-TM.png)\n",
    "\n",
    "* Instructor: Dr. Wei Kang\n",
    "* Class Location and Time: ENV 336, Mon & Wed 12:30 pm - 1:50 pm\n",
    "\n",
    "Content:\n",
    "\n",
    "* Sets\n",
    "* Dictionaries\n",
    "* Review of Container data types \n"
   ]
  },
  {
   "cell_type": "markdown",
   "id": "aa001915",
   "metadata": {
    "slideshow": {
     "slide_type": "slide"
    }
   },
   "source": [
    "# Standard Data Types in Python - Sets\n",
    "\n",
    "| Category of Data type | Data type            | Example    |\n",
    "| -------------- | -------------------- | ---------- |\n",
    "| Numeric, scalar         | Integer| 1       |\n",
    "|        | Floats   | 1.2   |\n",
    "|          | Complex    | 1.5+0.5j  |\n",
    "|         | Booleans   | True    |\n",
    "| Container    | strings   | \"Hello World\"   |\n",
    "|     | List   | [1, \"Hello World\"]  |\n",
    "|     | Tuple   | (1, \"Hello World\")  |\n",
    "|     | Set   | {1, \"Hello World\"}   |\n",
    "|     | Dictionary   | {1: \"Hello World\", 2: 100} |"
   ]
  },
  {
   "cell_type": "markdown",
   "id": "b8780838",
   "metadata": {
    "slideshow": {
     "slide_type": "subslide"
    }
   },
   "source": [
    "## Sets in python\n",
    "\n",
    "`{1, \"Hello World\"}`\n",
    "\n",
    "* A collection of **unordered** objects\n",
    "    * indexing and slicing will not work  \n",
    "* Set elements are **unique**. Duplicate elements are not allowed.\n",
    "    * when you create a set, python will remove the \"redundant\"/\"repeated\" elements automatically\n",
    "* Supports operations and concepts from set theory\n",
    "* A set itself may be modified (mutable), but the elements contained in the set must be of an immutable type.\n"
   ]
  },
  {
   "cell_type": "markdown",
   "id": "27f8f84a",
   "metadata": {
    "slideshow": {
     "slide_type": "subslide"
    }
   },
   "source": [
    "### Questions (randomly selecting a student for each question):\n",
    "\n",
    "* Can list be an element of a set?\n",
    "* Can string be an element of a set?\n",
    "* Can tuple be an element of a set?"
   ]
  },
  {
   "cell_type": "code",
   "execution_count": 1,
   "id": "41a47ad5",
   "metadata": {},
   "outputs": [
    {
     "ename": "TypeError",
     "evalue": "unhashable type: 'list'",
     "output_type": "error",
     "traceback": [
      "\u001b[0;31m---------------------------------------------------------------------------\u001b[0m",
      "\u001b[0;31mTypeError\u001b[0m                                 Traceback (most recent call last)",
      "Cell \u001b[0;32mIn[1], line 1\u001b[0m\n\u001b[0;32m----> 1\u001b[0m {[\u001b[38;5;241m1\u001b[39m,\u001b[38;5;241m2\u001b[39m]}\n",
      "\u001b[0;31mTypeError\u001b[0m: unhashable type: 'list'"
     ]
    }
   ],
   "source": [
    "{[1,2]}"
   ]
  },
  {
   "cell_type": "code",
   "execution_count": 2,
   "id": "c4291910",
   "metadata": {},
   "outputs": [
    {
     "data": {
      "text/plain": [
       "{(1, 2)}"
      ]
     },
     "execution_count": 2,
     "metadata": {},
     "output_type": "execute_result"
    }
   ],
   "source": [
    "{(1,2)}"
   ]
  },
  {
   "cell_type": "code",
   "execution_count": 3,
   "id": "9dfa5cd0",
   "metadata": {},
   "outputs": [
    {
     "data": {
      "text/plain": [
       "{'s'}"
      ]
     },
     "execution_count": 3,
     "metadata": {},
     "output_type": "execute_result"
    }
   ],
   "source": [
    "{\"s\"}"
   ]
  },
  {
   "cell_type": "markdown",
   "id": "f7e652d7",
   "metadata": {
    "slideshow": {
     "slide_type": "subslide"
    }
   },
   "source": [
    "### Creating a set\n",
    "\n",
    "* Assignment operation: `set_a = {1,2}`\n",
    "    * enclosed by curly brackets \n",
    "* Function `set()`"
   ]
  },
  {
   "cell_type": "code",
   "execution_count": 4,
   "id": "649f6abf",
   "metadata": {},
   "outputs": [
    {
     "data": {
      "text/plain": [
       "{1, 2}"
      ]
     },
     "execution_count": 4,
     "metadata": {},
     "output_type": "execute_result"
    }
   ],
   "source": [
    "set_a = {1,2}\n",
    "set_a"
   ]
  },
  {
   "cell_type": "code",
   "execution_count": 5,
   "id": "a85df9ab",
   "metadata": {},
   "outputs": [
    {
     "data": {
      "text/plain": [
       "set"
      ]
     },
     "execution_count": 5,
     "metadata": {},
     "output_type": "execute_result"
    }
   ],
   "source": [
    "type(set_a)"
   ]
  },
  {
   "cell_type": "code",
   "execution_count": 6,
   "id": "3fca642d",
   "metadata": {},
   "outputs": [
    {
     "data": {
      "text/plain": [
       "{1, 2, 3, 4}"
      ]
     },
     "execution_count": 6,
     "metadata": {},
     "output_type": "execute_result"
    }
   ],
   "source": [
    "set_a = {1,2,1,3,4,1}\n",
    "set_a"
   ]
  },
  {
   "cell_type": "code",
   "execution_count": 7,
   "id": "d0a7af9e",
   "metadata": {},
   "outputs": [],
   "source": [
    "s = \"python\""
   ]
  },
  {
   "cell_type": "code",
   "execution_count": 8,
   "id": "7ab47d2a",
   "metadata": {},
   "outputs": [
    {
     "data": {
      "text/plain": [
       "{'h', 'n', 'o', 'p', 't', 'y'}"
      ]
     },
     "execution_count": 8,
     "metadata": {},
     "output_type": "execute_result"
    }
   ],
   "source": [
    "set(s)"
   ]
  },
  {
   "cell_type": "code",
   "execution_count": 9,
   "id": "bf8c7fe5",
   "metadata": {},
   "outputs": [
    {
     "data": {
      "text/plain": [
       "['p', 'y', 't', 'h', 'o', 'n']"
      ]
     },
     "execution_count": 9,
     "metadata": {},
     "output_type": "execute_result"
    }
   ],
   "source": [
    "list(s)"
   ]
  },
  {
   "cell_type": "code",
   "execution_count": 10,
   "id": "192e6d67",
   "metadata": {},
   "outputs": [
    {
     "data": {
      "text/plain": [
       "('p', 'y', 't', 'h', 'o', 'n')"
      ]
     },
     "execution_count": 10,
     "metadata": {},
     "output_type": "execute_result"
    }
   ],
   "source": [
    "tuple(s)"
   ]
  },
  {
   "cell_type": "code",
   "execution_count": 11,
   "id": "af34dc11",
   "metadata": {},
   "outputs": [],
   "source": [
    "list_a = ['I', 'like', 'python']"
   ]
  },
  {
   "cell_type": "code",
   "execution_count": 12,
   "id": "fe19a7da",
   "metadata": {},
   "outputs": [
    {
     "data": {
      "text/plain": [
       "{'I', 'like', 'python'}"
      ]
     },
     "execution_count": 12,
     "metadata": {},
     "output_type": "execute_result"
    }
   ],
   "source": [
    "set(list_a)"
   ]
  },
  {
   "cell_type": "code",
   "execution_count": 13,
   "id": "627c0a26",
   "metadata": {},
   "outputs": [
    {
     "data": {
      "text/plain": [
       "['I', 'like', 'python', 'I', 'like', 'python', 'I', 'like', 'python']"
      ]
     },
     "execution_count": 13,
     "metadata": {},
     "output_type": "execute_result"
    }
   ],
   "source": [
    "list_b = list_a * 3\n",
    "list_b"
   ]
  },
  {
   "cell_type": "code",
   "execution_count": 14,
   "id": "d648aa88",
   "metadata": {},
   "outputs": [
    {
     "data": {
      "text/plain": [
       "{'I', 'like', 'python'}"
      ]
     },
     "execution_count": 14,
     "metadata": {},
     "output_type": "execute_result"
    }
   ],
   "source": [
    "set(list_b)"
   ]
  },
  {
   "cell_type": "code",
   "execution_count": 15,
   "id": "81d46f1b",
   "metadata": {},
   "outputs": [
    {
     "data": {
      "text/plain": [
       "(1, 2, 3, 4)"
      ]
     },
     "execution_count": 15,
     "metadata": {},
     "output_type": "execute_result"
    }
   ],
   "source": [
    "a = 1,2,3,4\n",
    "a"
   ]
  },
  {
   "cell_type": "code",
   "execution_count": 16,
   "id": "ab6557cd",
   "metadata": {},
   "outputs": [
    {
     "data": {
      "text/plain": [
       "tuple"
      ]
     },
     "execution_count": 16,
     "metadata": {},
     "output_type": "execute_result"
    }
   ],
   "source": [
    "type(a)"
   ]
  },
  {
   "cell_type": "code",
   "execution_count": 17,
   "id": "291c412b",
   "metadata": {},
   "outputs": [
    {
     "data": {
      "text/plain": [
       "{1, 2, 3, 4}"
      ]
     },
     "execution_count": 17,
     "metadata": {},
     "output_type": "execute_result"
    }
   ],
   "source": [
    "set(a)"
   ]
  },
  {
   "cell_type": "code",
   "execution_count": 18,
   "id": "e3ccccc9",
   "metadata": {},
   "outputs": [
    {
     "ename": "TypeError",
     "evalue": "'int' object is not iterable",
     "output_type": "error",
     "traceback": [
      "\u001b[0;31m---------------------------------------------------------------------------\u001b[0m",
      "\u001b[0;31mTypeError\u001b[0m                                 Traceback (most recent call last)",
      "Cell \u001b[0;32mIn[18], line 1\u001b[0m\n\u001b[0;32m----> 1\u001b[0m \u001b[38;5;28;43mset\u001b[39;49m\u001b[43m(\u001b[49m\u001b[38;5;241;43m1\u001b[39;49m\u001b[43m)\u001b[49m\n",
      "\u001b[0;31mTypeError\u001b[0m: 'int' object is not iterable"
     ]
    }
   ],
   "source": [
    "set(1)"
   ]
  },
  {
   "cell_type": "code",
   "execution_count": 19,
   "id": "b027135f",
   "metadata": {},
   "outputs": [
    {
     "data": {
      "text/plain": [
       "{1}"
      ]
     },
     "execution_count": 19,
     "metadata": {},
     "output_type": "execute_result"
    }
   ],
   "source": [
    "set([1])"
   ]
  },
  {
   "cell_type": "markdown",
   "id": "854e2a60",
   "metadata": {
    "slideshow": {
     "slide_type": "subslide"
    }
   },
   "source": [
    "## Grow a set with **in-place** methods\n",
    "\n",
    "* `set.add()`:\n",
    "    * add an item to a set\n",
    "    * similar to `list.append()`\n",
    "* `set.update()`: \n",
    "    * Update a set with the union of itself and others.\n",
    "    * the input argument should be an iterable (container data type)\n",
    "    * similar to `list.extend()`"
   ]
  },
  {
   "cell_type": "code",
   "execution_count": 20,
   "id": "5d8e9349",
   "metadata": {},
   "outputs": [],
   "source": [
    "set_a = {1,2,\"python\"}"
   ]
  },
  {
   "cell_type": "code",
   "execution_count": 21,
   "id": "f39ba250",
   "metadata": {},
   "outputs": [],
   "source": [
    "set_a.add(10)"
   ]
  },
  {
   "cell_type": "code",
   "execution_count": 22,
   "id": "3394473f",
   "metadata": {},
   "outputs": [
    {
     "data": {
      "text/plain": [
       "{1, 10, 2, 'python'}"
      ]
     },
     "execution_count": 22,
     "metadata": {},
     "output_type": "execute_result"
    }
   ],
   "source": [
    "set_a"
   ]
  },
  {
   "cell_type": "code",
   "execution_count": 23,
   "id": "3d25cc26",
   "metadata": {},
   "outputs": [],
   "source": [
    "set_a.add(10)"
   ]
  },
  {
   "cell_type": "code",
   "execution_count": 24,
   "id": "0bcac5b8",
   "metadata": {},
   "outputs": [
    {
     "data": {
      "text/plain": [
       "{1, 10, 2, 'python'}"
      ]
     },
     "execution_count": 24,
     "metadata": {},
     "output_type": "execute_result"
    }
   ],
   "source": [
    "set_a"
   ]
  },
  {
   "cell_type": "code",
   "execution_count": 25,
   "id": "57dd8118",
   "metadata": {},
   "outputs": [
    {
     "data": {
      "text/plain": [
       "{1, 10, 2, 'python'}"
      ]
     },
     "execution_count": 25,
     "metadata": {},
     "output_type": "execute_result"
    }
   ],
   "source": [
    "set_a = {1, 10, 2, 'python'}\n",
    "set_a"
   ]
  },
  {
   "cell_type": "code",
   "execution_count": 26,
   "id": "f2e446a8",
   "metadata": {},
   "outputs": [],
   "source": [
    "set_a.add((11, 12))"
   ]
  },
  {
   "cell_type": "code",
   "execution_count": 27,
   "id": "7a98df84",
   "metadata": {},
   "outputs": [
    {
     "data": {
      "text/plain": [
       "{(11, 12), 1, 10, 2, 'python'}"
      ]
     },
     "execution_count": 27,
     "metadata": {},
     "output_type": "execute_result"
    }
   ],
   "source": [
    "set_a"
   ]
  },
  {
   "cell_type": "code",
   "execution_count": 28,
   "id": "9553dbff",
   "metadata": {},
   "outputs": [
    {
     "data": {
      "text/plain": [
       "{1, 10, 2, 'python'}"
      ]
     },
     "execution_count": 28,
     "metadata": {},
     "output_type": "execute_result"
    }
   ],
   "source": [
    "set_a = {1, 10, 2, 'python'}\n",
    "set_a"
   ]
  },
  {
   "cell_type": "code",
   "execution_count": 29,
   "id": "4b24f31f",
   "metadata": {},
   "outputs": [],
   "source": [
    "set_a.update((11, 12))"
   ]
  },
  {
   "cell_type": "code",
   "execution_count": 30,
   "id": "1872ba0f",
   "metadata": {},
   "outputs": [
    {
     "data": {
      "text/plain": [
       "{1, 10, 11, 12, 2, 'python'}"
      ]
     },
     "execution_count": 30,
     "metadata": {},
     "output_type": "execute_result"
    }
   ],
   "source": [
    "set_a"
   ]
  },
  {
   "cell_type": "code",
   "execution_count": 31,
   "id": "b689daaf",
   "metadata": {},
   "outputs": [
    {
     "ename": "TypeError",
     "evalue": "'int' object is not iterable",
     "output_type": "error",
     "traceback": [
      "\u001b[0;31m---------------------------------------------------------------------------\u001b[0m",
      "\u001b[0;31mTypeError\u001b[0m                                 Traceback (most recent call last)",
      "Cell \u001b[0;32mIn[31], line 1\u001b[0m\n\u001b[0;32m----> 1\u001b[0m \u001b[43mset_a\u001b[49m\u001b[38;5;241;43m.\u001b[39;49m\u001b[43mupdate\u001b[49m\u001b[43m(\u001b[49m\u001b[38;5;241;43m1\u001b[39;49m\u001b[43m)\u001b[49m\n",
      "\u001b[0;31mTypeError\u001b[0m: 'int' object is not iterable"
     ]
    }
   ],
   "source": [
    "set_a.update(1)"
   ]
  },
  {
   "cell_type": "code",
   "execution_count": 32,
   "id": "dad305d3",
   "metadata": {},
   "outputs": [
    {
     "data": {
      "text/plain": [
       "{1, 10, 11, 12, 2, 'python'}"
      ]
     },
     "execution_count": 32,
     "metadata": {},
     "output_type": "execute_result"
    }
   ],
   "source": [
    "set_a"
   ]
  },
  {
   "cell_type": "code",
   "execution_count": 33,
   "id": "fbf8ddcc",
   "metadata": {},
   "outputs": [
    {
     "ename": "TypeError",
     "evalue": "unhashable type: 'set'",
     "output_type": "error",
     "traceback": [
      "\u001b[0;31m---------------------------------------------------------------------------\u001b[0m",
      "\u001b[0;31mTypeError\u001b[0m                                 Traceback (most recent call last)",
      "Cell \u001b[0;32mIn[33], line 1\u001b[0m\n\u001b[0;32m----> 1\u001b[0m \u001b[43mset_a\u001b[49m\u001b[38;5;241;43m.\u001b[39;49m\u001b[43madd\u001b[49m\u001b[43m(\u001b[49m\u001b[43m{\u001b[49m\u001b[38;5;241;43m11\u001b[39;49m\u001b[43m,\u001b[49m\u001b[43m \u001b[49m\u001b[38;5;241;43m12\u001b[39;49m\u001b[43m}\u001b[49m\u001b[43m)\u001b[49m\n",
      "\u001b[0;31mTypeError\u001b[0m: unhashable type: 'set'"
     ]
    }
   ],
   "source": [
    "set_a.add({11, 12})"
   ]
  },
  {
   "cell_type": "code",
   "execution_count": 34,
   "id": "fbf7aa90",
   "metadata": {},
   "outputs": [],
   "source": [
    "set_a = {1, 10, 2, 'python'}"
   ]
  },
  {
   "cell_type": "code",
   "execution_count": 35,
   "id": "e234b3b7",
   "metadata": {},
   "outputs": [],
   "source": [
    "set_a.update([11, 12])"
   ]
  },
  {
   "cell_type": "code",
   "execution_count": 36,
   "id": "2f200d42",
   "metadata": {},
   "outputs": [
    {
     "data": {
      "text/plain": [
       "{1, 10, 11, 12, 2, 'python'}"
      ]
     },
     "execution_count": 36,
     "metadata": {},
     "output_type": "execute_result"
    }
   ],
   "source": [
    "set_a"
   ]
  },
  {
   "cell_type": "code",
   "execution_count": 37,
   "id": "2752b9c6",
   "metadata": {},
   "outputs": [
    {
     "ename": "TypeError",
     "evalue": "'int' object is not iterable",
     "output_type": "error",
     "traceback": [
      "\u001b[0;31m---------------------------------------------------------------------------\u001b[0m",
      "\u001b[0;31mTypeError\u001b[0m                                 Traceback (most recent call last)",
      "Cell \u001b[0;32mIn[37], line 1\u001b[0m\n\u001b[0;32m----> 1\u001b[0m \u001b[43mset_a\u001b[49m\u001b[38;5;241;43m.\u001b[39;49m\u001b[43mupdate\u001b[49m\u001b[43m(\u001b[49m\u001b[38;5;241;43m100\u001b[39;49m\u001b[43m)\u001b[49m\n",
      "\u001b[0;31mTypeError\u001b[0m: 'int' object is not iterable"
     ]
    }
   ],
   "source": [
    "set_a.update(100)"
   ]
  },
  {
   "cell_type": "code",
   "execution_count": 38,
   "id": "c6d0f83b",
   "metadata": {},
   "outputs": [
    {
     "data": {
      "text/plain": [
       "{1, 10, 11, 12, 2, 'python'}"
      ]
     },
     "execution_count": 38,
     "metadata": {},
     "output_type": "execute_result"
    }
   ],
   "source": [
    "set_a"
   ]
  },
  {
   "cell_type": "markdown",
   "id": "2c8fa0b2",
   "metadata": {
    "slideshow": {
     "slide_type": "subslide"
    }
   },
   "source": [
    "## Shrink a set with **in-place** methods\n",
    "\n",
    "* `set.remove()`:\n",
    "    * reomove an item to a set\n",
    "    * similar to `list.remove()`\n",
    "* `set.pop()`: \n",
    "    * removes and returns an arbitrary element from a set."
   ]
  },
  {
   "cell_type": "code",
   "execution_count": 39,
   "id": "d80e49e4",
   "metadata": {},
   "outputs": [],
   "source": [
    "set_a = {1, 10, 11, 12, 2, 'python'}"
   ]
  },
  {
   "cell_type": "code",
   "execution_count": 40,
   "id": "c1557005",
   "metadata": {},
   "outputs": [],
   "source": [
    "set_a.remove(1)"
   ]
  },
  {
   "cell_type": "code",
   "execution_count": 41,
   "id": "010302c1",
   "metadata": {},
   "outputs": [
    {
     "data": {
      "text/plain": [
       "{10, 11, 12, 2, 'python'}"
      ]
     },
     "execution_count": 41,
     "metadata": {},
     "output_type": "execute_result"
    }
   ],
   "source": [
    "set_a"
   ]
  },
  {
   "cell_type": "code",
   "execution_count": 42,
   "id": "4b582a8e",
   "metadata": {},
   "outputs": [
    {
     "data": {
      "text/plain": [
       "2"
      ]
     },
     "execution_count": 42,
     "metadata": {},
     "output_type": "execute_result"
    }
   ],
   "source": [
    "set_a.pop()"
   ]
  },
  {
   "cell_type": "code",
   "execution_count": 43,
   "id": "699e9948",
   "metadata": {},
   "outputs": [
    {
     "data": {
      "text/plain": [
       "'python'"
      ]
     },
     "execution_count": 43,
     "metadata": {},
     "output_type": "execute_result"
    }
   ],
   "source": [
    "set_a.pop()"
   ]
  },
  {
   "cell_type": "code",
   "execution_count": 44,
   "id": "b416723b",
   "metadata": {},
   "outputs": [
    {
     "data": {
      "text/plain": [
       "{10, 11, 12}"
      ]
     },
     "execution_count": 44,
     "metadata": {},
     "output_type": "execute_result"
    }
   ],
   "source": [
    "set_a"
   ]
  },
  {
   "cell_type": "code",
   "execution_count": 45,
   "id": "4075e1a1",
   "metadata": {},
   "outputs": [],
   "source": [
    "list_a = [12,34,523,454,356]"
   ]
  },
  {
   "cell_type": "code",
   "execution_count": 46,
   "id": "d48bcefe",
   "metadata": {},
   "outputs": [
    {
     "data": {
      "text/plain": [
       "[356, 454, 523, 34, 12]"
      ]
     },
     "execution_count": 46,
     "metadata": {},
     "output_type": "execute_result"
    }
   ],
   "source": [
    "new_list = []\n",
    "for i in range(len(list_a)):\n",
    "    \n",
    "    new_list.append(list_a.pop())\n",
    "new_list"
   ]
  },
  {
   "cell_type": "code",
   "execution_count": 47,
   "id": "f688e2ba",
   "metadata": {},
   "outputs": [
    {
     "data": {
      "text/plain": [
       "[356, 454, 523, 34, 12]"
      ]
     },
     "execution_count": 47,
     "metadata": {},
     "output_type": "execute_result"
    }
   ],
   "source": [
    "new_list"
   ]
  },
  {
   "cell_type": "code",
   "execution_count": 48,
   "id": "8d7595d0",
   "metadata": {},
   "outputs": [
    {
     "data": {
      "text/plain": [
       "{10, 11, 12}"
      ]
     },
     "execution_count": 48,
     "metadata": {},
     "output_type": "execute_result"
    }
   ],
   "source": [
    "set_a"
   ]
  },
  {
   "cell_type": "code",
   "execution_count": 49,
   "id": "818739e2",
   "metadata": {},
   "outputs": [
    {
     "data": {
      "text/plain": [
       "3"
      ]
     },
     "execution_count": 49,
     "metadata": {},
     "output_type": "execute_result"
    }
   ],
   "source": [
    "len(set_a)"
   ]
  },
  {
   "cell_type": "markdown",
   "id": "7314953e",
   "metadata": {
    "slideshow": {
     "slide_type": "subslide"
    }
   },
   "source": [
    "### Mathematical operations with Sets - set theory\n",
    "\n",
    "Relationship between two or more sets\n",
    "\n",
    "![Python-Set-Operatioons](pics/Python-Set-Operatioons.png)"
   ]
  },
  {
   "cell_type": "markdown",
   "id": "9706e616",
   "metadata": {
    "slideshow": {
     "slide_type": "subslide"
    }
   },
   "source": [
    "Check whether a set is a subset of another set\n",
    "\n",
    "<img src=\"pics/subset.png\" width=\"300\">"
   ]
  },
  {
   "cell_type": "code",
   "execution_count": 50,
   "id": "85a223b4",
   "metadata": {},
   "outputs": [],
   "source": [
    "group1 = set([1, 2, 3, 4, 5])\n",
    "group2 = set([2,6,7])\n",
    "group3 = {1,2,3}"
   ]
  },
  {
   "cell_type": "code",
   "execution_count": 51,
   "id": "11688ed6",
   "metadata": {},
   "outputs": [
    {
     "data": {
      "text/plain": [
       "False"
      ]
     },
     "execution_count": 51,
     "metadata": {},
     "output_type": "execute_result"
    }
   ],
   "source": [
    "group2.issubset(group1)"
   ]
  },
  {
   "cell_type": "code",
   "execution_count": 52,
   "id": "b89a048e",
   "metadata": {},
   "outputs": [
    {
     "data": {
      "text/plain": [
       "True"
      ]
     },
     "execution_count": 52,
     "metadata": {},
     "output_type": "execute_result"
    }
   ],
   "source": [
    "group3.issubset(group1)"
   ]
  },
  {
   "cell_type": "code",
   "execution_count": 53,
   "id": "98521a37",
   "metadata": {},
   "outputs": [
    {
     "data": {
      "text/plain": [
       "False"
      ]
     },
     "execution_count": 53,
     "metadata": {},
     "output_type": "execute_result"
    }
   ],
   "source": [
    "group2.issuperset(group1)"
   ]
  },
  {
   "cell_type": "code",
   "execution_count": 54,
   "id": "aefd742e",
   "metadata": {},
   "outputs": [],
   "source": [
    "group1 = set([1, 2, 3, 4, 5])\n",
    "group2 = set([2,6,7])\n",
    "group3 = {1,2,3}"
   ]
  },
  {
   "cell_type": "code",
   "execution_count": 55,
   "id": "b981c589",
   "metadata": {},
   "outputs": [
    {
     "data": {
      "text/plain": [
       "False"
      ]
     },
     "execution_count": 55,
     "metadata": {},
     "output_type": "execute_result"
    }
   ],
   "source": [
    "group1.issubset(group3)"
   ]
  },
  {
   "cell_type": "markdown",
   "id": "fde2f276",
   "metadata": {
    "slideshow": {
     "slide_type": "subslide"
    }
   },
   "source": [
    "### Operations on two or more sets\n",
    "\n",
    "![Python-Set-Operatioons](pics/Python-Set-Operatioons.png)"
   ]
  },
  {
   "cell_type": "code",
   "execution_count": 56,
   "id": "cf764195",
   "metadata": {},
   "outputs": [],
   "source": [
    "group1 = set([1, 2, 3, 4, 5])\n",
    "group2 = set([2,6,7])\n",
    "group3 = {1,2,3}"
   ]
  },
  {
   "cell_type": "code",
   "execution_count": 57,
   "id": "374d57b2",
   "metadata": {},
   "outputs": [
    {
     "data": {
      "text/plain": [
       "{1, 2, 3, 4, 5, 6, 7}"
      ]
     },
     "execution_count": 57,
     "metadata": {},
     "output_type": "execute_result"
    }
   ],
   "source": [
    "group1.union(group2)"
   ]
  },
  {
   "cell_type": "code",
   "execution_count": 58,
   "id": "56b0af97",
   "metadata": {},
   "outputs": [
    {
     "data": {
      "text/plain": [
       "{1, 2, 3, 4, 5, 6, 7}"
      ]
     },
     "execution_count": 58,
     "metadata": {},
     "output_type": "execute_result"
    }
   ],
   "source": [
    "group1.union(group2, group3)"
   ]
  },
  {
   "cell_type": "code",
   "execution_count": 59,
   "id": "705887a8",
   "metadata": {},
   "outputs": [
    {
     "data": {
      "text/plain": [
       "{2}"
      ]
     },
     "execution_count": 59,
     "metadata": {},
     "output_type": "execute_result"
    }
   ],
   "source": [
    "group1.intersection(group2)"
   ]
  },
  {
   "cell_type": "code",
   "execution_count": 60,
   "id": "01631423",
   "metadata": {},
   "outputs": [],
   "source": [
    "group1 = set([1, 2, 3, 4, 5])\n",
    "group2 = set([2,6,7])\n",
    "group3 = {1,2,3}"
   ]
  },
  {
   "cell_type": "code",
   "execution_count": 61,
   "id": "e6ec8bd2",
   "metadata": {},
   "outputs": [
    {
     "data": {
      "text/plain": [
       "{1, 3, 4, 5}"
      ]
     },
     "execution_count": 61,
     "metadata": {},
     "output_type": "execute_result"
    }
   ],
   "source": [
    "group1.difference(group2)"
   ]
  },
  {
   "cell_type": "code",
   "execution_count": 62,
   "id": "bcf671dd",
   "metadata": {},
   "outputs": [
    {
     "data": {
      "text/plain": [
       "{6, 7}"
      ]
     },
     "execution_count": 62,
     "metadata": {},
     "output_type": "execute_result"
    }
   ],
   "source": [
    "group2.difference(group1)"
   ]
  },
  {
   "cell_type": "code",
   "execution_count": 63,
   "id": "94a280d0",
   "metadata": {},
   "outputs": [
    {
     "data": {
      "text/plain": [
       "{1, 3, 4, 5, 6, 7}"
      ]
     },
     "execution_count": 63,
     "metadata": {},
     "output_type": "execute_result"
    }
   ],
   "source": [
    "group1.symmetric_difference(group2)"
   ]
  },
  {
   "cell_type": "markdown",
   "id": "52beaa3e",
   "metadata": {
    "slideshow": {
     "slide_type": "subslide"
    }
   },
   "source": [
    "The ``symmetric difference`` of two sets is defined as the set of elements\n",
    "which are in one or the other, but not both, of the sets"
   ]
  },
  {
   "cell_type": "markdown",
   "id": "ca65d6f0",
   "metadata": {
    "slideshow": {
     "slide_type": "subslide"
    }
   },
   "source": [
    "### Group Exercise \n",
    "\n",
    "Write python code to remove items 10, 20, 30 from a given set `set1 = {10, 20, 30, 40, 50}`\n",
    "\n",
    "> When you are done, raise your hand!"
   ]
  },
  {
   "cell_type": "code",
   "execution_count": 64,
   "id": "4cbe91df",
   "metadata": {},
   "outputs": [],
   "source": [
    "set1 = {10, 20, 30, 40, 50}"
   ]
  },
  {
   "cell_type": "code",
   "execution_count": 65,
   "id": "78868af9",
   "metadata": {},
   "outputs": [],
   "source": [
    "new_set = {10, 20, 30}"
   ]
  },
  {
   "cell_type": "code",
   "execution_count": 66,
   "id": "b0ed9c29",
   "metadata": {},
   "outputs": [
    {
     "data": {
      "text/plain": [
       "{40, 50}"
      ]
     },
     "execution_count": 66,
     "metadata": {},
     "output_type": "execute_result"
    }
   ],
   "source": [
    "set1.difference(new_set)"
   ]
  },
  {
   "cell_type": "code",
   "execution_count": 67,
   "id": "0f5a04c2",
   "metadata": {},
   "outputs": [],
   "source": [
    "set1 = {10, 20, 30, 40, 50}"
   ]
  },
  {
   "cell_type": "code",
   "execution_count": 68,
   "id": "1111832f",
   "metadata": {},
   "outputs": [
    {
     "ename": "KeyError",
     "evalue": "'10'",
     "output_type": "error",
     "traceback": [
      "\u001b[0;31m---------------------------------------------------------------------------\u001b[0m",
      "\u001b[0;31mKeyError\u001b[0m                                  Traceback (most recent call last)",
      "Cell \u001b[0;32mIn[68], line 1\u001b[0m\n\u001b[0;32m----> 1\u001b[0m \u001b[43mset1\u001b[49m\u001b[38;5;241;43m.\u001b[39;49m\u001b[43mremove\u001b[49m\u001b[43m(\u001b[49m\u001b[38;5;124;43m\"\u001b[39;49m\u001b[38;5;124;43m10\u001b[39;49m\u001b[38;5;124;43m\"\u001b[39;49m\u001b[43m)\u001b[49m\n",
      "\u001b[0;31mKeyError\u001b[0m: '10'"
     ]
    }
   ],
   "source": [
    "set1.remove(\"10\")"
   ]
  },
  {
   "cell_type": "code",
   "execution_count": 69,
   "id": "9cd431ec",
   "metadata": {},
   "outputs": [
    {
     "data": {
      "text/plain": [
       "{40, 50}"
      ]
     },
     "execution_count": 69,
     "metadata": {},
     "output_type": "execute_result"
    }
   ],
   "source": [
    "set1.remove(10)\n",
    "set1.remove(20)\n",
    "set1.remove(30)\n",
    "set1"
   ]
  },
  {
   "cell_type": "code",
   "execution_count": 70,
   "id": "10f1418f",
   "metadata": {},
   "outputs": [],
   "source": [
    "set1 = {10, 20, 30, 40, 50}"
   ]
  },
  {
   "cell_type": "code",
   "execution_count": 71,
   "id": "f25e8417",
   "metadata": {},
   "outputs": [
    {
     "data": {
      "text/plain": [
       "{40, 50}"
      ]
     },
     "execution_count": 71,
     "metadata": {},
     "output_type": "execute_result"
    }
   ],
   "source": [
    "set1.difference({10, 20, 30})"
   ]
  },
  {
   "cell_type": "code",
   "execution_count": 72,
   "id": "4a5b2e47",
   "metadata": {},
   "outputs": [
    {
     "data": {
      "text/plain": [
       "{40, 50}"
      ]
     },
     "execution_count": 72,
     "metadata": {},
     "output_type": "execute_result"
    }
   ],
   "source": [
    "set1 = {10, 20, 30, 40, 50}\n",
    "set1.symmetric_difference({10, 20, 30})"
   ]
  },
  {
   "cell_type": "code",
   "execution_count": 73,
   "id": "c3eed79b",
   "metadata": {},
   "outputs": [
    {
     "data": {
      "text/plain": [
       "{10, 20, 30, 40, 50}"
      ]
     },
     "execution_count": 73,
     "metadata": {},
     "output_type": "execute_result"
    }
   ],
   "source": [
    "set1"
   ]
  },
  {
   "cell_type": "markdown",
   "id": "3c8e6cfc",
   "metadata": {
    "slideshow": {
     "slide_type": "slide"
    }
   },
   "source": [
    "# Standard Data Types in Python - Dictionaries\n",
    "\n",
    "| Category of Data type | Data type            | Example    |\n",
    "| -------------- | -------------------- | ---------- |\n",
    "| Numeric, scalar         | Integer| 1       |\n",
    "|        | Floats   | 1.2   |\n",
    "|          | Complex    | 1.5+0.5j  |\n",
    "|         | Booleans   | True    |\n",
    "| Container    | strings   | \"Hello World\"   |\n",
    "|     | List   | [1, \"Hello World\"]  |\n",
    "|     | Tuple   | (1, \"Hello World\")  |\n",
    "|     | Set   | {1, \"Hello World\"}   |\n",
    "|     | Dictionary   | {1: \"Hello World\", 2: 100} |"
   ]
  },
  {
   "cell_type": "markdown",
   "id": "7c26e2dd",
   "metadata": {
    "slideshow": {
     "slide_type": "subslide"
    }
   },
   "source": [
    "## Dictionaries in python\n",
    "\n",
    "```python\n",
    "{1: \"Hello World\", 2: 100}\n",
    "```\n",
    "\n",
    "```python\n",
    "{\"first\": \"Hello World\", \"second\": 100}\n",
    "```\n",
    "\n",
    "\n",
    "* Intuitive: a dictionary in python is like a dictionary we normally encounter\n",
    "    * a dictionary represents a mapping from keys to values\n",
    "    * e.g., a English-Spanish dictionary:\n",
    "        * mapping from a English word (key) to a Spanish word (value)\n",
    "* A collection of **key-value pairs** \n",
    "    * key can be any immutable data type\n",
    "    * value can be any data type\n",
    "    * each key-value pair is considered as an item\n",
    "* indexed by **keys**, not a range of numbers\n",
    "    * Duplicate keys are not allowed\n",
    "    * Duplicate values are allowed\n",
    "* mutable\n",
    "    * we can change the key-value pair using assignment statements\n",
    "* very powerful and efficient for some problems"
   ]
  },
  {
   "cell_type": "markdown",
   "id": "a9e224f1",
   "metadata": {
    "slideshow": {
     "slide_type": "subslide"
    }
   },
   "source": [
    "## Creating a dictionary\n",
    "\n",
    "* Assignment statement: multiple ways\n",
    "* Function `dict()` "
   ]
  },
  {
   "cell_type": "markdown",
   "id": "63f0e9bb",
   "metadata": {
    "slideshow": {
     "slide_type": "subslide"
    }
   },
   "source": [
    "#### Create a dictionary by defining pairs of keys and values\n",
    "\n",
    "`dict_person = {'name': 'John', 'age': '36', 'country': 'Norway'}`\n",
    "\n",
    "* enclosed by curly brackets (similar to sets) `{}`\n",
    "* comma `,` seperating items (key-value pairs)\n",
    "* colon `:` seperating a key from the correspinding value"
   ]
  },
  {
   "cell_type": "code",
   "execution_count": 74,
   "id": "467a4219",
   "metadata": {},
   "outputs": [
    {
     "data": {
      "text/plain": [
       "{'name': 'John', 'age': '36', 'country': 'Norway'}"
      ]
     },
     "execution_count": 74,
     "metadata": {},
     "output_type": "execute_result"
    }
   ],
   "source": [
    "dict_person = {'name': 'John', 'age': '36', 'country': 'Norway'}\n",
    "dict_person"
   ]
  },
  {
   "cell_type": "code",
   "execution_count": 75,
   "id": "bf52e78c",
   "metadata": {},
   "outputs": [
    {
     "data": {
      "text/plain": [
       "dict"
      ]
     },
     "execution_count": 75,
     "metadata": {},
     "output_type": "execute_result"
    }
   ],
   "source": [
    "type(dict_person)"
   ]
  },
  {
   "cell_type": "markdown",
   "id": "915da01b",
   "metadata": {
    "slideshow": {
     "slide_type": "subslide"
    }
   },
   "source": [
    "#### Create an empty dictionary and add key-value pairs using key index assignment\n",
    "\n",
    "```python\n",
    "dict_person = {}\n",
    "dict_person['name'] = 'John'\n",
    "```\n",
    "\n",
    "* for dictionaries, key is the \"index\"\n",
    "* indexing is \"similar\" to lists, but the \"index\" is not numbers, but keys (could be any immutable data types)"
   ]
  },
  {
   "cell_type": "code",
   "execution_count": 76,
   "id": "b02e5553",
   "metadata": {},
   "outputs": [
    {
     "data": {
      "text/plain": [
       "dict"
      ]
     },
     "execution_count": 76,
     "metadata": {},
     "output_type": "execute_result"
    }
   ],
   "source": [
    "dict_person = {}\n",
    "type(dict_person)"
   ]
  },
  {
   "cell_type": "code",
   "execution_count": 77,
   "id": "8c56e323",
   "metadata": {},
   "outputs": [],
   "source": [
    "dict_person['name'] = 'John'\n",
    "dict_person['age'] = '36'\n",
    "dict_person['country'] = 'Norway'"
   ]
  },
  {
   "cell_type": "code",
   "execution_count": 78,
   "id": "c2e8ca07",
   "metadata": {},
   "outputs": [
    {
     "data": {
      "text/plain": [
       "{'name': 'John', 'age': '36', 'country': 'Norway'}"
      ]
     },
     "execution_count": 78,
     "metadata": {},
     "output_type": "execute_result"
    }
   ],
   "source": [
    "dict_person"
   ]
  },
  {
   "cell_type": "code",
   "execution_count": 79,
   "id": "47a8a4b9",
   "metadata": {},
   "outputs": [],
   "source": [
    "dict_person[(\"country\", \"weather\")] = ('Norway', 'sunny')"
   ]
  },
  {
   "cell_type": "code",
   "execution_count": 80,
   "id": "3f807182",
   "metadata": {},
   "outputs": [
    {
     "data": {
      "text/plain": [
       "{'name': 'John',\n",
       " 'age': '36',\n",
       " 'country': 'Norway',\n",
       " ('country', 'weather'): ('Norway', 'sunny')}"
      ]
     },
     "execution_count": 80,
     "metadata": {},
     "output_type": "execute_result"
    }
   ],
   "source": [
    "dict_person"
   ]
  },
  {
   "cell_type": "code",
   "execution_count": 81,
   "id": "a4a342e0",
   "metadata": {},
   "outputs": [
    {
     "ename": "TypeError",
     "evalue": "unhashable type: 'list'",
     "output_type": "error",
     "traceback": [
      "\u001b[0;31m---------------------------------------------------------------------------\u001b[0m",
      "\u001b[0;31mTypeError\u001b[0m                                 Traceback (most recent call last)",
      "Cell \u001b[0;32mIn[81], line 1\u001b[0m\n\u001b[0;32m----> 1\u001b[0m dict_person[[\u001b[38;5;124m\"\u001b[39m\u001b[38;5;124mcountry\u001b[39m\u001b[38;5;124m\"\u001b[39m, \u001b[38;5;124m\"\u001b[39m\u001b[38;5;124mweather\u001b[39m\u001b[38;5;124m\"\u001b[39m]] \u001b[38;5;241m=\u001b[39m (\u001b[38;5;124m'\u001b[39m\u001b[38;5;124mNorway\u001b[39m\u001b[38;5;124m'\u001b[39m, \u001b[38;5;124m'\u001b[39m\u001b[38;5;124msunny\u001b[39m\u001b[38;5;124m'\u001b[39m)\n",
      "\u001b[0;31mTypeError\u001b[0m: unhashable type: 'list'"
     ]
    }
   ],
   "source": [
    "dict_person[[\"country\", \"weather\"]] = ('Norway', 'sunny')"
   ]
  },
  {
   "cell_type": "markdown",
   "id": "422bf7c9",
   "metadata": {},
   "source": [
    "#### Creating a dictionary with `dict()` using pairs of keys and values \n",
    "\n",
    "* pairs could be of any ordered container data types, e.g., tuples, lists"
   ]
  },
  {
   "cell_type": "code",
   "execution_count": 82,
   "id": "ae38e7fc",
   "metadata": {},
   "outputs": [
    {
     "data": {
      "text/plain": [
       "{'name': 'John', 'age': '36', 'country': 'Norway'}"
      ]
     },
     "execution_count": 82,
     "metadata": {},
     "output_type": "execute_result"
    }
   ],
   "source": [
    "dict_person = dict( ( ('name','John'), ('age',\"36\"), ('country', \"Norway\")) )\n",
    "dict_person"
   ]
  },
  {
   "cell_type": "code",
   "execution_count": 83,
   "id": "69e06f50",
   "metadata": {},
   "outputs": [
    {
     "data": {
      "text/plain": [
       "{'name': 'John', 'age': '36', 'country': 'Norway'}"
      ]
     },
     "execution_count": 83,
     "metadata": {},
     "output_type": "execute_result"
    }
   ],
   "source": [
    "dict_person = dict( [ ['name','John'], ['age',\"36\"], ['country', \"Norway\"]] )\n",
    "dict_person"
   ]
  },
  {
   "cell_type": "markdown",
   "id": "593f654f",
   "metadata": {},
   "source": [
    "### Obtaining values using keys\n",
    "\n",
    "* similar to Lists' indexing"
   ]
  },
  {
   "cell_type": "code",
   "execution_count": 84,
   "id": "420e27c2",
   "metadata": {},
   "outputs": [
    {
     "data": {
      "text/plain": [
       "{'name': 'John', 'age': '36', 'country': 'Norway'}"
      ]
     },
     "execution_count": 84,
     "metadata": {},
     "output_type": "execute_result"
    }
   ],
   "source": [
    "dict_person"
   ]
  },
  {
   "cell_type": "code",
   "execution_count": 85,
   "id": "03544fff",
   "metadata": {},
   "outputs": [
    {
     "data": {
      "text/plain": [
       "'John'"
      ]
     },
     "execution_count": 85,
     "metadata": {},
     "output_type": "execute_result"
    }
   ],
   "source": [
    "dict_person['name']"
   ]
  },
  {
   "cell_type": "markdown",
   "id": "7d17f4e0",
   "metadata": {},
   "source": [
    "### Dictionary Methods"
   ]
  },
  {
   "cell_type": "code",
   "execution_count": 86,
   "id": "914c7794",
   "metadata": {},
   "outputs": [
    {
     "data": {
      "text/plain": [
       "{'name': 'John', 'age': '36', 'country': 'Norway'}"
      ]
     },
     "execution_count": 86,
     "metadata": {},
     "output_type": "execute_result"
    }
   ],
   "source": [
    "dict_person"
   ]
  },
  {
   "cell_type": "code",
   "execution_count": 87,
   "id": "f45e6082",
   "metadata": {},
   "outputs": [
    {
     "data": {
      "text/plain": [
       "dict_keys(['name', 'age', 'country'])"
      ]
     },
     "execution_count": 87,
     "metadata": {},
     "output_type": "execute_result"
    }
   ],
   "source": [
    "dict_person.keys() # returns a collection of keys"
   ]
  },
  {
   "cell_type": "code",
   "execution_count": 88,
   "id": "503773a4",
   "metadata": {},
   "outputs": [
    {
     "data": {
      "text/plain": [
       "dict_values(['John', '36', 'Norway'])"
      ]
     },
     "execution_count": 88,
     "metadata": {},
     "output_type": "execute_result"
    }
   ],
   "source": [
    "dict_person.values() # returns a collection of values"
   ]
  },
  {
   "cell_type": "markdown",
   "id": "36bf0968",
   "metadata": {},
   "source": [
    "`in` operator\n",
    "\n",
    "* tells you whether something appears as a **key** in the dictionary"
   ]
  },
  {
   "cell_type": "code",
   "execution_count": 89,
   "id": "0838f8ed",
   "metadata": {},
   "outputs": [
    {
     "data": {
      "text/plain": [
       "{'name': 'John', 'age': '36', 'country': 'Norway'}"
      ]
     },
     "execution_count": 89,
     "metadata": {},
     "output_type": "execute_result"
    }
   ],
   "source": [
    "dict_person"
   ]
  },
  {
   "cell_type": "code",
   "execution_count": 90,
   "id": "fb0ce52f",
   "metadata": {},
   "outputs": [
    {
     "data": {
      "text/plain": [
       "True"
      ]
     },
     "execution_count": 90,
     "metadata": {},
     "output_type": "execute_result"
    }
   ],
   "source": [
    "'name' in dict_person"
   ]
  },
  {
   "cell_type": "code",
   "execution_count": 91,
   "id": "36e79109",
   "metadata": {},
   "outputs": [
    {
     "data": {
      "text/plain": [
       "True"
      ]
     },
     "execution_count": 91,
     "metadata": {},
     "output_type": "execute_result"
    }
   ],
   "source": [
    "'name' in dict_person.keys()"
   ]
  },
  {
   "cell_type": "code",
   "execution_count": 92,
   "id": "8cc89800",
   "metadata": {},
   "outputs": [
    {
     "data": {
      "text/plain": [
       "False"
      ]
     },
     "execution_count": 92,
     "metadata": {},
     "output_type": "execute_result"
    }
   ],
   "source": [
    "'John' in dict_person"
   ]
  },
  {
   "cell_type": "code",
   "execution_count": 93,
   "id": "338b7bf2",
   "metadata": {},
   "outputs": [
    {
     "data": {
      "text/plain": [
       "{'name': 'John', 'age': '36', 'country': 'Norway'}"
      ]
     },
     "execution_count": 93,
     "metadata": {},
     "output_type": "execute_result"
    }
   ],
   "source": [
    "dict_person"
   ]
  },
  {
   "cell_type": "code",
   "execution_count": 94,
   "id": "20cf4d5c",
   "metadata": {},
   "outputs": [
    {
     "data": {
      "text/plain": [
       "True"
      ]
     },
     "execution_count": 94,
     "metadata": {},
     "output_type": "execute_result"
    }
   ],
   "source": [
    "'John' in dict_person.values()"
   ]
  },
  {
   "cell_type": "code",
   "execution_count": 95,
   "id": "4b6345fa",
   "metadata": {},
   "outputs": [
    {
     "data": {
      "text/plain": [
       "3"
      ]
     },
     "execution_count": 95,
     "metadata": {},
     "output_type": "execute_result"
    }
   ],
   "source": [
    "len(dict_person)"
   ]
  },
  {
   "cell_type": "code",
   "execution_count": 96,
   "id": "38cfd801",
   "metadata": {},
   "outputs": [
    {
     "data": {
      "text/plain": [
       "dict_items([('name', 'John'), ('age', '36'), ('country', 'Norway')])"
      ]
     },
     "execution_count": 96,
     "metadata": {},
     "output_type": "execute_result"
    }
   ],
   "source": [
    "dict_person.items()"
   ]
  },
  {
   "cell_type": "markdown",
   "id": "5ee0a7c8",
   "metadata": {
    "slideshow": {
     "slide_type": "subslide"
    }
   },
   "source": [
    "Combining two dictionaries can be done with the ``update`` method (in-place method)"
   ]
  },
  {
   "cell_type": "code",
   "execution_count": 97,
   "id": "1f7b40e3",
   "metadata": {},
   "outputs": [
    {
     "data": {
      "text/plain": [
       "{1: 3, 4: 5}"
      ]
     },
     "execution_count": 97,
     "metadata": {},
     "output_type": "execute_result"
    }
   ],
   "source": [
    "dict_new = {1:3, 4:5}\n",
    "dict_new"
   ]
  },
  {
   "cell_type": "code",
   "execution_count": 98,
   "id": "45adf52b",
   "metadata": {},
   "outputs": [
    {
     "data": {
      "text/plain": [
       "{'name': 'John', 'age': '36', 'country': 'Norway'}"
      ]
     },
     "execution_count": 98,
     "metadata": {},
     "output_type": "execute_result"
    }
   ],
   "source": [
    "dict_person"
   ]
  },
  {
   "cell_type": "code",
   "execution_count": 99,
   "id": "0cbf0482",
   "metadata": {},
   "outputs": [],
   "source": [
    "dict_person.update(dict_new)"
   ]
  },
  {
   "cell_type": "code",
   "execution_count": 100,
   "id": "6c64ed5e",
   "metadata": {},
   "outputs": [
    {
     "data": {
      "text/plain": [
       "{'name': 'John', 'age': '36', 'country': 'Norway', 1: 3, 4: 5}"
      ]
     },
     "execution_count": 100,
     "metadata": {},
     "output_type": "execute_result"
    }
   ],
   "source": [
    "dict_person"
   ]
  },
  {
   "cell_type": "markdown",
   "id": "8fd13f7d",
   "metadata": {
    "slideshow": {
     "slide_type": "subslide"
    }
   },
   "source": [
    "### Looping dictionaries\n",
    "\n",
    "* If you use a dictionary in a `for` statement, it traverses the `keys` of the dictionary"
   ]
  },
  {
   "cell_type": "code",
   "execution_count": 101,
   "id": "fad51599",
   "metadata": {},
   "outputs": [
    {
     "name": "stdout",
     "output_type": "stream",
     "text": [
      "name\n",
      "age\n",
      "country\n",
      "1\n",
      "4\n"
     ]
    }
   ],
   "source": [
    "for a in dict_person:\n",
    "    print(a)"
   ]
  },
  {
   "cell_type": "code",
   "execution_count": 102,
   "id": "5babd582",
   "metadata": {},
   "outputs": [
    {
     "data": {
      "text/plain": [
       "{'name': 'John', 'age': '36', 'country': 'Norway', 1: 3, 4: 5}"
      ]
     },
     "execution_count": 102,
     "metadata": {},
     "output_type": "execute_result"
    }
   ],
   "source": [
    "dict_person"
   ]
  },
  {
   "cell_type": "code",
   "execution_count": 103,
   "id": "a8b59321",
   "metadata": {},
   "outputs": [
    {
     "name": "stdout",
     "output_type": "stream",
     "text": [
      "name John\n",
      "age 36\n",
      "country Norway\n",
      "1 3\n",
      "4 5\n"
     ]
    }
   ],
   "source": [
    "for a in dict_person:\n",
    "    print(a, dict_person[a])"
   ]
  },
  {
   "cell_type": "code",
   "execution_count": 104,
   "id": "fc0621d4",
   "metadata": {},
   "outputs": [
    {
     "name": "stdout",
     "output_type": "stream",
     "text": [
      "name John\n",
      "age 36\n",
      "country Norway\n",
      "1 3\n",
      "4 5\n"
     ]
    }
   ],
   "source": [
    "for key in dict_person:\n",
    "    print(key, dict_person[key])"
   ]
  },
  {
   "cell_type": "code",
   "execution_count": 105,
   "id": "ed25ada4",
   "metadata": {},
   "outputs": [
    {
     "data": {
      "text/plain": [
       "dict_items([('name', 'John'), ('age', '36'), ('country', 'Norway'), (1, 3), (4, 5)])"
      ]
     },
     "execution_count": 105,
     "metadata": {},
     "output_type": "execute_result"
    }
   ],
   "source": [
    "dict_person.items()"
   ]
  },
  {
   "cell_type": "code",
   "execution_count": 106,
   "id": "4b5d0da7",
   "metadata": {},
   "outputs": [
    {
     "name": "stdout",
     "output_type": "stream",
     "text": [
      "name John\n",
      "age 36\n",
      "country Norway\n",
      "1 3\n",
      "4 5\n"
     ]
    }
   ],
   "source": [
    "for key, values in dict_person.items(): #getting key,value pairs with method `items()`\n",
    "    print(key, values)"
   ]
  },
  {
   "cell_type": "markdown",
   "id": "e500c972",
   "metadata": {
    "slideshow": {
     "slide_type": "subslide"
    }
   },
   "source": [
    "### Group exercise\n",
    "\n",
    "\n",
    "Write a Python program to convert two lists into a dictionary in a way that item from list1 is the key and item from list2 is the value\n",
    "```python\n",
    "keys = ['Ten', 'Twenty', 'Thirty']\n",
    "values = [10, 20, 30]\n",
    "```\n",
    "> When you are done, raise your hand!"
   ]
  },
  {
   "cell_type": "code",
   "execution_count": 107,
   "id": "60d5a1cd",
   "metadata": {},
   "outputs": [],
   "source": [
    "keys = ['Ten', 'Twenty', 'Thirty']\n",
    "values = [10, 20, 30]"
   ]
  },
  {
   "cell_type": "code",
   "execution_count": 108,
   "id": "17f93368",
   "metadata": {},
   "outputs": [
    {
     "data": {
      "text/plain": [
       "{'Ten': 10, 'Twenty': 20, 'Thirty': 30}"
      ]
     },
     "execution_count": 108,
     "metadata": {},
     "output_type": "execute_result"
    }
   ],
   "source": [
    "dict_list = {}\n",
    "for i in range(3):\n",
    "    dict_list[keys[i]] = values[i]\n",
    "dict_list"
   ]
  },
  {
   "cell_type": "code",
   "execution_count": 109,
   "id": "c8880d73",
   "metadata": {},
   "outputs": [
    {
     "data": {
      "text/plain": [
       "{'Ten': 10, 'Twenty': 20, 'Thirty': 30}"
      ]
     },
     "execution_count": 109,
     "metadata": {},
     "output_type": "execute_result"
    }
   ],
   "source": [
    "dict(zip(keys, values))"
   ]
  },
  {
   "cell_type": "markdown",
   "id": "c4ff3e4a",
   "metadata": {
    "slideshow": {
     "slide_type": "subslide"
    }
   },
   "source": [
    "`zip()` function takes two or more iterables (like list, dict, string), aggregates them in a tuple, and returns it."
   ]
  },
  {
   "cell_type": "markdown",
   "id": "69fdba52",
   "metadata": {
    "slideshow": {
     "slide_type": "slide"
    }
   },
   "source": [
    "# Review of Python Container Data Types\n",
    "\n",
    "| Category of Data type | Data type            | Example    | Ordered|Mutable|Unique|\n",
    "| -------------- | -------------------- | ---------- |---------- |---------- |---------- |\n",
    "| Container    | strings   | \"Hello World\"   ||||\n",
    "|     | List   | [1, \"Hello World\"]  ||||\n",
    "|     | Tuple   | (1, \"Hello World\")  ||||\n",
    "|     | Set   | {1, \"Hello World\"}   ||||\n",
    "|     | Dictionary   | {1: \"Hello World\", 2: 100} ||||\n",
    "\n",
    "### _Questions?_\n",
    "\n",
    "* What is a string in python?\n",
    "* What is a list in python?\n",
    "* What is a tuple in python?\n",
    "* What is a set in python?\n",
    "* What is a dictionary in python?\n",
    "* What are the differences between these container data types?"
   ]
  },
  {
   "cell_type": "markdown",
   "id": "ad9fe366",
   "metadata": {
    "slideshow": {
     "slide_type": "subslide"
    }
   },
   "source": [
    "## Review of Python Container Data Types\n",
    "\n",
    "| Category of Data type | Data type            | Example    | Ordered|Mutable|Unique|\n",
    "| -------------- | -------------------- | ---------- |---------- |---------- |---------- |\n",
    "| Container    | strings   | \"Hello World\"   |Yes|No|No|\n",
    "|     | List   | [1, \"Hello World\"]  |Yes|Yes|No|\n",
    "|     | Tuple   | (1, \"Hello World\")  |Yes|No|No|\n",
    "|     | Set   | {1, \"Hello World\"}   |No|No|Yes|\n",
    "|     | Dictionary   | {1: \"Hello World\", 2: 100} |No|Yes|Yes|"
   ]
  },
  {
   "cell_type": "markdown",
   "id": "1c46057d",
   "metadata": {
    "slideshow": {
     "slide_type": "slide"
    }
   },
   "source": [
    "## Further readings\n",
    "\n",
    "* [tutorial of python Sets](https://realpython.com/python-sets/)\n",
    "* [tutorial of python dictionaries](https://realpython.com/python-dicts/)"
   ]
  },
  {
   "cell_type": "markdown",
   "id": "411f2d53",
   "metadata": {},
   "source": [
    "# Assginments\n",
    "\n",
    "* Mid-term exam\n",
    "* HW5 released later today"
   ]
  },
  {
   "attachments": {},
   "cell_type": "markdown",
   "id": "d3a78926",
   "metadata": {
    "slideshow": {
     "slide_type": "slide"
    }
   },
   "source": [
    "# Next Class\n",
    "\n",
    "* Functions\n",
    "* Iteration \n",
    "\n",
    "Readings:\n",
    "\n",
    "* Chapters 6, 7"
   ]
  },
  {
   "cell_type": "code",
   "execution_count": null,
   "id": "d8112c2e",
   "metadata": {},
   "outputs": [],
   "source": []
  }
 ],
 "metadata": {
  "celltoolbar": "Slideshow",
  "kernelspec": {
   "display_name": "Python 3 (ipykernel)",
   "language": "python",
   "name": "python3"
  },
  "language_info": {
   "codemirror_mode": {
    "name": "ipython",
    "version": 3
   },
   "file_extension": ".py",
   "mimetype": "text/x-python",
   "name": "python",
   "nbconvert_exporter": "python",
   "pygments_lexer": "ipython3",
   "version": "3.9.13"
  }
 },
 "nbformat": 4,
 "nbformat_minor": 5
}
